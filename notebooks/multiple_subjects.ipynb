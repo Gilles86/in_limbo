{
 "metadata": {
  "name": "",
  "signature": "sha256:7cf6f1787e5f3d64fa92ad50f33e31b6a0ef830b38145beb8e14d1700d365473"
 },
 "nbformat": 3,
 "nbformat_minor": 0,
 "worksheets": [
  {
   "cells": [
    {
     "cell_type": "markdown",
     "metadata": {},
     "source": [
      "# Multiple subjects case"
     ]
    },
    {
     "cell_type": "code",
     "collapsed": false,
     "input": [
      "import scipy as sp\n",
      "from scipy import stats\n",
      "\n",
      "import nipy.modalities.fmri.design_matrix as dm\n",
      "from nipy.modalities.fmri.experimental_paradigm import EventRelatedParadigm"
     ],
     "language": "python",
     "metadata": {},
     "outputs": [],
     "prompt_number": 91
    },
    {
     "cell_type": "markdown",
     "metadata": {},
     "source": [
      "### Simulate data"
     ]
    },
    {
     "cell_type": "code",
     "collapsed": false,
     "input": [
      "# import rpy\n",
      "from rpy2.robjects import r\n",
      "from rpy2.robjects import FloatVector, IntVector, ListVector\n",
      "\n",
      "# Import neuRosim\n",
      "r['library']('neuRosim')\n",
      "\n",
      "def simulate_data(onsets, # Onsets per condition, per region\n",
      "                  nscans=100, # Number of scans\n",
      "                  TR=2.0,     # Tr\n",
      "                  region_centers = [[20, 20], [60, 60]],  # Centers of regions\n",
      "                  region_radiuses = [15, 10],             # Size of regions\n",
      "                  effect_sizes = [[2.0], [.75]],        # Effect sizes of conditions per region per \n",
      "                                                          # condition [[r1c1, r1c2], [r2c1, r2c2]]\n",
      "                  durations = [[2.0], [2.0]],             # Durations per region, per condition\n",
      "                  SNR = 15,       # SNR\n",
      "                  FWHM = 5,        # Amount of smoothing                        \n",
      "                  n_regions = 2,   # Number of regions\n",
      "                  fading = 0.1,    # Amount of fading from regions to outside\n",
      "                  size = [80, 80], # Total size of images\n",
      "                  ):\n",
      "       \n",
      "    # Get total duration of scan\n",
      "    total_time = nscans * TR\n",
      "    \n",
      "    # Convert input to R objects\n",
      "    onsets = [[FloatVector(ol_cond) for ol_cond in ol_region] for ol_region in onsets]\n",
      "    region_centers = [FloatVector(rc) for rc in region_centers]\n",
      "    size = IntVector(size)\n",
      "    \n",
      "\n",
      "    # Set up design (neuRosim)\n",
      "    design = r['simprepTemporal'](regions=n_regions, \n",
      "                                  onsets=onsets, \n",
      "                                  durations=durations, \n",
      "                                  TR=TR, \n",
      "                                  totaltime=total_time, \n",
      "                                  effectsize=effect_sizes)\n",
      "\n",
      "    \n",
      "    # Set up the spatial map (neuRosim)\n",
      "    spatial = r['simprepSpatial'](regions=n_regions, \n",
      "                                  coord=region_centers, \n",
      "                                  radius=region_radiuses,\n",
      "                                  form=\"sphere\", \n",
      "                                  fading=fading)\n",
      "    \n",
      "    # Get the simulated tata (neuRosim)\n",
      "    sim_data = r['simVOLfmri'](design=design, \n",
      "                               image=spatial, \n",
      "                               SNR=SNR, \n",
      "                               noise=\"mixture\", \n",
      "                               dim=size, \n",
      "                               w=FloatVector([0.05,0.1,0.01,0.09,0.05,0.7]),\n",
      "                               FWHM=FWHM,\n",
      "                               spat='gammaRF')\n",
      "                    \n",
      "               \n",
      "\n",
      "    \n",
      "    return np.array(sim_data)\n",
      "\n"
     ],
     "language": "python",
     "metadata": {},
     "outputs": [],
     "prompt_number": 92
    },
    {
     "cell_type": "markdown",
     "metadata": {},
     "source": [
      "First we need a function that creates random parameters to simulate multiple subjects with different brain anatomies"
     ]
    },
    {
     "cell_type": "code",
     "collapsed": false,
     "input": [
      "def simulate_subject(spatial_jitter, \n",
      "                     radius_jitter, \n",
      "                     effect_size_jitter, \n",
      "                     effect_sizes=[2.5, 0.75],\n",
      "                     snr_jitter=1, \n",
      "                     standard_snr=2.0):\n",
      "    import numpy as np\n",
      "    rand_nrs = np.random.randn(4)\n",
      "    \n",
      "    region_centers = [[25 + rand_nrs[0] * spatial_jitter, 25 + rand_nrs[1] * spatial_jitter],\n",
      "                      [55 + rand_nrs[2] * spatial_jitter, 55 + rand_nrs[3] * spatial_jitter]]\n",
      "    \n",
      "    \n",
      "    rand_nrs = np.random.randn(2)\n",
      "    radiuses = [15 + rand_nrs[0] * radius_jitter, 10 + rand_nrs[1] * radius_jitter]\n",
      "    \n",
      "    rand_nrs = np.random.randn(2)\n",
      "    effect_sizes = [[np.min((effect_sizes[0] + rand_nrs[0] * effect_size_jitter, 0))], [np.min((effect_sizes[1],  + rand_nrs[1] * effect_size_jitter))]]\n",
      "    \n",
      "    rand_nrs = np.random.randn(1)\n",
      "    snr = standard_snr + np.max(rand_nrs[0] * snr_jitter, 0.1)\n",
      "    \n",
      "    return region_centers, radiuses, effect_sizes, snr"
     ],
     "language": "python",
     "metadata": {},
     "outputs": [],
     "prompt_number": 123
    },
    {
     "cell_type": "markdown",
     "metadata": {},
     "source": [
      "Let's do 20 subjects\n",
      "\n",
      "We jitter over regions by making them normally distributed (sd = 5 voxel). We do the same for radius of the region (sd=5) and the effect size (sd=.5)."
     ]
    },
    {
     "cell_type": "code",
     "collapsed": false,
     "input": [
      "n_subjects = 20\n",
      "n_scans = 500\n",
      "TR = 2.0\n",
      "onsets = np.arange(10, n_scans*TR, 15)\n",
      "\n",
      "region_centers, radiuses, effect_sizes, snr = zip(*[simulate_subject(5, 5, .5) for i in np.arange(n_subjects)])\n",
      "                                                    \n",
      "ms_data = [] #Multiple subjects-data...\n",
      "\n",
      "for (region_center, radius, effect_size, snr) in zip(region_centers, radiuses, effect_sizes, snr):\n",
      "    ms_data.append(simulate_data([[onsets]] *2, # For both regions, for one condition...\n",
      "                 nscans=n_scans,\n",
      "                 FWHM=5,\n",
      "                 fading=0.01,\n",
      "                 region_centers=region_center,\n",
      "                 region_radiuses=radius,\n",
      "                 effect_sizes=effect_size,))"
     ],
     "language": "python",
     "metadata": {},
     "outputs": []
    },
    {
     "cell_type": "code",
     "collapsed": false,
     "input": [
      "np.save('/home/gdholla1/notebooks/ms_data.np', ms_data)"
     ],
     "language": "python",
     "metadata": {},
     "outputs": []
    },
    {
     "cell_type": "markdown",
     "metadata": {},
     "source": [
      "### Fit GLM"
     ]
    },
    {
     "cell_type": "markdown",
     "metadata": {},
     "source": [
      "Now write a function that fits a single subject GLM with sandwich estimation"
     ]
    },
    {
     "cell_type": "code",
     "collapsed": false,
     "input": [
      "def fit_sandwich_glm(data, onsets, q=25, c=None):\n",
      "    \n",
      "    if c == None:\n",
      "        c = np.array([[1, 0, 0]])\n",
      "    \n",
      "    # Set up paradigm and design matrix\n",
      "    paradigm = EventRelatedParadigm(['task']*len(onsets), onsets)\n",
      "    TR = 2.0\n",
      "    frametimes = np.arange(0, data.shape[-1] * TR, TR) \n",
      "\n",
      "    X, names = dm.dmtx_light(frametimes, paradigm, drift_model='polynomial',\n",
      "                 hfcut=128, hrf_model='canonical')\n",
      "    \n",
      "    \n",
      "    # cut up data\n",
      "    cuts = np.linspace(0, data.shape[-1], q+1)\n",
      "\n",
      "    data_cut = np.array([data[:, :, cuts[i]:cuts[i+1]] for i in np.arange(q)])\n",
      "    X_cut = np.array([X[cuts[i]:cuts[i+1], :] for i in np.arange(q)])\n",
      "    \n",
      "    beta = np.zeros((X.shape[1],)+ data.shape[:-1])  # (num_regressors, size_x, size_y)    \n",
      "    \n",
      "    # Fit GLM\n",
      "    predicted = np.zeros_like(data_cut)\n",
      "    residuals = np.zeros_like(data_cut)\n",
      "\n",
      "    for i, x in enumerate(X_cut):\n",
      "        # tensortdot is necessary to indicate which axes need to be 'summed' and get beta\n",
      "        beta += np.einsum('ij,klj', np.linalg.pinv(x.T.dot(x)).dot(x.T), data_cut[i])\n",
      "\n",
      "    beta /= q\n",
      "\n",
      "    for i, x in enumerate(X_cut):\n",
      "        # Now we can get predicted timecourses\n",
      "        predicted[i] = np.tensordot(beta, x, (0, 1))\n",
      "\n",
      "        # ... and residuals\n",
      "        residuals[i] = data_cut[i] - predicted[i]\n",
      "    \n",
      "    # Estimate covariance residuals\n",
      "    W = np.zeros((residuals.shape[-1],) * 2 + data.shape[:-1]) # (length_block, length_block, width, height)\n",
      "\n",
      "    for residual in residuals:\n",
      "        W += np.einsum('...i, ...j->ij...', residual, residual) # do outer product over last two dimensions, broadcast the rest\n",
      "\n",
      "    W /= (q - 1)\n",
      "    \n",
      "    # Give variance matrix\n",
      "    V = np.zeros((X.shape[1],) * 2 + data.shape[:-1]) # (num_regresor, num_regressor, width, height)\n",
      "\n",
      "    for i, x in enumerate(X_cut):\n",
      "\n",
      "        sandwich1 = np.linalg.pinv(x.T.dot(x)).dot(x.T)    \n",
      "        sandwich2 = x.dot(np.linalg.pinv(x.T.dot(x)))\n",
      "\n",
      "        # Apply first part sandwich\n",
      "        v = np.tensordot(sandwich1, W, axes=((1), (0)))\n",
      "\n",
      "        # Apply second part\n",
      "        v = np.tensordot(v, sandwich2, (1, 0))\n",
      "\n",
      "        # Roll axis to get correct shape\n",
      "        v = np.rollaxis(v, -1, 1)\n",
      "\n",
      "        V += v\n",
      "    \n",
      "    # Correct for number of replications\n",
      "    V /= q\n",
      "    \n",
      "    # Get t- and z-maps\n",
      "    dof = q - 1\n",
      "    t = np.tensordot(c, beta, (1, 0)).squeeze()\n",
      "    t /= np.tensordot(np.tensordot(c, V, (1,0)), c.T, (1, 0)).squeeze()\n",
      "    t *= np.sqrt(dof)\n",
      "    \n",
      "    z = sp.stats.norm.ppf(sp.stats.t(dof).cdf(t))\n",
      "\n",
      "    # Correct for numerical rounding errors\n",
      "    z[z == np.inf] = z[z != np.inf].max()\n",
      "    \n",
      "    return beta, V, residuals, t, z\n",
      "    \n",
      "    "
     ],
     "language": "python",
     "metadata": {},
     "outputs": []
    },
    {
     "cell_type": "markdown",
     "metadata": {},
     "source": [
      "Fit all GLMs"
     ]
    },
    {
     "cell_type": "code",
     "collapsed": false,
     "input": [
      "betas, Vs, residualss, ts, zs = zip(*[fit_sandwich_glm(d, onsets) for d in ms_data])"
     ],
     "language": "python",
     "metadata": {},
     "outputs": [
      {
       "output_type": "stream",
       "stream": "stderr",
       "text": [
        "/usr/local/lib/python2.7/dist-packages/scipy/stats/_distn_infrastructure.py:1639: RuntimeWarning: invalid value encountered in greater\n",
        "  cond1 = (scale > 0) & (x > self.a) & (x < self.b)\n",
        "/usr/local/lib/python2.7/dist-packages/scipy/stats/_distn_infrastructure.py:1639: RuntimeWarning: invalid value encountered in less\n",
        "  cond1 = (scale > 0) & (x > self.a) & (x < self.b)\n",
        "/usr/local/lib/python2.7/dist-packages/scipy/stats/_distn_infrastructure.py:1640: RuntimeWarning: invalid value encountered in greater_equal\n",
        "  cond2 = (x >= self.b) & cond0\n",
        "/usr/local/lib/python2.7/dist-packages/scipy/stats/_distn_infrastructure.py:1803: RuntimeWarning: invalid value encountered in greater\n",
        "  cond1 = (0 < q) & (q < 1)\n",
        "/usr/local/lib/python2.7/dist-packages/scipy/stats/_distn_infrastructure.py:1803: RuntimeWarning: invalid value encountered in less\n",
        "  cond1 = (0 < q) & (q < 1)\n"
       ]
      }
     ],
     "prompt_number": 97
    },
    {
     "cell_type": "markdown",
     "metadata": {},
     "source": [
      "Show the mean of all z-maps, just as a quick check"
     ]
    },
    {
     "cell_type": "code",
     "collapsed": false,
     "input": [
      "zip(region_centers, radiuses, effect_sizes, snr)"
     ],
     "language": "python",
     "metadata": {},
     "outputs": [
      {
       "ename": "TypeError",
       "evalue": "zip argument #4 must support iteration",
       "output_type": "pyerr",
       "traceback": [
        "\u001b[1;31m---------------------------------------------------------------------------\u001b[0m\n\u001b[1;31mTypeError\u001b[0m                                 Traceback (most recent call last)",
        "\u001b[1;32m<ipython-input-120-a7c7e1698040>\u001b[0m in \u001b[0;36m<module>\u001b[1;34m()\u001b[0m\n\u001b[1;32m----> 1\u001b[1;33m \u001b[0mzip\u001b[0m\u001b[1;33m(\u001b[0m\u001b[0mregion_centers\u001b[0m\u001b[1;33m,\u001b[0m \u001b[0mradiuses\u001b[0m\u001b[1;33m,\u001b[0m \u001b[0meffect_sizes\u001b[0m\u001b[1;33m,\u001b[0m \u001b[0msnr\u001b[0m\u001b[1;33m)\u001b[0m\u001b[1;33m\u001b[0m\u001b[0m\n\u001b[0m",
        "\u001b[1;31mTypeError\u001b[0m: zip argument #4 must support iteration"
       ]
      }
     ],
     "prompt_number": 120
    },
    {
     "cell_type": "code",
     "collapsed": false,
     "input": [
      "plt.imshow(zs[3])"
     ],
     "language": "python",
     "metadata": {},
     "outputs": [
      {
       "metadata": {},
       "output_type": "pyout",
       "prompt_number": 115,
       "text": [
        "<matplotlib.image.AxesImage at 0x14dd62d0>"
       ]
      },
      {
       "output_type": "stream",
       "stream": "stderr",
       "text": [
        "/usr/local/lib/python2.7/dist-packages/numpy/ma/core.py:3855: UserWarning: Warning: converting a masked element to nan.\n",
        "  warnings.warn(\"Warning: converting a masked element to nan.\")\n",
        "/usr/local/lib/python2.7/dist-packages/numpy/ma/core.py:3855: UserWarning: Warning: converting a masked element to nan.\n",
        "  warnings.warn(\"Warning: converting a masked element to nan.\")\n"
       ]
      },
      {
       "metadata": {},
       "output_type": "display_data",
       "png": "[encoded data removed]",
       "text": [
        "<matplotlib.figure.Figure at 0x14dab0d0>"
       ]
      }
     ],
     "prompt_number": 115
    },
    {
     "cell_type": "code",
     "collapsed": false,
     "input": [],
     "language": "python",
     "metadata": {},
     "outputs": []
    },
    {
     "cell_type": "code",
     "collapsed": false,
     "input": [
      "plt.imshow(np.mean(zs, 0), cmap=plt.cm.hot)\n",
      "plt.grid('off')\n",
      "plt.colorbar()"
     ],
     "language": "python",
     "metadata": {},
     "outputs": [
      {
       "metadata": {},
       "output_type": "pyout",
       "prompt_number": 107,
       "text": [
        "<matplotlib.colorbar.Colorbar instance at 0xf5b2d40>"
       ]
      },
      {
       "metadata": {},
       "output_type": "display_data",
       "png": "[encoded data removed]",
       "text": [
        "<matplotlib.figure.Figure at 0xf1e8190>"
       ]
      }
     ],
     "prompt_number": 107
    },
    {
     "cell_type": "markdown",
     "metadata": {},
     "source": [
      "We save the data to nifti so we can use it in FSL. We also need a mask and a text file indicating the degrees of freedom."
     ]
    },
    {
     "cell_type": "code",
     "collapsed": false,
     "input": [
      "import nibabel as nb\n",
      "\n",
      "dof = len(ms_data) - 1\n",
      "np.savetxt('dof.txt', [dof], fmt='%d')\n",
      "\n",
      "\n",
      "# Just take a contrast with only first parameter for now\n",
      "for i in np.arange(len(ms_data)):\n",
      "    nb.save(nb.Nifti1Image(betas[i][0][..., np.newaxis], np.identity(4)), 'cope_%d.nii.gz' % i)\n",
      "    nb.save(nb.Nifti1Image(Vs[i][0, 0][..., np.newaxis], np.identity(4)), 'varcope_%d.nii.gz' % i)\n",
      "    \n",
      "nb.save(nb.Nifti1Image(np.ones_like(betas[0][0]), np.identity(4)), 'mask.nii.gz')"
     ],
     "language": "python",
     "metadata": {},
     "outputs": [],
     "prompt_number": 99
    },
    {
     "cell_type": "markdown",
     "metadata": {},
     "source": [
      "For the level 2 analysis we use the standard random effects model FLAME1 of the FSL package. Then we cluster using Gaussian Random Field Theory"
     ]
    },
    {
     "cell_type": "code",
     "collapsed": false,
     "input": [
      "import nipype.interfaces.io as nio\n",
      "import nipype.interfaces.fsl as fsl\n",
      "import nipype.pipeline.engine as pe\n",
      "from nipype.workflows.fmri.fsl.estimate import create_fixed_effects_flow\n",
      "import os\n",
      "\n",
      "# Standard fixed effets model\n",
      "level2 = create_fixed_effects_flow()\n",
      "level2.inputs.flameo.run_mode = 'flame1'\n",
      "level2.base_dir = '/home/gdholla1/workflow_folders/'\n",
      "\n",
      "\n",
      "# Use the contrasts and variances from the GLM\n",
      "level2.inputs.inputspec.copes = [os.path.abspath('cope_%d.nii.gz') % i for i in np.arange(len(ms_data))]\n",
      "level2.inputs.inputspec.varcopes = [os.path.abspath('varcope_%d.nii.gz') % i for i in np.arange(len(ms_data))]\n",
      "level2.inputs.inputspec.dof_files = [os.path.abspath('dof.txt')] * len(ms_data)\n",
      "level2.inputs.l2model.num_copes = len(ms_data)\n",
      "level2.inputs.flameo.mask_file = os.path.abspath('mask.nii.gz')\n",
      "\n",
      "\n",
      "# Estimate smoothness for GRF\n",
      "smooth_est = pe.Node(fsl.SmoothEstimate(), name='smooth_estimate')\n",
      "smooth_est.inputs.mask_file = os.path.abspath('mask.nii.gz')\n",
      "pickfirst = lambda x: x[0]\n",
      "level2.connect(level2.get_node('flameo'), ('zstats', pickfirst), smooth_est, 'zstat_file')\n",
      "\n",
      "cluster = pe.Node(fsl.Cluster(), name='cluster')\n",
      "cluster.inputs.threshold = 3.1\n",
      "cluster.inputs.out_threshold_file  = 'z_simulation_threshold.nii.gz'\n",
      "level2.connect(level2.get_node('flameo'), ('zstats', pickfirst), cluster, 'in_file')\n",
      "level2.connect(smooth_est, 'dlh', cluster, 'dlh')\n",
      "\n",
      "# Write data to datasink\n",
      "ds = pe.Node(nio.DataSink(), name='datasink')\n",
      "ds.inputs.base_directory = '/home/gdholla1/data/in_limbo'\n",
      "\n",
      "level2.connect(level2.get_node('flameo'), ('zstats', pickfirst), ds, 'zstats_simulation')\n",
      "level2.connect(cluster, 'threshold_file', ds, 'zstats_simulation.@out_threshold_file')\n",
      "\n",
      "level2.run()"
     ],
     "language": "python",
     "metadata": {},
     "outputs": [
      {
       "output_type": "stream",
       "stream": "stderr",
       "text": [
        "INFO:workflow:['check', 'execution', 'logging']\n"
       ]
      },
      {
       "output_type": "stream",
       "stream": "stderr",
       "text": [
        "INFO:workflow:Running serially.\n"
       ]
      },
      {
       "output_type": "stream",
       "stream": "stderr",
       "text": [
        "INFO:workflow:Executing node varcopemerge in dir: /home/gdholla1/workflow_folders/fixedfx/varcopemerge\n"
       ]
      },
      {
       "output_type": "stream",
       "stream": "stderr",
       "text": [
        "INFO:workflow:Executing node _varcopemerge0 in dir: /home/gdholla1/workflow_folders/fixedfx/varcopemerge/mapflow/_varcopemerge0\n"
       ]
      },
      {
       "output_type": "stream",
       "stream": "stderr",
       "text": [
        "INFO:workflow:Running: fslmerge -t varcope_0_merged.nii.gz /home/gdholla1/notebooks/varcope_0.nii.gz /home/gdholla1/notebooks/varcope_1.nii.gz /home/gdholla1/notebooks/varcope_2.nii.gz /home/gdholla1/notebooks/varcope_3.nii.gz /home/gdholla1/notebooks/varcope_4.nii.gz /home/gdholla1/notebooks/varcope_5.nii.gz /home/gdholla1/notebooks/varcope_6.nii.gz /home/gdholla1/notebooks/varcope_7.nii.gz /home/gdholla1/notebooks/varcope_8.nii.gz /home/gdholla1/notebooks/varcope_9.nii.gz /home/gdholla1/notebooks/varcope_10.nii.gz /home/gdholla1/notebooks/varcope_11.nii.gz /home/gdholla1/notebooks/varcope_12.nii.gz /home/gdholla1/notebooks/varcope_13.nii.gz /home/gdholla1/notebooks/varcope_14.nii.gz /home/gdholla1/notebooks/varcope_15.nii.gz /home/gdholla1/notebooks/varcope_16.nii.gz /home/gdholla1/notebooks/varcope_17.nii.gz /home/gdholla1/notebooks/varcope_18.nii.gz /home/gdholla1/notebooks/varcope_19.nii.gz\n"
       ]
      },
      {
       "output_type": "stream",
       "stream": "stderr",
       "text": [
        "INFO:workflow:Executing node copemerge in dir: /home/gdholla1/workflow_folders/fixedfx/copemerge\n"
       ]
      },
      {
       "output_type": "stream",
       "stream": "stderr",
       "text": [
        "INFO:workflow:Executing node _copemerge0 in dir: /home/gdholla1/workflow_folders/fixedfx/copemerge/mapflow/_copemerge0\n"
       ]
      },
      {
       "output_type": "stream",
       "stream": "stderr",
       "text": [
        "INFO:workflow:Running: fslmerge -t cope_0_merged.nii.gz /home/gdholla1/notebooks/cope_0.nii.gz /home/gdholla1/notebooks/cope_1.nii.gz /home/gdholla1/notebooks/cope_2.nii.gz /home/gdholla1/notebooks/cope_3.nii.gz /home/gdholla1/notebooks/cope_4.nii.gz /home/gdholla1/notebooks/cope_5.nii.gz /home/gdholla1/notebooks/cope_6.nii.gz /home/gdholla1/notebooks/cope_7.nii.gz /home/gdholla1/notebooks/cope_8.nii.gz /home/gdholla1/notebooks/cope_9.nii.gz /home/gdholla1/notebooks/cope_10.nii.gz /home/gdholla1/notebooks/cope_11.nii.gz /home/gdholla1/notebooks/cope_12.nii.gz /home/gdholla1/notebooks/cope_13.nii.gz /home/gdholla1/notebooks/cope_14.nii.gz /home/gdholla1/notebooks/cope_15.nii.gz /home/gdholla1/notebooks/cope_16.nii.gz /home/gdholla1/notebooks/cope_17.nii.gz /home/gdholla1/notebooks/cope_18.nii.gz /home/gdholla1/notebooks/cope_19.nii.gz\n"
       ]
      },
      {
       "output_type": "stream",
       "stream": "stderr",
       "text": [
        "INFO:workflow:Executing node gendofvolume in dir: /home/gdholla1/workflow_folders/fixedfx/gendofvolume\n"
       ]
      },
      {
       "output_type": "stream",
       "stream": "stderr",
       "text": [
        "INFO:workflow:Executing node l2model in dir: /home/gdholla1/workflow_folders/fixedfx/l2model\n"
       ]
      },
      {
       "output_type": "stream",
       "stream": "stderr",
       "text": [
        "INFO:workflow:Collecting precomputed outputs\n"
       ]
      },
      {
       "output_type": "stream",
       "stream": "stderr",
       "text": [
        "INFO:workflow:Executing node flameo in dir: /home/gdholla1/workflow_folders/fixedfx/flameo\n"
       ]
      },
      {
       "output_type": "stream",
       "stream": "stderr",
       "text": [
        "INFO:workflow:Executing node _flameo0 in dir: /home/gdholla1/workflow_folders/fixedfx/flameo/mapflow/_flameo0\n"
       ]
      },
      {
       "output_type": "stream",
       "stream": "stderr",
       "text": [
        "INFO:workflow:Running: flameo --copefile=/home/gdholla1/workflow_folders/fixedfx/copemerge/mapflow/_copemerge0/cope_0_merged.nii.gz --covsplitfile=/home/gdholla1/workflow_folders/fixedfx/l2model/design.grp --designfile=/home/gdholla1/workflow_folders/fixedfx/l2model/design.mat --dofvarcopefile=/home/gdholla1/workflow_folders/fixedfx/gendofvolume/dof_file.nii.gz --ld=stats --maskfile=/home/gdholla1/notebooks/mask.nii.gz --runmode=flame1 --tcontrastsfile=/home/gdholla1/workflow_folders/fixedfx/l2model/design.con --varcopefile=/home/gdholla1/workflow_folders/fixedfx/varcopemerge/mapflow/_varcopemerge0/varcope_0_merged.nii.gz\n"
       ]
      },
      {
       "output_type": "stream",
       "stream": "stderr",
       "text": [
        "INFO:interface:stdout 2014-10-24T11:51:20.576959:Log directory is: stats\n"
       ]
      },
      {
       "output_type": "stream",
       "stream": "stderr",
       "text": [
        "INFO:interface:stdout 2014-10-24T11:51:20.577814:Setting up:\n"
       ]
      },
      {
       "output_type": "stream",
       "stream": "stderr",
       "text": [
        "INFO:interface:stdout 2014-10-24T11:51:20.601380:ntptsing=20.000000 \n"
       ]
      },
      {
       "output_type": "stream",
       "stream": "stderr",
       "text": [
        "INFO:interface:stdout 2014-10-24T11:51:20.601380:\n"
       ]
      },
      {
       "output_type": "stream",
       "stream": "stderr",
       "text": [
        "INFO:interface:stdout 2014-10-24T11:51:20.601380:evs_group=1.000000 \n"
       ]
      },
      {
       "output_type": "stream",
       "stream": "stderr",
       "text": [
        "INFO:interface:stdout 2014-10-24T11:51:20.601380:\n"
       ]
      },
      {
       "output_type": "stream",
       "stream": "stderr",
       "text": [
        "INFO:interface:stdout 2014-10-24T11:51:20.602647:No f contrasts\n"
       ]
      },
      {
       "output_type": "stream",
       "stream": "stderr",
       "text": [
        "INFO:interface:stdout 2014-10-24T11:51:20.602647:\n"
       ]
      },
      {
       "output_type": "stream",
       "stream": "stderr",
       "text": [
        "INFO:interface:stdout 2014-10-24T11:51:20.602647:WARNING: The passed in varcope file, /home/gdholla1/workflow_folders/fixedfx/varcopemerge/mapflow/_varcopemerge0/varcope_0_merged.nii.gz, contains voxels inside the mask with zero (or negative) values. These voxels will be excluded from the analysis.\n"
       ]
      },
      {
       "output_type": "stream",
       "stream": "stderr",
       "text": [
        "INFO:interface:stdout 2014-10-24T11:51:20.602647:nevs=1\n"
       ]
      },
      {
       "output_type": "stream",
       "stream": "stderr",
       "text": [
        "INFO:interface:stdout 2014-10-24T11:51:20.602647:ntpts=20\n"
       ]
      },
      {
       "output_type": "stream",
       "stream": "stderr",
       "text": [
        "INFO:interface:stdout 2014-10-24T11:51:20.602647:ngs=1\n"
       ]
      },
      {
       "output_type": "stream",
       "stream": "stderr",
       "text": [
        "INFO:interface:stdout 2014-10-24T11:51:20.602647:nvoxels=0\n"
       ]
      },
      {
       "output_type": "stream",
       "stream": "stderr",
       "text": [
        "INFO:interface:stdout 2014-10-24T11:51:20.602647:Running:\n"
       ]
      },
      {
       "output_type": "stream",
       "stream": "stderr",
       "text": [
        "INFO:interface:stdout 2014-10-24T11:51:20.602647:nmaskvoxels=0\n"
       ]
      },
      {
       "output_type": "stream",
       "stream": "stderr",
       "text": [
        "INFO:interface:stdout 2014-10-24T11:51:20.602647:\n"
       ]
      },
      {
       "output_type": "stream",
       "stream": "stderr",
       "text": [
        "INFO:interface:stdout 2014-10-24T11:51:20.602647:nmaskvoxels=0\n"
       ]
      },
      {
       "output_type": "stream",
       "stream": "stderr",
       "text": [
        "INFO:interface:stdout 2014-10-24T11:51:20.602647:Saving results\n"
       ]
      },
      {
       "output_type": "stream",
       "stream": "stderr",
       "text": [
        "INFO:interface:stdout 2014-10-24T11:51:20.622855:\n"
       ]
      },
      {
       "output_type": "stream",
       "stream": "stderr",
       "text": [
        "INFO:interface:stdout 2014-10-24T11:51:20.622855:Log directory was: stats\n"
       ]
      },
      {
       "output_type": "stream",
       "stream": "stderr",
       "text": [
        "INFO:workflow:Executing node smooth_estimate in dir: /home/gdholla1/workflow_folders/fixedfx/smooth_estimate\n"
       ]
      },
      {
       "output_type": "stream",
       "stream": "stderr",
       "text": [
        "INFO:workflow:Running: smoothest --mask=/home/gdholla1/notebooks/mask.nii.gz --zstat=/home/gdholla1/workflow_folders/fixedfx/flameo/mapflow/_flameo0/stats/zstat1.nii.gz\n"
       ]
      },
      {
       "output_type": "stream",
       "stream": "stderr",
       "text": [
        "INFO:interface:stderr 2014-10-24T11:51:20.852828:WARNING: Extreme smoothness detected in X - possibly biased global estimate.\n"
       ]
      },
      {
       "output_type": "stream",
       "stream": "stderr",
       "text": [
        "INFO:interface:stderr 2014-10-24T11:51:20.852828:WARNING: Extreme smoothness detected in Y - possibly biased global estimate.\n"
       ]
      },
      {
       "output_type": "stream",
       "stream": "stderr",
       "text": [
        "INFO:interface:stdout 2014-10-24T11:51:20.854101:DLH nan\n"
       ]
      },
      {
       "output_type": "stream",
       "stream": "stderr",
       "text": [
        "INFO:interface:stdout 2014-10-24T11:51:20.854101:VOLUME 6400\n"
       ]
      },
      {
       "output_type": "stream",
       "stream": "stderr",
       "text": [
        "INFO:interface:stdout 2014-10-24T11:51:20.854101:RESELS nan\n"
       ]
      },
      {
       "output_type": "stream",
       "stream": "stderr",
       "text": [
        "INFO:workflow:Executing node cluster in dir: /home/gdholla1/workflow_folders/fixedfx/cluster\n"
       ]
      },
      {
       "output_type": "stream",
       "stream": "stderr",
       "text": [
        "INFO:workflow:Running: cluster --dlh=nan --in=/home/gdholla1/workflow_folders/fixedfx/flameo/mapflow/_flameo0/stats/zstat1.nii.gz --othresh=z_simulation_threshold.nii.gz --thresh=3.1000000000\n"
       ]
      },
      {
       "output_type": "stream",
       "stream": "stderr",
       "text": [
        "INFO:interface:stdout 2014-10-24T11:51:21.023191:Cluster Index\tVoxels\tMAX\tMAX X (vox)\tMAX Y (vox)\tMAX Z (vox)\tCOG X (vox)\tCOG Y (vox)\tCOG Z (vox)\n"
       ]
      },
      {
       "output_type": "stream",
       "stream": "stderr",
       "text": [
        "INFO:workflow:Executing node datasink in dir: /home/gdholla1/workflow_folders/fixedfx/datasink\n"
       ]
      },
      {
       "metadata": {},
       "output_type": "pyout",
       "prompt_number": 100,
       "text": [
        "<networkx.classes.digraph.DiGraph at 0x3808f890>"
       ]
      }
     ],
     "prompt_number": 100
    },
    {
     "cell_type": "code",
     "collapsed": false,
     "input": [
      "z = nb.load('/home/gdholla1/data/in_limbo/zstats_simulation/z_simulation_threshold.nii.gz').get_data()\n",
      "plt.imshow(z)\n",
      "plt.colorbar()"
     ],
     "language": "python",
     "metadata": {},
     "outputs": [
      {
       "metadata": {},
       "output_type": "pyout",
       "prompt_number": 101,
       "text": [
        "<matplotlib.colorbar.Colorbar instance at 0x16092128>"
       ]
      },
      {
       "metadata": {},
       "output_type": "display_data",
       "png": "[encoded data removed]",
       "text": [
        "<matplotlib.figure.Figure at 0xe6a0bd0>"
       ]
      }
     ],
     "prompt_number": 101
    },
    {
     "cell_type": "code",
     "collapsed": false,
     "input": [
      "z = nb.load('/home/gdholla1/data/in_limbo/zstats_simulation/_flameo0/zstat1.nii.gz').get_data()\n",
      "plt.imshow(z)\n",
      "plt.colorbar()"
     ],
     "language": "python",
     "metadata": {},
     "outputs": [
      {
       "metadata": {},
       "output_type": "pyout",
       "prompt_number": 106,
       "text": [
        "<matplotlib.colorbar.Colorbar instance at 0xf1d4ab8>"
       ]
      },
      {
       "metadata": {},
       "output_type": "display_data",
       "png": "[encoded data removed]",
       "text": [
        "<matplotlib.figure.Figure at 0xec831d0>"
       ]
      }
     ],
     "prompt_number": 106
    },
    {
     "cell_type": "code",
     "collapsed": false,
     "input": [
      "nb.load('cope_0.nii.gz').get_data()[..., np.newaxis].shape"
     ],
     "language": "python",
     "metadata": {},
     "outputs": [
      {
       "metadata": {},
       "output_type": "pyout",
       "prompt_number": 103,
       "text": [
        "(80, 80, 1, 1)"
       ]
      }
     ],
     "prompt_number": 103
    },
    {
     "cell_type": "code",
     "collapsed": false,
     "input": [
      "z.shape"
     ],
     "language": "python",
     "metadata": {},
     "outputs": [
      {
       "metadata": {},
       "output_type": "pyout",
       "prompt_number": 104,
       "text": [
        "(80, 80)"
       ]
      }
     ],
     "prompt_number": 104
    },
    {
     "cell_type": "code",
     "collapsed": false,
     "input": [
      "plt.plot(z)"
     ],
     "language": "python",
     "metadata": {},
     "outputs": [
      {
       "metadata": {},
       "output_type": "pyout",
       "prompt_number": 105,
       "text": [
        "[<matplotlib.lines.Line2D at 0xe6f0fd0>,\n",
        " <matplotlib.lines.Line2D at 0xe6f5290>,\n",
        " <matplotlib.lines.Line2D at 0xe6f54d0>,\n",
        " <matplotlib.lines.Line2D at 0xe6f5690>,\n",
        " <matplotlib.lines.Line2D at 0xe6f5850>,\n",
        " <matplotlib.lines.Line2D at 0xe6f5a10>,\n",
        " <matplotlib.lines.Line2D at 0xe6f5bd0>,\n",
        " <matplotlib.lines.Line2D at 0xe6f5d90>,\n",
        " <matplotlib.lines.Line2D at 0xe6f5f50>,\n",
        " <matplotlib.lines.Line2D at 0xe6f7150>,\n",
        " <matplotlib.lines.Line2D at 0x15da3250>,\n",
        " <matplotlib.lines.Line2D at 0xe6f74d0>,\n",
        " <matplotlib.lines.Line2D at 0xe6f7690>,\n",
        " <matplotlib.lines.Line2D at 0xe6f7850>,\n",
        " <matplotlib.lines.Line2D at 0xe6f7a10>,\n",
        " <matplotlib.lines.Line2D at 0xe6f7bd0>,\n",
        " <matplotlib.lines.Line2D at 0xe6f7d90>,\n",
        " <matplotlib.lines.Line2D at 0xe6f7f50>,\n",
        " <matplotlib.lines.Line2D at 0xe6f9150>,\n",
        " <matplotlib.lines.Line2D at 0xe6f9310>,\n",
        " <matplotlib.lines.Line2D at 0xe6f7310>,\n",
        " <matplotlib.lines.Line2D at 0xe6f9690>,\n",
        " <matplotlib.lines.Line2D at 0xe6f9850>,\n",
        " <matplotlib.lines.Line2D at 0xe6f9a10>,\n",
        " <matplotlib.lines.Line2D at 0xe6f9bd0>,\n",
        " <matplotlib.lines.Line2D at 0xe6f9d90>,\n",
        " <matplotlib.lines.Line2D at 0xe6f9f50>,\n",
        " <matplotlib.lines.Line2D at 0xe6fc150>,\n",
        " <matplotlib.lines.Line2D at 0xe6fc310>,\n",
        " <matplotlib.lines.Line2D at 0xe6fc4d0>,\n",
        " <matplotlib.lines.Line2D at 0xe6f94d0>,\n",
        " <matplotlib.lines.Line2D at 0xe6fc850>,\n",
        " <matplotlib.lines.Line2D at 0xe6fca10>,\n",
        " <matplotlib.lines.Line2D at 0xe6fcbd0>,\n",
        " <matplotlib.lines.Line2D at 0xe6fcd90>,\n",
        " <matplotlib.lines.Line2D at 0xe6fcf50>,\n",
        " <matplotlib.lines.Line2D at 0xe700150>,\n",
        " <matplotlib.lines.Line2D at 0xe700310>,\n",
        " <matplotlib.lines.Line2D at 0xe7004d0>,\n",
        " <matplotlib.lines.Line2D at 0xe700690>,\n",
        " <matplotlib.lines.Line2D at 0xe6fc690>,\n",
        " <matplotlib.lines.Line2D at 0xe700a10>,\n",
        " <matplotlib.lines.Line2D at 0xe700bd0>,\n",
        " <matplotlib.lines.Line2D at 0xe700d90>,\n",
        " <matplotlib.lines.Line2D at 0xe700f50>,\n",
        " <matplotlib.lines.Line2D at 0xe701150>,\n",
        " <matplotlib.lines.Line2D at 0xe701310>,\n",
        " <matplotlib.lines.Line2D at 0xe7014d0>,\n",
        " <matplotlib.lines.Line2D at 0xe701690>,\n",
        " <matplotlib.lines.Line2D at 0xe701850>,\n",
        " <matplotlib.lines.Line2D at 0xe700850>,\n",
        " <matplotlib.lines.Line2D at 0xe701bd0>,\n",
        " <matplotlib.lines.Line2D at 0xe701d90>,\n",
        " <matplotlib.lines.Line2D at 0xe701f50>,\n",
        " <matplotlib.lines.Line2D at 0xe703150>,\n",
        " <matplotlib.lines.Line2D at 0xe703310>,\n",
        " <matplotlib.lines.Line2D at 0xe7034d0>,\n",
        " <matplotlib.lines.Line2D at 0xe703690>,\n",
        " <matplotlib.lines.Line2D at 0xe703850>,\n",
        " <matplotlib.lines.Line2D at 0xe703a10>,\n",
        " <matplotlib.lines.Line2D at 0xe701a10>,\n",
        " <matplotlib.lines.Line2D at 0xe703d90>,\n",
        " <matplotlib.lines.Line2D at 0xe703f50>,\n",
        " <matplotlib.lines.Line2D at 0xe706150>,\n",
        " <matplotlib.lines.Line2D at 0xe706310>,\n",
        " <matplotlib.lines.Line2D at 0xe7064d0>,\n",
        " <matplotlib.lines.Line2D at 0xe706690>,\n",
        " <matplotlib.lines.Line2D at 0xe706850>,\n",
        " <matplotlib.lines.Line2D at 0xe706a10>,\n",
        " <matplotlib.lines.Line2D at 0xe706bd0>,\n",
        " <matplotlib.lines.Line2D at 0xe703bd0>,\n",
        " <matplotlib.lines.Line2D at 0xe706f50>,\n",
        " <matplotlib.lines.Line2D at 0xe709150>,\n",
        " <matplotlib.lines.Line2D at 0xe709310>,\n",
        " <matplotlib.lines.Line2D at 0xe7094d0>,\n",
        " <matplotlib.lines.Line2D at 0xe709690>,\n",
        " <matplotlib.lines.Line2D at 0xe709850>,\n",
        " <matplotlib.lines.Line2D at 0xe709a10>,\n",
        " <matplotlib.lines.Line2D at 0xe709bd0>,\n",
        " <matplotlib.lines.Line2D at 0xe709d90>]"
       ]
      },
      {
       "metadata": {},
       "output_type": "display_data",
       "png": "[encoded data removed]",
       "text": [
        "<matplotlib.figure.Figure at 0xb79bcd0>"
       ]
      }
     ],
     "prompt_number": 105
    },
    {
     "cell_type": "code",
     "collapsed": false,
     "input": [],
     "language": "python",
     "metadata": {},
     "outputs": []
    }
   ],
   "metadata": {}
  }
 ]
}