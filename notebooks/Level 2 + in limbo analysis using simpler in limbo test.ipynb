{
 "metadata": {
  "name": "",
  "signature": "sha256:8b99bcca95c4b09b11176ffa74b6be2b8e15e56c5aee91e5bb40d703c7c5b62e"
 },
 "nbformat": 3,
 "nbformat_minor": 0,
 "worksheets": [
  {
   "cells": [
    {
     "cell_type": "markdown",
     "metadata": {},
     "source": [
      "## Level 2 + in limbo analysis using simpler in limbo test"
     ]
    },
    {
     "cell_type": "markdown",
     "metadata": {},
     "source": [
      "One of the reviewers of our paper *An antidote to the imager's fallacy, or\n",
      "how to identify brain areas that are in limbo* suggested a simpler approach for the in-limbo test: simply subtract the contrast size of the comparison voxel and do the level 2 analysis again. \n",
      "\n",
      "This test is implemented in this notebook."
     ]
    },
    {
     "cell_type": "code",
     "collapsed": false,
     "input": [
      "import sandwich\n",
      "import nipype.algorithms.modelgen as model\n",
      "import pandas\n",
      "import nipype.pipeline.engine as pe\n",
      "from nipype.interfaces.base import Bunch\n",
      "\n",
      "import nipype.interfaces.utility as util\n",
      "import nipype.interfaces.io as nio\n",
      "import nipype.interfaces.fsl as fsl"
     ],
     "language": "python",
     "metadata": {},
     "outputs": [],
     "prompt_number": 146
    },
    {
     "cell_type": "markdown",
     "metadata": {},
     "source": [
      "The copes, varcopes and dof_files of the first level analysis"
     ]
    },
    {
     "cell_type": "code",
     "collapsed": false,
     "input": [
      "import glob, os\n",
      "\n",
      "copes = sorted(glob.glob('/home/gdholla1/data/in_limbo/birte/copes_mni/*/cope1.nii.gz'))\n",
      "varcopes = sorted(glob.glob('/home/gdholla1/data/in_limbo/birte/varcopes_mni/*/varcope1.nii.gz'))\n",
      "dof_files = [os.path.abspath('dof')] * len(copes)"
     ],
     "language": "python",
     "metadata": {},
     "outputs": [],
     "prompt_number": 147
    },
    {
     "cell_type": "markdown",
     "metadata": {},
     "source": [
      "Set up different thresholds"
     ]
    },
    {
     "cell_type": "code",
     "collapsed": false,
     "input": [
      "thresholds = [2.3, 3.1, 3.7]"
     ],
     "language": "python",
     "metadata": {},
     "outputs": [],
     "prompt_number": 148
    },
    {
     "cell_type": "markdown",
     "metadata": {},
     "source": [
      "## Set up a standard mixed effects level2 analysis"
     ]
    },
    {
     "cell_type": "code",
     "collapsed": false,
     "input": [
      "\n",
      "mixedfx = create_fixed_effects_flow('in_limbo_level2_birte_fsl')\n",
      "mixedfx.base_dir = '/home/gdholla1/workflow_folders/'\n",
      "\n",
      "mixedfx.inputs.inputspec.copes = copes\n",
      "mixedfx.inputs.inputspec.varcopes = varcopes\n",
      "mixedfx.inputs.inputspec.dof_files = dof_files\n",
      "mixedfx.inputs.flameo.mask_file = '/usr/share/fsl/data/standard/MNI152_T1_2mm_brain_mask.nii.gz'\n",
      "mixedfx.inputs.l2model.num_copes = len(copes)\n",
      "\n",
      "\n",
      "### MIXED EFFECTS!\n",
      "mixedfx.inputs.flameo.run_mode = 'flame1'\n",
      "\n",
      "ds = pe.Node(nio.DataSink(), name='datasink')\n",
      "ds.inputs.base_directory = '/home/gdholla1/data/in_limbo/birte/level2_fsl'\n",
      "\n",
      "mixedfx.connect(mixedfx.get_node('outputspec'), 'zstats', ds, 'zstats')\n",
      "\n",
      "smooth_est = pe.Node(fsl.SmoothEstimate(), name='smooth_est')\n",
      "smooth_est.inputs.mask_file = '/usr/share/fsl/data/standard/MNI152_T1_2mm_brain_mask.nii.gz'\n",
      "\n",
      "get_one = lambda x: x[0]\n",
      "\n",
      "mixedfx.connect(mixedfx.get_node('outputspec'), ('zstats', get_one), smooth_est, 'zstat_file')\n",
      "\n",
      "cluster = pe.Node(fsl.Cluster(), name='cluster')\n",
      "cluster.inputs.out_threshold_file = True\n",
      "\n",
      "# Try out different thresholds\n",
      "cluster.iterables = [('threshold',\n",
      "                      thresholds)]\n",
      "\n",
      "mixedfx.connect(smooth_est, 'dlh', cluster, 'dlh')\n",
      "mixedfx.connect(mixedfx.get_node('outputspec'), ('zstats', get_one), cluster, 'in_file')\n",
      "\n",
      "mixedfx.connect(cluster, 'threshold_file', ds, 'thresholded_z')\n",
      "\n"
     ],
     "language": "python",
     "metadata": {},
     "outputs": [],
     "prompt_number": 167
    },
    {
     "cell_type": "markdown",
     "metadata": {},
     "source": [
      "## Set up in limbo part"
     ]
    },
    {
     "cell_type": "markdown",
     "metadata": {},
     "source": [
      "Get minimum significant z value"
     ]
    },
    {
     "cell_type": "code",
     "collapsed": false,
     "input": [
      "def argmin(image, threshold=0):\n",
      "    import nibabel as nb\n",
      "    import numpy as np\n",
      "    \n",
      "    image = nb.load(image)\n",
      "    data = np.ma.masked_less_equal(image.get_data(), threshold)\n",
      "    return np.unravel_index(np.ma.argmin(data), data.shape)\n",
      "\n",
      "def get_value_at(image, index):\n",
      "    import nibabel as nb    \n",
      "    \n",
      "    return nb.load(image).get_data()[index]\n",
      "\n",
      "\n",
      "\n",
      "get_comparison_voxel = pe.Node(util.Function(function=argmin,\n",
      "                                             input_names=['image'],\n",
      "                                             output_names=['index']),\n",
      "                               name='get_comparison_voxel')\n",
      "\n",
      "get_min_value = pe.MapNode(util.Function(function=get_value_at,\n",
      "                                         input_names=['image', 'index'],\n",
      "                                         output_names=['value']),\n",
      "                           iterfield=['image'],\n",
      "                           name='get_min_value')\n",
      "\n",
      "\n",
      "get_min_value.inputs.image = copes\n",
      "\n"
     ],
     "language": "python",
     "metadata": {},
     "outputs": [],
     "prompt_number": 168
    },
    {
     "cell_type": "markdown",
     "metadata": {},
     "source": [
      "## Subtract this value and inverse the map"
     ]
    },
    {
     "cell_type": "code",
     "collapsed": false,
     "input": [
      "mixedfx.connect(cluster, 'threshold_file', get_comparison_voxel, 'image')\n",
      "mixedfx.connect(get_comparison_voxel, 'index', get_min_value, 'index')\n",
      "\n",
      "\n",
      "def subtract_and_inverse(image, value):\n",
      "    import nibabel as nb\n",
      "    import os\n",
      "    \n",
      "    image = nb.load(image)\n",
      "    data = image.get_data()\n",
      "    \n",
      "    data -= value\n",
      "    data *= -1\n",
      "    \n",
      "    fn = os.path.abspath('cope_in_limbo.nii.gz')\n",
      "    nb.save(nb.Nifti1Image(data, image.get_affine()), fn)\n",
      "    \n",
      "    return fn\n",
      "\n",
      "\n",
      "subtract_cope = pe.MapNode(util.Function(function=subtract_and_inverse,\n",
      "                                         input_names=['image', 'value'],\n",
      "                                         output_names=['in_limbo_cope'],\n",
      "                                         ),\n",
      "                           iterfield=['image',\n",
      "                                      'value'],\n",
      "                           name='subtract_from_cope')\n",
      "\n",
      "subtract_cope.inputs.image = copes\n",
      "mixedfx.connect(get_min_value, 'value', subtract_cope, 'value')"
     ],
     "language": "python",
     "metadata": {},
     "outputs": [],
     "prompt_number": 169
    },
    {
     "cell_type": "markdown",
     "metadata": {},
     "source": [
      "### Set up a second level2 \"in limbo\"-analysis"
     ]
    },
    {
     "cell_type": "code",
     "collapsed": false,
     "input": [
      "in_limbo_mixedfx = create_fixed_effects_flow('in_limbo_mixedfx')\n",
      "in_limbo_mixedfx.inputs.inputspec.varcopes = varcopes\n",
      "in_limbo_mixedfx.inputs.inputspec.dof_files = dof_files\n",
      "in_limbo_mixedfx.inputs.flameo.mask_file = '/usr/share/fsl/data/standard/MNI152_T1_2mm_brain_mask.nii.gz'\n",
      "in_limbo_mixedfx.inputs.l2model.num_copes = len(copes)\n",
      "\n",
      "mixedfx.connect(subtract_cope, 'in_limbo_cope', in_limbo_mixedfx, 'inputspec.copes')\n"
     ],
     "language": "python",
     "metadata": {},
     "outputs": [],
     "prompt_number": 170
    },
    {
     "cell_type": "markdown",
     "metadata": {},
     "source": [
      "## Determine what's in limbo and what's not"
     ]
    },
    {
     "cell_type": "code",
     "collapsed": false,
     "input": [
      "def get_in_limbo_area(thresholded_z, in_limbo_t, threshold):\n",
      "    \n",
      "    import nibabel as nb\n",
      "    import numpy as np\n",
      "    import os\n",
      "    \n",
      "    z_image = nb.load(thresholded_z)\n",
      "    z = z_image.get_data()\n",
      "    in_limbo_t = nb.load(in_limbo_t).get_data()\n",
      "    \n",
      "    in_limbo = np.zeros_like(z)\n",
      "    unactivated = np.zeros_like(z)\n",
      "    \n",
      "    in_limbo[(z == 0) & (in_limbo_t < threshold) & (in_limbo_t != 0)] = 1\n",
      "    unactivated[(z == 0) & (in_limbo_t > threshold)] = 1\n",
      "    \n",
      "    nb.save(nb.Nifti1Image(in_limbo, z_image.get_affine(),), \n",
      "            os.path.abspath('in_limbo.nii.gz'))\n",
      "    \n",
      "    nb.save(nb.Nifti1Image(unactivated, z_image.get_affine(),), \n",
      "        os.path.abspath('in_limbo_unactivated.nii.gz'))\n",
      "    \n",
      "    return os.path.abspath('in_limbo.nii.gz'), os.path.abspath('in_limbo_unactivated.nii.gz')\n",
      "\n",
      "in_limbo_mapper = pe.Node(util.Function(function=get_in_limbo_area,\n",
      "                                        input_names=['thresholded_z', \n",
      "                                                     'in_limbo_t',\n",
      "                                                     'threshold'],\n",
      "                                        output_names=['in_limbo', 'unactivated']),\n",
      "                          name='in_limbo_mapper')\n",
      "\n",
      "\n",
      "import scipy as sp\n",
      "from scipy import stats\n",
      "\n",
      "dof = len(copes) - 1\n",
      "in_limbo_mapper.inputs.threshold = sp.stats.t(dof).ppf(0.95)\n",
      "\n",
      "\n",
      "mixedfx.connect(in_limbo_mixedfx.get_node('outputspec'), ('tstats', get_one), in_limbo_mapper, 'in_limbo_t')\n",
      "mixedfx.connect(cluster, 'threshold_file', in_limbo_mapper, 'thresholded_z')\n"
     ],
     "language": "python",
     "metadata": {},
     "outputs": [],
     "prompt_number": 171
    },
    {
     "cell_type": "markdown",
     "metadata": {},
     "source": [
      "## Run the workflow!"
     ]
    },
    {
     "cell_type": "code",
     "collapsed": false,
     "input": [
      "mixedfx.run()"
     ],
     "language": "python",
     "metadata": {},
     "outputs": [
      {
       "output_type": "stream",
       "stream": "stderr",
       "text": [
        "INFO:workflow:['check', 'execution', 'logging']\n"
       ]
      },
      {
       "output_type": "stream",
       "stream": "stderr",
       "text": [
        "INFO:workflow:Running serially.\n"
       ]
      },
      {
       "output_type": "stream",
       "stream": "stderr",
       "text": [
        "INFO:workflow:Executing node varcopemerge in dir: /home/gdholla1/workflow_folders/in_limbo_level2_birte_fsl/varcopemerge\n"
       ]
      },
      {
       "output_type": "stream",
       "stream": "stderr",
       "text": [
        "INFO:workflow:Executing node l2model in dir: /home/gdholla1/workflow_folders/in_limbo_level2_birte_fsl/l2model\n"
       ]
      },
      {
       "output_type": "stream",
       "stream": "stderr",
       "text": [
        "INFO:workflow:Collecting precomputed outputs\n"
       ]
      },
      {
       "output_type": "stream",
       "stream": "stderr",
       "text": [
        "INFO:workflow:Executing node copemerge in dir: /home/gdholla1/workflow_folders/in_limbo_level2_birte_fsl/copemerge\n"
       ]
      },
      {
       "output_type": "stream",
       "stream": "stderr",
       "text": [
        "INFO:workflow:Executing node gendofvolume in dir: /home/gdholla1/workflow_folders/in_limbo_level2_birte_fsl/gendofvolume\n"
       ]
      },
      {
       "output_type": "stream",
       "stream": "stderr",
       "text": [
        "INFO:workflow:Collecting precomputed outputs\n"
       ]
      },
      {
       "output_type": "stream",
       "stream": "stderr",
       "text": [
        "INFO:workflow:Executing node flameo in dir: /home/gdholla1/workflow_folders/in_limbo_level2_birte_fsl/flameo\n"
       ]
      },
      {
       "output_type": "stream",
       "stream": "stderr",
       "text": [
        "INFO:workflow:Executing node _flameo0 in dir: /home/gdholla1/workflow_folders/in_limbo_level2_birte_fsl/flameo/mapflow/_flameo0\n"
       ]
      },
      {
       "output_type": "stream",
       "stream": "stderr",
       "text": [
        "INFO:workflow:Running: flameo --copefile=/home/gdholla1/workflow_folders/in_limbo_level2_birte_fsl/copemerge/mapflow/_copemerge0/cope1_merged.nii.gz --covsplitfile=/home/gdholla1/workflow_folders/in_limbo_level2_birte_fsl/l2model/design.grp --designfile=/home/gdholla1/workflow_folders/in_limbo_level2_birte_fsl/l2model/design.mat --dofvarcopefile=/home/gdholla1/workflow_folders/in_limbo_level2_birte_fsl/gendofvolume/dof_file.nii.gz --ld=stats --maskfile=/usr/share/fsl/data/standard/MNI152_T1_2mm_brain_mask.nii.gz --runmode=flame1 --tcontrastsfile=/home/gdholla1/workflow_folders/in_limbo_level2_birte_fsl/l2model/design.con --varcopefile=/home/gdholla1/workflow_folders/in_limbo_level2_birte_fsl/varcopemerge/mapflow/_varcopemerge0/varcope1_merged.nii.gz\n"
       ]
      },
      {
       "output_type": "stream",
       "stream": "stderr",
       "text": [
        "INFO:interface:stdout 2014-11-07T13:19:08.981140:Log directory is: stats\n"
       ]
      },
      {
       "output_type": "stream",
       "stream": "stderr",
       "text": [
        "INFO:interface:stdout 2014-11-07T13:19:08.983023:Setting up:\n"
       ]
      },
      {
       "output_type": "stream",
       "stream": "stderr",
       "text": [
        "INFO:interface:stdout 2014-11-07T13:19:11.548271:ntptsing=21.000000 \n"
       ]
      },
      {
       "output_type": "stream",
       "stream": "stderr",
       "text": [
        "INFO:interface:stdout 2014-11-07T13:19:11.548271:\n"
       ]
      },
      {
       "output_type": "stream",
       "stream": "stderr",
       "text": [
        "INFO:interface:stdout 2014-11-07T13:19:11.548271:evs_group=1.000000 \n"
       ]
      },
      {
       "output_type": "stream",
       "stream": "stderr",
       "text": [
        "INFO:interface:stdout 2014-11-07T13:19:11.548271:\n"
       ]
      },
      {
       "output_type": "stream",
       "stream": "stderr",
       "text": [
        "INFO:interface:stdout 2014-11-07T13:19:11.550115:No f contrasts\n"
       ]
      },
      {
       "output_type": "stream",
       "stream": "stderr",
       "text": [
        "INFO:interface:stdout 2014-11-07T13:19:11.751117:\n"
       ]
      },
      {
       "output_type": "stream",
       "stream": "stderr",
       "text": [
        "INFO:interface:stdout 2014-11-07T13:19:11.751117:WARNING: The passed in varcope file, /home/gdholla1/workflow_folders/in_limbo_level2_birte_fsl/varcopemerge/mapflow/_varcopemerge0/varcope1_merged.nii.gz, contains voxels inside the mask with zero (or negative) values. These voxels will be excluded from the analysis.\n"
       ]
      },
      {
       "output_type": "stream",
       "stream": "stderr",
       "text": [
        "INFO:interface:stdout 2014-11-07T13:19:11.761359:nevs=1\n"
       ]
      },
      {
       "output_type": "stream",
       "stream": "stderr",
       "text": [
        "INFO:interface:stdout 2014-11-07T13:19:11.761359:ntpts=21\n"
       ]
      },
      {
       "output_type": "stream",
       "stream": "stderr",
       "text": [
        "INFO:interface:stdout 2014-11-07T13:19:11.761359:ngs=1\n"
       ]
      },
      {
       "output_type": "stream",
       "stream": "stderr",
       "text": [
        "INFO:interface:stdout 2014-11-07T13:19:11.761359:nvoxels=206599\n"
       ]
      },
      {
       "output_type": "stream",
       "stream": "stderr",
       "text": [
        "INFO:interface:stdout 2014-11-07T13:19:11.960435:Running:\n"
       ]
      },
      {
       "output_type": "stream",
       "stream": "stderr",
       "text": [
        "INFO:interface:stdout 2014-11-07T13:19:11.960435:nmaskvoxels=206599\n"
       ]
      },
      {
       "output_type": "stream",
       "stream": "stderr",
       "text": [
        "INFO:interface:stdout 2014-11-07T13:19:54.734014: 1 2 3 4 5 6 7 8 9 10 11 12 13 14 15 16 17 18 19 20 21 22 23 24 25 26 27 28 29 30 31 32 33 34 35 36 37 38 39 40 41 42 43 44 45 46 47 48 49 50 51 52 53 54 55 56 57 58 59 60 61 62 63 64 65 66 67 68 69 70 71 72 73 74 75 76 77 78 79 80 81 82 83 84 85 86 87 88 89 90 91 92 93 94 95 96 97 98 99 100\n"
       ]
      },
      {
       "output_type": "stream",
       "stream": "stderr",
       "text": [
        "INFO:interface:stdout 2014-11-07T13:19:54.743817:nmaskvoxels=206599\n"
       ]
      },
      {
       "output_type": "stream",
       "stream": "stderr",
       "text": [
        "INFO:interface:stdout 2014-11-07T13:19:54.749396:Saving results\n"
       ]
      },
      {
       "output_type": "stream",
       "stream": "stderr",
       "text": [
        "INFO:interface:stdout 2014-11-07T13:19:59.682501:\n"
       ]
      },
      {
       "output_type": "stream",
       "stream": "stderr",
       "text": [
        "INFO:interface:stdout 2014-11-07T13:19:59.682501:Log directory was: stats\n"
       ]
      },
      {
       "output_type": "stream",
       "stream": "stderr",
       "text": [
        "INFO:workflow:Executing node smooth_est in dir: /home/gdholla1/workflow_folders/in_limbo_level2_birte_fsl/smooth_est\n"
       ]
      },
      {
       "output_type": "stream",
       "stream": "stderr",
       "text": [
        "INFO:workflow:Running: smoothest --mask=/usr/share/fsl/data/standard/MNI152_T1_2mm_brain_mask.nii.gz --zstat=/home/gdholla1/workflow_folders/in_limbo_level2_birte_fsl/flameo/mapflow/_flameo0/stats/zstat1.nii.gz\n"
       ]
      },
      {
       "output_type": "stream",
       "stream": "stderr",
       "text": [
        "INFO:interface:stdout 2014-11-07T13:20:00.009703:DLH 0.284153\n"
       ]
      },
      {
       "output_type": "stream",
       "stream": "stderr",
       "text": [
        "INFO:interface:stdout 2014-11-07T13:20:00.009703:VOLUME 228483\n"
       ]
      },
      {
       "output_type": "stream",
       "stream": "stderr",
       "text": [
        "INFO:interface:stdout 2014-11-07T13:20:00.009703:RESELS 16.2471\n"
       ]
      },
      {
       "output_type": "stream",
       "stream": "stderr",
       "text": [
        "INFO:workflow:Executing node cluster.aI.a0 in dir: /home/gdholla1/workflow_folders/in_limbo_level2_birte_fsl/_threshold_2.3/cluster\n"
       ]
      },
      {
       "output_type": "stream",
       "stream": "stderr",
       "text": [
        "INFO:workflow:Running: cluster --dlh=0.2841530000 --in=/home/gdholla1/workflow_folders/in_limbo_level2_birte_fsl/flameo/mapflow/_flameo0/stats/zstat1.nii.gz --othresh=/home/gdholla1/workflow_folders/in_limbo_level2_birte_fsl/_threshold_2.3/cluster/zstat1_threshold.nii.gz --thresh=2.3000000000\n"
       ]
      },
      {
       "output_type": "stream",
       "stream": "stderr",
       "text": [
        "INFO:interface:stdout 2014-11-07T13:20:00.228164:Cluster Index\tVoxels\tMAX\tMAX X (vox)\tMAX Y (vox)\tMAX Z (vox)\tCOG X (vox)\tCOG Y (vox)\tCOG Z (vox)\n"
       ]
      },
      {
       "output_type": "stream",
       "stream": "stderr",
       "text": [
        "INFO:interface:stdout 2014-11-07T13:20:00.228164:348\t824\t4.65\t48\t61\t64\t43.8\t63.3\t63.5\n"
       ]
      },
      {
       "output_type": "stream",
       "stream": "stderr",
       "text": [
        "INFO:interface:stdout 2014-11-07T13:20:00.228164:347\t286\t3.77\t22\t62\t62\t24.5\t61.2\t61.4\n"
       ]
      },
      {
       "output_type": "stream",
       "stream": "stderr",
       "text": [
        "INFO:interface:stdout 2014-11-07T13:20:00.228164:346\t278\t4.14\t68\t47\t65\t65.8\t44.8\t59.8\n"
       ]
      },
      {
       "output_type": "stream",
       "stream": "stderr",
       "text": [
        "INFO:interface:stdout 2014-11-07T13:20:00.231498:345\t181\t4.17\t62\t55\t64\t60.5\t56.4\t64.5\n"
       ]
      },
      {
       "output_type": "stream",
       "stream": "stderr",
       "text": [
        "INFO:interface:stdout 2014-11-07T13:20:00.231498:344\t165\t4.23\t27\t75\t39\t28\t75.2\t38.6\n"
       ]
      },
      {
       "output_type": "stream",
       "stream": "stderr",
       "text": [
        "INFO:interface:stdout 2014-11-07T13:20:00.231498:343\t148\t4.11\t65\t71\t38\t62.2\t73.8\t38.5\n"
       ]
      },
      {
       "output_type": "stream",
       "stream": "stderr",
       "text": [
        "INFO:interface:stdout 2014-11-07T13:20:00.231498:342\t121\t3.61\t23\t41\t22\t24.3\t39.6\t21.3\n"
       ]
      },
      {
       "output_type": "stream",
       "stream": "stderr",
       "text": [
        "INFO:interface:stdout 2014-11-07T13:20:00.231498:341\t112\t3.81\t67\t38\t19\t64\t35.5\t19.6\n"
       ]
      },
      {
       "output_type": "stream",
       "stream": "stderr",
       "text": [
        "INFO:interface:stdout 2014-11-07T13:20:00.231498:340\t96\t3.78\t14\t45\t49\t14.2\t42.8\t50.7\n"
       ]
      },
      {
       "output_type": "stream",
       "stream": "stderr",
       "text": [
        "INFO:interface:stdout 2014-11-07T13:20:00.231498:339\t94\t3.4\t38\t27\t56\t40.2\t27.9\t60.7\n"
       ]
      },
      {
       "output_type": "stream",
       "stream": "stderr",
       "text": [
        "INFO:interface:stdout 2014-11-07T13:20:00.231498:338\t93\t3.93\t40\t63\t45\t36.4\t67.6\t40.8\n"
       ]
      },
      {
       "output_type": "stream",
       "stream": "stderr",
       "text": [
        "INFO:interface:stdout 2014-11-07T13:20:00.231498:337\t81\t3.66\t25\t43\t53\t26.2\t42.7\t54.2\n"
       ]
      },
      {
       "output_type": "stream",
       "stream": "stderr",
       "text": [
        "INFO:interface:stdout 2014-11-07T13:20:00.231498:336\t74\t3.31\t29\t81\t54\t28.9\t81\t50.9\n"
       ]
      },
      {
       "output_type": "stream",
       "stream": "stderr",
       "text": [
        "INFO:interface:stdout 2014-11-07T13:20:00.231498:335\t53\t3.72\t49\t50\t30\t46.1\t49.1\t32.5\n"
       ]
      },
      {
       "output_type": "stream",
       "stream": "stderr",
       "text": [
        "INFO:interface:stdout 2014-11-07T13:20:00.231498:334\t51\t4.38\t24\t33\t30\t23.7\t34.5\t28.4\n"
       ]
      },
      {
       "output_type": "stream",
       "stream": "stderr",
       "text": [
        "INFO:interface:stdout 2014-11-07T13:20:00.231498:333\t46\t3.27\t53\t53\t40\t51\t53\t40.7\n"
       ]
      },
      {
       "output_type": "stream",
       "stream": "stderr",
       "text": [
        "INFO:interface:stdout 2014-11-07T13:20:00.231498:332\t45\t3.46\t42\t50\t49\t42\t47.1\t48.8\n"
       ]
      },
      {
       "output_type": "stream",
       "stream": "stderr",
       "text": [
        "INFO:interface:stdout 2014-11-07T13:20:00.231498:331\t38\t3.54\t61\t33\t59\t62.3\t34.2\t59\n"
       ]
      },
      {
       "output_type": "stream",
       "stream": "stderr",
       "text": [
        "INFO:interface:stdout 2014-11-07T13:20:00.231498:330\t38\t3.86\t61\t87\t45\t60.4\t86\t45.9\n"
       ]
      },
      {
       "output_type": "stream",
       "stream": "stderr",
       "text": [
        "INFO:interface:stdout 2014-11-07T13:20:00.231498:329\t32\t3.37\t70\t65\t38\t69.7\t67.2\t37.6\n"
       ]
      },
      {
       "output_type": "stream",
       "stream": "stderr",
       "text": [
        "INFO:interface:stdout 2014-11-07T13:20:00.231498:328\t30\t2.95\t50\t31\t59\t51.5\t28.6\t60.1\n"
       ]
      },
      {
       "output_type": "stream",
       "stream": "stderr",
       "text": [
        "INFO:interface:stdout 2014-11-07T13:20:00.231498:327\t30\t3.72\t33\t38\t28\t33.1\t37.6\t26.2\n"
       ]
      },
      {
       "output_type": "stream",
       "stream": "stderr",
       "text": [
        "INFO:interface:stdout 2014-11-07T13:20:00.231498:326\t28\t3.2\t27\t38\t11\t27.2\t39\t12.5\n"
       ]
      },
      {
       "output_type": "stream",
       "stream": "stderr",
       "text": [
        "INFO:interface:stdout 2014-11-07T13:20:00.231498:325\t24\t3.04\t61\t77\t54\t61.9\t78.8\t51.7\n"
       ]
      },
      {
       "output_type": "stream",
       "stream": "stderr",
       "text": [
        "INFO:interface:stdout 2014-11-07T13:20:00.231498:324\t23\t3.39\t35\t18\t31\t33.8\t18.1\t31.3\n"
       ]
      },
      {
       "output_type": "stream",
       "stream": "stderr",
       "text": [
        "INFO:interface:stdout 2014-11-07T13:20:00.231498:323\t23\t3.33\t22\t51\t32\t22.1\t50.6\t31.2\n"
       ]
      },
      {
       "output_type": "stream",
       "stream": "stderr",
       "text": [
        "INFO:interface:stdout 2014-11-07T13:20:00.231498:322\t21\t3.8\t46\t43\t46\t46.3\t46\t48.2\n"
       ]
      },
      {
       "output_type": "stream",
       "stream": "stderr",
       "text": [
        "INFO:interface:stdout 2014-11-07T13:20:00.231498:321\t19\t3.37\t27\t86\t50\t27.4\t85.6\t49.1\n"
       ]
      },
      {
       "output_type": "stream",
       "stream": "stderr",
       "text": [
        "INFO:interface:stdout 2014-11-07T13:20:00.231498:320\t19\t4.54\t24\t25\t34\t23\t25.8\t33.8\n"
       ]
      },
      {
       "output_type": "stream",
       "stream": "stderr",
       "text": [
        "INFO:interface:stdout 2014-11-07T13:20:00.231498:319\t17\t2.94\t49\t69\t53\t49.3\t69.9\t54\n"
       ]
      },
      {
       "output_type": "stream",
       "stream": "stderr",
       "text": [
        "INFO:interface:stdout 2014-11-07T13:20:00.231498:318\t17\t3.46\t38\t31\t54\t36.2\t30.2\t51.6\n"
       ]
      },
      {
       "output_type": "stream",
       "stream": "stderr",
       "text": [
        "INFO:interface:stdout 2014-11-07T13:20:00.231498:317\t16\t3.25\t57\t67\t34\t56.6\t66.4\t33.9\n"
       ]
      },
      {
       "output_type": "stream",
       "stream": "stderr",
       "text": [
        "INFO:interface:stdout 2014-11-07T13:20:00.231498:316\t15\t3.53\t22\t70\t49\t21.3\t69.3\t48\n"
       ]
      },
      {
       "output_type": "stream",
       "stream": "stderr",
       "text": [
        "INFO:interface:stdout 2014-11-07T13:20:00.231498:315\t14\t3.45\t35\t60\t35\t35.2\t60.8\t35.2\n"
       ]
      },
      {
       "output_type": "stream",
       "stream": "stderr",
       "text": [
        "INFO:interface:stdout 2014-11-07T13:20:00.231498:314\t13\t3.74\t40\t44\t57\t39.4\t43.5\t56.9\n"
       ]
      },
      {
       "output_type": "stream",
       "stream": "stderr",
       "text": [
        "INFO:interface:stdout 2014-11-07T13:20:00.231498:313\t13\t3.78\t42\t69\t26\t41.6\t67.9\t24.9\n"
       ]
      },
      {
       "output_type": "stream",
       "stream": "stderr",
       "text": [
        "INFO:interface:stdout 2014-11-07T13:20:00.231498:312\t12\t3.49\t57\t67\t42\t57.6\t66.7\t40.8\n"
       ]
      },
      {
       "output_type": "stream",
       "stream": "stderr",
       "text": [
        "INFO:interface:stdout 2014-11-07T13:20:00.231498:311\t12\t3.27\t19\t32\t28\t19.2\t32.1\t28.2\n"
       ]
      },
      {
       "output_type": "stream",
       "stream": "stderr",
       "text": [
        "INFO:interface:stdout 2014-11-07T13:20:00.231498:310\t11\t3.17\t56\t71\t41\t56.2\t70.7\t40.9\n"
       ]
      },
      {
       "output_type": "stream",
       "stream": "stderr",
       "text": [
        "INFO:interface:stdout 2014-11-07T13:20:00.231498:309\t11\t3.26\t22\t70\t37\t21.6\t68.6\t38.3\n"
       ]
      },
      {
       "output_type": "stream",
       "stream": "stderr",
       "text": [
        "INFO:interface:stdout 2014-11-07T13:20:00.231498:308\t10\t2.88\t44\t80\t39\t43.4\t79.3\t40\n"
       ]
      },
      {
       "output_type": "stream",
       "stream": "stderr",
       "text": [
        "INFO:interface:stdout 2014-11-07T13:20:00.231498:307\t10\t2.94\t18\t42\t34\t16.7\t42.7\t33.6\n"
       ]
      },
      {
       "output_type": "stream",
       "stream": "stderr",
       "text": [
        "INFO:interface:stdout 2014-11-07T13:20:00.231498:306\t9\t3.54\t74\t53\t57\t73.5\t53.1\t57\n"
       ]
      },
      {
       "output_type": "stream",
       "stream": "stderr",
       "text": [
        "INFO:interface:stdout 2014-11-07T13:20:00.231498:305\t9\t3.42\t72\t64\t51\t71.9\t64.3\t51\n"
       ]
      },
      {
       "output_type": "stream",
       "stream": "stderr",
       "text": [
        "INFO:interface:stdout 2014-11-07T13:20:00.231498:304\t9\t2.89\t44\t51\t26\t44.5\t50.5\t25.6\n"
       ]
      },
      {
       "output_type": "stream",
       "stream": "stderr",
       "text": [
        "INFO:interface:stdout 2014-11-07T13:20:00.231498:303\t9\t3.11\t43\t45\t17\t42.9\t43.6\t17.8\n"
       ]
      },
      {
       "output_type": "stream",
       "stream": "stderr",
       "text": [
        "INFO:interface:stdout 2014-11-07T13:20:00.231498:302\t8\t2.96\t71\t42\t60\t70.3\t41.9\t59.9\n"
       ]
      },
      {
       "output_type": "stream",
       "stream": "stderr",
       "text": [
        "INFO:interface:stdout 2014-11-07T13:20:00.231498:301\t8\t3.2\t26\t24\t57\t26\t24.6\t56.4\n"
       ]
      },
      {
       "output_type": "stream",
       "stream": "stderr",
       "text": [
        "INFO:interface:stdout 2014-11-07T13:20:00.231498:300\t8\t3.01\t36\t38\t30\t36.6\t38.1\t29.9\n"
       ]
      },
      {
       "output_type": "stream",
       "stream": "stderr",
       "text": [
        "INFO:interface:stdout 2014-11-07T13:20:00.231498:299\t7\t2.8\t28\t22\t29\t28.4\t22\t28.9\n"
       ]
      },
      {
       "output_type": "stream",
       "stream": "stderr",
       "text": [
        "INFO:interface:stdout 2014-11-07T13:20:00.231498:298\t7\t2.92\t48\t34\t18\t47.7\t34.7\t17.6\n"
       ]
      },
      {
       "output_type": "stream",
       "stream": "stderr",
       "text": [
        "INFO:interface:stdout 2014-11-07T13:20:00.231498:297\t7\t3.52\t70\t36\t12\t70.2\t36.3\t11.8\n"
       ]
      },
      {
       "output_type": "stream",
       "stream": "stderr",
       "text": [
        "INFO:interface:stdout 2014-11-07T13:20:00.231498:296\t6\t2.93\t63\t55\t69\t62.7\t55.2\t70.3\n"
       ]
      },
      {
       "output_type": "stream",
       "stream": "stderr",
       "text": [
        "INFO:interface:stdout 2014-11-07T13:20:00.231498:295\t6\t3.08\t34\t54\t51\t33.7\t53.3\t50.5\n"
       ]
      },
      {
       "output_type": "stream",
       "stream": "stderr",
       "text": [
        "INFO:interface:stdout 2014-11-07T13:20:00.231498:294\t6\t2.83\t61\t26\t50\t60.3\t26.5\t50.2\n"
       ]
      },
      {
       "output_type": "stream",
       "stream": "stderr",
       "text": [
        "INFO:interface:stdout 2014-11-07T13:20:00.231498:293\t6\t3.91\t47\t49\t44\t47\t49.5\t42.6\n"
       ]
      },
      {
       "output_type": "stream",
       "stream": "stderr",
       "text": [
        "INFO:interface:stdout 2014-11-07T13:20:00.231498:292\t6\t3.25\t48\t51\t36\t47.8\t51.7\t35.9\n"
       ]
      },
      {
       "output_type": "stream",
       "stream": "stderr",
       "text": [
        "INFO:interface:stdout 2014-11-07T13:20:00.231498:291\t6\t2.7\t48\t17\t37\t48.3\t16.8\t36.5\n"
       ]
      },
      {
       "output_type": "stream",
       "stream": "stderr",
       "text": [
        "INFO:interface:stdout 2014-11-07T13:20:00.231498:290\t6\t2.74\t57\t73\t33\t56.8\t72\t34\n"
       ]
      },
      {
       "output_type": "stream",
       "stream": "stderr",
       "text": [
        "INFO:interface:stdout 2014-11-07T13:20:00.231498:289\t6\t2.88\t14\t48\t33\t14.3\t49\t32.4\n"
       ]
      },
      {
       "output_type": "stream",
       "stream": "stderr",
       "text": [
        "INFO:interface:stdout 2014-11-07T13:20:00.231498:288\t6\t2.91\t27\t51\t30\t26.7\t50.3\t30.5\n"
       ]
      },
      {
       "output_type": "stream",
       "stream": "stderr",
       "text": [
        "INFO:interface:stdout 2014-11-07T13:20:00.231498:287\t6\t3.61\t47\t23\t31\t46.7\t22.7\t30.5\n"
       ]
      },
      {
       "output_type": "stream",
       "stream": "stderr",
       "text": [
        "INFO:interface:stdout 2014-11-07T13:20:00.231498:286\t6\t2.52\t60\t32\t27\t60\t31.5\t29.2\n"
       ]
      },
      {
       "output_type": "stream",
       "stream": "stderr",
       "text": [
        "INFO:interface:stdout 2014-11-07T13:20:00.231498:285\t6\t2.6\t52\t26\t25\t51.5\t24.8\t25\n"
       ]
      },
      {
       "output_type": "stream",
       "stream": "stderr",
       "text": [
        "INFO:interface:stdout 2014-11-07T13:20:00.231498:284\t5\t2.7\t53\t52\t67\t52.4\t53.8\t67.6\n"
       ]
      },
      {
       "output_type": "stream",
       "stream": "stderr",
       "text": [
        "INFO:interface:stdout 2014-11-07T13:20:00.231498:283\t5\t2.62\t51\t34\t64\t50.4\t33.4\t64.4\n"
       ]
      },
      {
       "output_type": "stream",
       "stream": "stderr",
       "text": [
        "INFO:interface:stdout 2014-11-07T13:20:00.231498:282\t5\t3.74\t72\t48\t54\t71.6\t48\t53.8\n"
       ]
      },
      {
       "output_type": "stream",
       "stream": "stderr",
       "text": [
        "INFO:interface:stdout 2014-11-07T13:20:00.231498:281\t5\t2.82\t70\t62\t52\t69.4\t62\t51.8\n"
       ]
      },
      {
       "output_type": "stream",
       "stream": "stderr",
       "text": [
        "INFO:interface:stdout 2014-11-07T13:20:00.231498:280\t5\t2.58\t32\t86\t50\t32.4\t85.4\t48.8\n"
       ]
      },
      {
       "output_type": "stream",
       "stream": "stderr",
       "text": [
        "INFO:interface:stdout 2014-11-07T13:20:00.231498:279\t5\t2.82\t39\t79\t33\t38.6\t79.4\t33.8\n"
       ]
      },
      {
       "output_type": "stream",
       "stream": "stderr",
       "text": [
        "INFO:interface:stdout 2014-11-07T13:20:00.231498:278\t4\t2.81\t48\t58\t72\t47.5\t58.5\t72\n"
       ]
      },
      {
       "output_type": "stream",
       "stream": "stderr",
       "text": [
        "INFO:interface:stdout 2014-11-07T13:20:00.231498:277\t4\t2.69\t58\t58\t72\t58\t58.3\t71.8\n"
       ]
      },
      {
       "output_type": "stream",
       "stream": "stderr",
       "text": [
        "INFO:interface:stdout 2014-11-07T13:20:00.231498:276\t4\t2.5\t58\t29\t63\t58\t29\t61.5\n"
       ]
      },
      {
       "output_type": "stream",
       "stream": "stderr",
       "text": [
        "INFO:interface:stdout 2014-11-07T13:20:00.231498:275\t4\t2.46\t31\t31\t60\t30.5\t30.2\t60.2\n"
       ]
      },
      {
       "output_type": "stream",
       "stream": "stderr",
       "text": [
        "INFO:interface:stdout 2014-11-07T13:20:00.231498:274\t4\t2.56\t63\t53\t51\t63\t52.8\t51\n"
       ]
      },
      {
       "output_type": "stream",
       "stream": "stderr",
       "text": [
        "INFO:interface:stdout 2014-11-07T13:20:00.231498:273\t4\t2.66\t22\t43\t49\t22.5\t42.8\t49.3\n"
       ]
      },
      {
       "output_type": "stream",
       "stream": "stderr",
       "text": [
        "INFO:interface:stdout 2014-11-07T13:20:00.231498:272\t4\t3.6\t55\t81\t47\t54.8\t81.4\t47.5\n"
       ]
      },
      {
       "output_type": "stream",
       "stream": "stderr",
       "text": [
        "INFO:interface:stdout 2014-11-07T13:20:00.231498:271\t4\t3.16\t44\t70\t45\t44.5\t69.5\t46\n"
       ]
      },
      {
       "output_type": "stream",
       "stream": "stderr",
       "text": [
        "INFO:interface:stdout 2014-11-07T13:20:00.231498:270\t4\t3.07\t49\t67\t43\t49.4\t67.7\t41.6\n"
       ]
      },
      {
       "output_type": "stream",
       "stream": "stderr",
       "text": [
        "INFO:interface:stdout 2014-11-07T13:20:00.231498:269\t4\t2.76\t39\t85\t32\t38.8\t83.8\t32.5\n"
       ]
      },
      {
       "output_type": "stream",
       "stream": "stderr",
       "text": [
        "INFO:interface:stdout 2014-11-07T13:20:00.231498:268\t4\t2.82\t55\t89\t29\t55\t89.3\t29.2\n"
       ]
      },
      {
       "output_type": "stream",
       "stream": "stderr",
       "text": [
        "INFO:interface:stdout 2014-11-07T13:20:00.231498:267\t4\t2.56\t14\t43\t25\t14.3\t42.8\t25.3\n"
       ]
      },
      {
       "output_type": "stream",
       "stream": "stderr",
       "text": [
        "INFO:interface:stdout 2014-11-07T13:20:00.231498:266\t4\t3.04\t40\t56\t22\t39.5\t56\t21.5\n"
       ]
      },
      {
       "output_type": "stream",
       "stream": "stderr",
       "text": [
        "INFO:interface:stdout 2014-11-07T13:20:00.231498:265\t4\t3.06\t37\t33\t22\t36.7\t33.2\t21.5\n"
       ]
      },
      {
       "output_type": "stream",
       "stream": "stderr",
       "text": [
        "INFO:interface:stdout 2014-11-07T13:20:00.231498:264\t4\t3.02\t19\t36\t20\t18.8\t36\t20.7\n"
       ]
      },
      {
       "output_type": "stream",
       "stream": "stderr",
       "text": [
        "INFO:interface:stdout 2014-11-07T13:20:00.231498:263\t4\t2.8\t22\t36\t12\t22.5\t36\t11.5\n"
       ]
      },
      {
       "output_type": "stream",
       "stream": "stderr",
       "text": [
        "INFO:interface:stdout 2014-11-07T13:20:00.231498:262\t4\t2.83\t26\t34\t10\t26.7\t34\t10\n"
       ]
      },
      {
       "output_type": "stream",
       "stream": "stderr",
       "text": [
        "INFO:interface:stdout 2014-11-07T13:20:00.231498:261\t3\t2.43\t41\t34\t66\t41.7\t34\t66.3\n"
       ]
      },
      {
       "output_type": "stream",
       "stream": "stderr",
       "text": [
        "INFO:interface:stdout 2014-11-07T13:20:00.231498:260\t3\t2.86\t24\t33\t64\t23.7\t33\t64.6\n"
       ]
      },
      {
       "output_type": "stream",
       "stream": "stderr",
       "text": [
        "INFO:interface:stdout 2014-11-07T13:20:00.231498:259\t3\t2.39\t43\t32\t63\t42.7\t32\t62\n"
       ]
      },
      {
       "output_type": "stream",
       "stream": "stderr",
       "text": [
        "INFO:interface:stdout 2014-11-07T13:20:00.231498:258\t3\t2.66\t22\t68\t60\t22\t67.7\t60.3\n"
       ]
      },
      {
       "output_type": "stream",
       "stream": "stderr",
       "text": [
        "INFO:interface:stdout 2014-11-07T13:20:00.231498:257\t3\t2.57\t60\t58\t57\t60.3\t58\t57.3\n"
       ]
      },
      {
       "output_type": "stream",
       "stream": "stderr",
       "text": [
        "INFO:interface:stdout 2014-11-07T13:20:00.231498:256\t3\t2.51\t69\t37\t56\t69\t37.3\t56.3\n"
       ]
      },
      {
       "output_type": "stream",
       "stream": "stderr",
       "text": [
        "INFO:interface:stdout 2014-11-07T13:20:00.231498:255\t3\t2.72\t30\t54\t50\t30.6\t53.4\t51\n"
       ]
      },
      {
       "output_type": "stream",
       "stream": "stderr",
       "text": [
        "INFO:interface:stdout 2014-11-07T13:20:00.231498:254\t3\t3.04\t54\t35\t49\t54\t35\t49.1\n"
       ]
      },
      {
       "output_type": "stream",
       "stream": "stderr",
       "text": [
        "INFO:interface:stdout 2014-11-07T13:20:00.231498:253\t3\t2.81\t48\t41\t48\t48\t41\t47.1\n"
       ]
      },
      {
       "output_type": "stream",
       "stream": "stderr",
       "text": [
        "INFO:interface:stdout 2014-11-07T13:20:00.231498:252\t3\t2.58\t34\t33\t39\t34.3\t33\t39.3\n"
       ]
      },
      {
       "output_type": "stream",
       "stream": "stderr",
       "text": [
        "INFO:interface:stdout 2014-11-07T13:20:00.231498:251\t3\t2.81\t44\t28\t38\t44\t27.7\t38.3\n"
       ]
      },
      {
       "output_type": "stream",
       "stream": "stderr",
       "text": [
        "INFO:interface:stdout 2014-11-07T13:20:00.231498:250\t3\t2.6\t62\t88\t38\t62\t88\t38\n"
       ]
      },
      {
       "output_type": "stream",
       "stream": "stderr",
       "text": [
        "INFO:interface:stdout 2014-11-07T13:20:00.231498:249\t3\t2.91\t43\t20\t38\t43.3\t20\t37.7\n"
       ]
      },
      {
       "output_type": "stream",
       "stream": "stderr",
       "text": [
        "INFO:interface:stdout 2014-11-07T13:20:00.231498:248\t3\t2.62\t58\t80\t35\t59\t80.3\t35.3\n"
       ]
      },
      {
       "output_type": "stream",
       "stream": "stderr",
       "text": [
        "INFO:interface:stdout 2014-11-07T13:20:00.231498:247\t3\t2.41\t39\t52\t35\t38.7\t51.7\t35\n"
       ]
      },
      {
       "output_type": "stream",
       "stream": "stderr",
       "text": [
        "INFO:interface:stdout 2014-11-07T13:20:00.231498:246\t3\t2.78\t45\t52\t34\t44.7\t52.3\t33.4\n"
       ]
      },
      {
       "output_type": "stream",
       "stream": "stderr",
       "text": [
        "INFO:interface:stdout 2014-11-07T13:20:00.231498:245\t3\t3.17\t62\t51\t34\t61.7\t51\t33.9\n"
       ]
      },
      {
       "output_type": "stream",
       "stream": "stderr",
       "text": [
        "INFO:interface:stdout 2014-11-07T13:20:00.231498:244\t3\t2.56\t58\t45\t33\t58\t44.3\t34\n"
       ]
      },
      {
       "output_type": "stream",
       "stream": "stderr",
       "text": [
        "INFO:interface:stdout 2014-11-07T13:20:00.231498:243\t3\t2.77\t39\t50\t31\t38.7\t49.7\t31.3\n"
       ]
      },
      {
       "output_type": "stream",
       "stream": "stderr",
       "text": [
        "INFO:interface:stdout 2014-11-07T13:20:00.231498:242\t3\t2.73\t62\t45\t32\t62\t45.6\t31.7\n"
       ]
      },
      {
       "output_type": "stream",
       "stream": "stderr",
       "text": [
        "INFO:interface:stdout 2014-11-07T13:20:00.231498:241\t3\t2.67\t33\t49\t31\t33\t49\t31\n"
       ]
      },
      {
       "output_type": "stream",
       "stream": "stderr",
       "text": [
        "INFO:interface:stdout 2014-11-07T13:20:00.231498:240\t3\t2.96\t71\t32\t31\t71\t32\t31\n"
       ]
      },
      {
       "output_type": "stream",
       "stream": "stderr",
       "text": [
        "INFO:interface:stdout 2014-11-07T13:20:00.231498:239\t3\t2.89\t27\t17\t29\t27.6\t17.6\t29.3\n"
       ]
      },
      {
       "output_type": "stream",
       "stream": "stderr",
       "text": [
        "INFO:interface:stdout 2014-11-07T13:20:00.231498:238\t3\t3.21\t61\t36\t28\t60.7\t36.3\t28\n"
       ]
      },
      {
       "output_type": "stream",
       "stream": "stderr",
       "text": [
        "INFO:interface:stdout 2014-11-07T13:20:00.231498:237\t3\t2.77\t58\t87\t28\t58\t87\t28\n"
       ]
      },
      {
       "output_type": "stream",
       "stream": "stderr",
       "text": [
        "INFO:interface:stdout 2014-11-07T13:20:00.231498:236\t3\t2.66\t27\t27\t27\t27.3\t27\t26.7\n"
       ]
      },
      {
       "output_type": "stream",
       "stream": "stderr",
       "text": [
        "INFO:interface:stdout 2014-11-07T13:20:00.231498:235\t3\t2.43\t58\t30\t23\t58\t29.7\t23.7\n"
       ]
      },
      {
       "output_type": "stream",
       "stream": "stderr",
       "text": [
        "INFO:interface:stdout 2014-11-07T13:20:00.231498:234\t3\t3.28\t50\t67\t22\t50\t67.3\t22.6\n"
       ]
      },
      {
       "output_type": "stream",
       "stream": "stderr",
       "text": [
        "INFO:interface:stdout 2014-11-07T13:20:00.231498:233\t3\t2.57\t70\t40\t21\t70.6\t40.3\t21.3\n"
       ]
      },
      {
       "output_type": "stream",
       "stream": "stderr",
       "text": [
        "INFO:interface:stdout 2014-11-07T13:20:00.231498:232\t3\t2.68\t55\t58\t19\t55\t57.7\t18.7\n"
       ]
      },
      {
       "output_type": "stream",
       "stream": "stderr",
       "text": [
        "INFO:interface:stdout 2014-11-07T13:20:00.231498:231\t3\t2.98\t47\t53\t18\t47\t52.7\t17.7\n"
       ]
      },
      {
       "output_type": "stream",
       "stream": "stderr",
       "text": [
        "INFO:interface:stdout 2014-11-07T13:20:00.231498:230\t3\t2.5\t37\t29\t14\t37\t29.7\t13.7\n"
       ]
      },
      {
       "output_type": "stream",
       "stream": "stderr",
       "text": [
        "INFO:interface:stdout 2014-11-07T13:20:00.231498:229\t3\t2.74\t47\t43\t12\t46.3\t43\t12.3\n"
       ]
      },
      {
       "output_type": "stream",
       "stream": "stderr",
       "text": [
        "INFO:interface:stdout 2014-11-07T13:20:00.231498:228\t3\t2.67\t31\t43\t11\t30.7\t43.3\t11\n"
       ]
      },
      {
       "output_type": "stream",
       "stream": "stderr",
       "text": [
        "INFO:interface:stdout 2014-11-07T13:20:00.231498:227\t2\t2.85\t38\t28\t69\t38.5\t28\t68.5\n"
       ]
      },
      {
       "output_type": "stream",
       "stream": "stderr",
       "text": [
        "INFO:interface:stdout 2014-11-07T13:20:00.231498:226\t2\t2.69\t48\t29\t67\t48.5\t29.5\t66.5\n"
       ]
      },
      {
       "output_type": "stream",
       "stream": "stderr",
       "text": [
        "INFO:interface:stdout 2014-11-07T13:20:00.295372:225\t2\t2.81\t54\t54\t64\t54\t54\t64.5\n"
       ]
      },
      {
       "output_type": "stream",
       "stream": "stderr",
       "text": [
        "INFO:interface:stdout 2014-11-07T13:20:00.295372:224\t2\t2.62\t57\t50\t64\t56.5\t50\t63.5\n"
       ]
      },
      {
       "output_type": "stream",
       "stream": "stderr",
       "text": [
        "INFO:interface:stdout 2014-11-07T13:20:00.295372:223\t2\t2.37\t43\t34\t62\t43\t34.5\t62\n"
       ]
      },
      {
       "output_type": "stream",
       "stream": "stderr",
       "text": [
        "INFO:interface:stdout 2014-11-07T13:20:00.295372:222\t2\t3.08\t71\t53\t60\t71\t52.6\t60.4\n"
       ]
      },
      {
       "output_type": "stream",
       "stream": "stderr",
       "text": [
        "INFO:interface:stdout 2014-11-07T13:20:00.295372:221\t2\t2.67\t26\t37\t60\t26\t37\t59.5\n"
       ]
      },
      {
       "output_type": "stream",
       "stream": "stderr",
       "text": [
        "INFO:interface:stdout 2014-11-07T13:20:00.295372:220\t2\t2.84\t56\t36\t59\t56\t36\t59.5\n"
       ]
      },
      {
       "output_type": "stream",
       "stream": "stderr",
       "text": [
        "INFO:interface:stdout 2014-11-07T13:20:00.295372:219\t2\t2.76\t69\t35\t59\t68.5\t34.5\t59\n"
       ]
      },
      {
       "output_type": "stream",
       "stream": "stderr",
       "text": [
        "INFO:interface:stdout 2014-11-07T13:20:00.295372:218\t2\t2.39\t54\t32\t58\t54\t32\t58.5\n"
       ]
      },
      {
       "output_type": "stream",
       "stream": "stderr",
       "text": [
        "INFO:interface:stdout 2014-11-07T13:20:00.295372:217\t2\t2.64\t40\t73\t57\t40\t73.5\t57\n"
       ]
      },
      {
       "output_type": "stream",
       "stream": "stderr",
       "text": [
        "INFO:interface:stdout 2014-11-07T13:20:00.295372:216\t2\t2.49\t45\t71\t55\t45\t71\t54.5\n"
       ]
      },
      {
       "output_type": "stream",
       "stream": "stderr",
       "text": [
        "INFO:interface:stdout 2014-11-07T13:20:00.295372:215\t2\t2.69\t54\t34\t53\t54\t34\t52.5\n"
       ]
      },
      {
       "output_type": "stream",
       "stream": "stderr",
       "text": [
        "INFO:interface:stdout 2014-11-07T13:20:00.295372:214\t2\t2.54\t32\t34\t53\t32\t34\t52.5\n"
       ]
      },
      {
       "output_type": "stream",
       "stream": "stderr",
       "text": [
        "INFO:interface:stdout 2014-11-07T13:20:00.295372:213\t2\t2.63\t66\t60\t50\t65.5\t60\t50.5\n"
       ]
      },
      {
       "output_type": "stream",
       "stream": "stderr",
       "text": [
        "INFO:interface:stdout 2014-11-07T13:20:00.295372:212\t2\t2.56\t28\t49\t50\t28\t49\t50.5\n"
       ]
      },
      {
       "output_type": "stream",
       "stream": "stderr",
       "text": [
        "INFO:interface:stdout 2014-11-07T13:20:00.295372:211\t2\t2.35\t32\t46\t50\t31.5\t46\t50\n"
       ]
      },
      {
       "output_type": "stream",
       "stream": "stderr",
       "text": [
        "INFO:interface:stdout 2014-11-07T13:20:00.295372:210\t2\t2.94\t45\t79\t50\t45\t79\t49.5\n"
       ]
      },
      {
       "output_type": "stream",
       "stream": "stderr",
       "text": [
        "INFO:interface:stdout 2014-11-07T13:20:00.295372:209\t2\t2.9\t34\t37\t49\t34\t37\t49.5\n"
       ]
      },
      {
       "output_type": "stream",
       "stream": "stderr",
       "text": [
        "INFO:interface:stdout 2014-11-07T13:20:00.295372:208\t2\t2.69\t53\t52\t49\t53.5\t52\t48.5\n"
       ]
      },
      {
       "output_type": "stream",
       "stream": "stderr",
       "text": [
        "INFO:interface:stdout 2014-11-07T13:20:00.295372:207\t2\t2.51\t60\t81\t47\t60\t81\t46.5\n"
       ]
      },
      {
       "output_type": "stream",
       "stream": "stderr",
       "text": [
        "INFO:interface:stdout 2014-11-07T13:20:00.295372:206\t2\t2.44\t24\t68\t46\t24\t68\t45.5\n"
       ]
      },
      {
       "output_type": "stream",
       "stream": "stderr",
       "text": [
        "INFO:interface:stdout 2014-11-07T13:20:00.295372:205\t2\t2.48\t47\t55\t43\t47\t54.5\t43.5\n"
       ]
      },
      {
       "output_type": "stream",
       "stream": "stderr",
       "text": [
        "INFO:interface:stdout 2014-11-07T13:20:00.295372:204\t2\t2.8\t51\t65\t42\t51\t64.5\t42.5\n"
       ]
      },
      {
       "output_type": "stream",
       "stream": "stderr",
       "text": [
        "INFO:interface:stdout 2014-11-07T13:20:00.295372:203\t2\t3.07\t53\t56\t42\t53\t56\t42.5\n"
       ]
      },
      {
       "output_type": "stream",
       "stream": "stderr",
       "text": [
        "INFO:interface:stdout 2014-11-07T13:20:00.295372:202\t2\t2.49\t37\t57\t42\t37\t57\t41.5\n"
       ]
      },
      {
       "output_type": "stream",
       "stream": "stderr",
       "text": [
        "INFO:interface:stdout 2014-11-07T13:20:00.295372:201\t2\t2.38\t54\t68\t41\t54.5\t68\t40.5\n"
       ]
      },
      {
       "output_type": "stream",
       "stream": "stderr",
       "text": [
        "INFO:interface:stdout 2014-11-07T13:20:00.295372:200\t2\t2.76\t43\t47\t40\t43\t46.5\t40\n"
       ]
      },
      {
       "output_type": "stream",
       "stream": "stderr",
       "text": [
        "INFO:interface:stdout 2014-11-07T13:20:00.295372:199\t2\t2.48\t33\t61\t40\t33\t61\t39.5\n"
       ]
      },
      {
       "output_type": "stream",
       "stream": "stderr",
       "text": [
        "INFO:interface:stdout 2014-11-07T13:20:00.295372:198\t2\t2.62\t34\t30\t40\t34\t30\t39.5\n"
       ]
      },
      {
       "output_type": "stream",
       "stream": "stderr",
       "text": [
        "INFO:interface:stdout 2014-11-07T13:20:00.295372:197\t2\t2.8\t43\t77\t38\t43\t77\t38.5\n"
       ]
      },
      {
       "output_type": "stream",
       "stream": "stderr",
       "text": [
        "INFO:interface:stdout 2014-11-07T13:20:00.295372:196\t2\t2.77\t25\t42\t39\t25\t42\t38.5\n"
       ]
      },
      {
       "output_type": "stream",
       "stream": "stderr",
       "text": [
        "INFO:interface:stdout 2014-11-07T13:20:00.295372:195\t2\t2.47\t22\t64\t37\t22\t64\t37.5\n"
       ]
      },
      {
       "output_type": "stream",
       "stream": "stderr",
       "text": [
        "INFO:interface:stdout 2014-11-07T13:20:00.295372:194\t2\t2.53\t31\t35\t37\t31.5\t35\t37\n"
       ]
      },
      {
       "output_type": "stream",
       "stream": "stderr",
       "text": [
        "INFO:interface:stdout 2014-11-07T13:20:00.295372:193\t2\t2.48\t41\t54\t36\t41\t54\t35.5\n"
       ]
      },
      {
       "output_type": "stream",
       "stream": "stderr",
       "text": [
        "INFO:interface:stdout 2014-11-07T13:20:00.295372:192\t2\t2.59\t43\t53\t36\t43\t53\t35.5\n"
       ]
      },
      {
       "output_type": "stream",
       "stream": "stderr",
       "text": [
        "INFO:interface:stdout 2014-11-07T13:20:00.295372:191\t2\t2.35\t20\t22\t35\t20.5\t22.5\t35\n"
       ]
      },
      {
       "output_type": "stream",
       "stream": "stderr",
       "text": [
        "INFO:interface:stdout 2014-11-07T13:20:00.295372:190\t2\t3.08\t34\t21\t36\t34\t21\t35.5\n"
       ]
      },
      {
       "output_type": "stream",
       "stream": "stderr",
       "text": [
        "INFO:interface:stdout 2014-11-07T13:20:00.295372:189\t2\t2.53\t54\t44\t35\t54\t44.5\t34.5\n"
       ]
      },
      {
       "output_type": "stream",
       "stream": "stderr",
       "text": [
        "INFO:interface:stdout 2014-11-07T13:20:00.295372:188\t2\t2.7\t28\t64\t33\t28.5\t64\t33\n"
       ]
      },
      {
       "output_type": "stream",
       "stream": "stderr",
       "text": [
        "INFO:interface:stdout 2014-11-07T13:20:00.295372:187\t2\t2.38\t65\t43\t34\t65\t43\t33.5\n"
       ]
      },
      {
       "output_type": "stream",
       "stream": "stderr",
       "text": [
        "INFO:interface:stdout 2014-11-07T13:20:00.295372:186\t2\t3.08\t47\t55\t32\t47\t55\t32.4\n"
       ]
      },
      {
       "output_type": "stream",
       "stream": "stderr",
       "text": [
        "INFO:interface:stdout 2014-11-07T13:20:00.295372:185\t2\t2.87\t51\t66\t31\t51\t66.5\t31\n"
       ]
      },
      {
       "output_type": "stream",
       "stream": "stderr",
       "text": [
        "INFO:interface:stdout 2014-11-07T13:20:00.295372:184\t2\t3.03\t20\t43\t31\t19.5\t43\t31\n"
       ]
      },
      {
       "output_type": "stream",
       "stream": "stderr",
       "text": [
        "INFO:interface:stdout 2014-11-07T13:20:00.295372:183\t2\t2.61\t25\t41\t31\t25\t41\t31.5\n"
       ]
      },
      {
       "output_type": "stream",
       "stream": "stderr",
       "text": [
        "INFO:interface:stdout 2014-11-07T13:20:00.295372:182\t2\t2.32\t63\t91\t31\t63\t91\t30.5\n"
       ]
      },
      {
       "output_type": "stream",
       "stream": "stderr",
       "text": [
        "INFO:interface:stdout 2014-11-07T13:20:00.295372:181\t2\t2.47\t38\t81\t31\t38\t81\t30.5\n"
       ]
      },
      {
       "output_type": "stream",
       "stream": "stderr",
       "text": [
        "INFO:interface:stdout 2014-11-07T13:20:00.295372:180\t2\t2.57\t43\t86\t30\t43\t86.5\t29.5\n"
       ]
      },
      {
       "output_type": "stream",
       "stream": "stderr",
       "text": [
        "INFO:interface:stdout 2014-11-07T13:20:00.295372:179\t2\t2.95\t65\t44\t29\t64.5\t44.5\t29.5\n"
       ]
      },
      {
       "output_type": "stream",
       "stream": "stderr",
       "text": [
        "INFO:interface:stdout 2014-11-07T13:20:00.295372:178\t2\t2.82\t46\t90\t28\t46\t90\t28.5\n"
       ]
      },
      {
       "output_type": "stream",
       "stream": "stderr",
       "text": [
        "INFO:interface:stdout 2014-11-07T13:20:00.295372:177\t2\t2.9\t33\t90\t28\t33\t90\t27.5\n"
       ]
      },
      {
       "output_type": "stream",
       "stream": "stderr",
       "text": [
        "INFO:interface:stdout 2014-11-07T13:20:00.295372:176\t2\t2.58\t21\t26\t28\t21\t26\t27.5\n"
       ]
      },
      {
       "output_type": "stream",
       "stream": "stderr",
       "text": [
        "INFO:interface:stdout 2014-11-07T13:20:00.295372:175\t2\t2.49\t50\t75\t26\t50\t75\t26.5\n"
       ]
      },
      {
       "output_type": "stream",
       "stream": "stderr",
       "text": [
        "INFO:interface:stdout 2014-11-07T13:20:00.295372:174\t2\t2.33\t66\t35\t25\t66\t34.5\t25\n"
       ]
      },
      {
       "output_type": "stream",
       "stream": "stderr",
       "text": [
        "INFO:interface:stdout 2014-11-07T13:20:00.295372:173\t2\t2.64\t44\t57\t24\t44.5\t57\t24\n"
       ]
      },
      {
       "output_type": "stream",
       "stream": "stderr",
       "text": [
        "INFO:interface:stdout 2014-11-07T13:20:00.295372:172\t2\t2.85\t41\t46\t25\t41\t46\t24.5\n"
       ]
      },
      {
       "output_type": "stream",
       "stream": "stderr",
       "text": [
        "INFO:interface:stdout 2014-11-07T13:20:00.295372:171\t2\t2.5\t52\t40\t25\t52\t40\t24.5\n"
       ]
      },
      {
       "output_type": "stream",
       "stream": "stderr",
       "text": [
        "INFO:interface:stdout 2014-11-07T13:20:00.295372:170\t2\t2.51\t32\t42\t23\t32\t41.5\t23\n"
       ]
      },
      {
       "output_type": "stream",
       "stream": "stderr",
       "text": [
        "INFO:interface:stdout 2014-11-07T13:20:00.295372:169\t2\t2.63\t71\t46\t22\t71\t46.5\t22\n"
       ]
      },
      {
       "output_type": "stream",
       "stream": "stderr",
       "text": [
        "INFO:interface:stdout 2014-11-07T13:20:00.295372:168\t2\t2.72\t49\t31\t21\t49\t31\t21.5\n"
       ]
      },
      {
       "output_type": "stream",
       "stream": "stderr",
       "text": [
        "INFO:interface:stdout 2014-11-07T13:20:00.295372:167\t2\t3.53\t61\t51\t21\t61\t51\t20.6\n"
       ]
      },
      {
       "output_type": "stream",
       "stream": "stderr",
       "text": [
        "INFO:interface:stdout 2014-11-07T13:20:00.295372:166\t2\t3.1\t36\t36\t21\t36\t36\t20.5\n"
       ]
      },
      {
       "output_type": "stream",
       "stream": "stderr",
       "text": [
        "INFO:interface:stdout 2014-11-07T13:20:00.295372:165\t2\t2.96\t20\t38\t20\t20\t38\t19.5\n"
       ]
      },
      {
       "output_type": "stream",
       "stream": "stderr",
       "text": [
        "INFO:interface:stdout 2014-11-07T13:20:00.295372:164\t2\t2.91\t45\t47\t18\t44.5\t47\t18\n"
       ]
      },
      {
       "output_type": "stream",
       "stream": "stderr",
       "text": [
        "INFO:interface:stdout 2014-11-07T13:20:00.295372:163\t2\t2.54\t42\t47\t17\t41.5\t47\t17.5\n"
       ]
      },
      {
       "output_type": "stream",
       "stream": "stderr",
       "text": [
        "INFO:interface:stdout 2014-11-07T13:20:00.295372:162\t2\t2.4\t49\t51\t16\t49\t51\t16.5\n"
       ]
      },
      {
       "output_type": "stream",
       "stream": "stderr",
       "text": [
        "INFO:interface:stdout 2014-11-07T13:20:00.295372:161\t2\t2.52\t43\t24\t16\t43\t24\t15.5\n"
       ]
      },
      {
       "output_type": "stream",
       "stream": "stderr",
       "text": [
        "INFO:interface:stdout 2014-11-07T13:20:00.295372:160\t2\t2.6\t49\t25\t15\t48.5\t25.5\t14.5\n"
       ]
      },
      {
       "output_type": "stream",
       "stream": "stderr",
       "text": [
        "INFO:interface:stdout 2014-11-07T13:20:00.295372:159\t2\t3.1\t61\t66\t12\t60.6\t65.6\t12\n"
       ]
      },
      {
       "output_type": "stream",
       "stream": "stderr",
       "text": [
        "INFO:interface:stdout 2014-11-07T13:20:00.295372:158\t2\t2.58\t34\t64\t12\t33.5\t64\t12.5\n"
       ]
      },
      {
       "output_type": "stream",
       "stream": "stderr",
       "text": [
        "INFO:interface:stdout 2014-11-07T13:20:00.295372:157\t2\t2.57\t51\t40\t12\t50.5\t40\t12\n"
       ]
      },
      {
       "output_type": "stream",
       "stream": "stderr",
       "text": [
        "INFO:interface:stdout 2014-11-07T13:20:00.295372:156\t2\t2.4\t32\t35\t12\t31.5\t35.5\t12\n"
       ]
      },
      {
       "output_type": "stream",
       "stream": "stderr",
       "text": [
        "INFO:interface:stdout 2014-11-07T13:20:00.295372:155\t2\t6.96\t68\t32\t10\t68.3\t32\t10\n"
       ]
      },
      {
       "output_type": "stream",
       "stream": "stderr",
       "text": [
        "INFO:interface:stdout 2014-11-07T13:20:00.295372:154\t1\t2.53\t58\t64\t71\t58\t64\t71\n"
       ]
      },
      {
       "output_type": "stream",
       "stream": "stderr",
       "text": [
        "INFO:interface:stdout 2014-11-07T13:20:00.295372:153\t1\t2.55\t47\t33\t68\t47\t33\t68\n"
       ]
      },
      {
       "output_type": "stream",
       "stream": "stderr",
       "text": [
        "INFO:interface:stdout 2014-11-07T13:20:00.295372:152\t1\t3.25\t43\t36\t67\t43\t36\t67\n"
       ]
      },
      {
       "output_type": "stream",
       "stream": "stderr",
       "text": [
        "INFO:interface:stdout 2014-11-07T13:20:00.295372:151\t1\t2.52\t26\t32\t66\t26\t32\t66\n"
       ]
      },
      {
       "output_type": "stream",
       "stream": "stderr",
       "text": [
        "INFO:interface:stdout 2014-11-07T13:20:00.295372:150\t1\t2.32\t60\t49\t65\t60\t49\t65\n"
       ]
      },
      {
       "output_type": "stream",
       "stream": "stderr",
       "text": [
        "INFO:interface:stdout 2014-11-07T13:20:00.295372:149\t1\t2.81\t52\t36\t65\t52\t36\t65\n"
       ]
      },
      {
       "output_type": "stream",
       "stream": "stderr",
       "text": [
        "INFO:interface:stdout 2014-11-07T13:20:00.295372:148\t1\t2.32\t44\t33\t65\t44\t33\t65\n"
       ]
      },
      {
       "output_type": "stream",
       "stream": "stderr",
       "text": [
        "INFO:interface:stdout 2014-11-07T13:20:00.295372:147\t1\t2.39\t57\t63\t63\t57\t63\t63\n"
       ]
      },
      {
       "output_type": "stream",
       "stream": "stderr",
       "text": [
        "INFO:interface:stdout 2014-11-07T13:20:00.295372:146\t1\t2.45\t53\t57\t63\t53\t57\t63\n"
       ]
      },
      {
       "output_type": "stream",
       "stream": "stderr",
       "text": [
        "INFO:interface:stdout 2014-11-07T13:20:00.295372:145\t1\t2.8\t67\t55\t63\t67\t55\t63\n"
       ]
      },
      {
       "output_type": "stream",
       "stream": "stderr",
       "text": [
        "INFO:interface:stdout 2014-11-07T13:20:00.295372:144\t1\t2.3\t59\t51\t63\t59\t51\t63\n"
       ]
      },
      {
       "output_type": "stream",
       "stream": "stderr",
       "text": [
        "INFO:interface:stdout 2014-11-07T13:20:00.295372:143\t1\t2.38\t41\t36\t63\t41\t36\t63\n"
       ]
      },
      {
       "output_type": "stream",
       "stream": "stderr",
       "text": [
        "INFO:interface:stdout 2014-11-07T13:20:00.295372:142\t1\t2.3\t53\t49\t62\t53\t49\t62\n"
       ]
      },
      {
       "output_type": "stream",
       "stream": "stderr",
       "text": [
        "INFO:interface:stdout 2014-11-07T13:20:00.295372:141\t1\t2.37\t61\t57\t61\t61\t57\t61\n"
       ]
      },
      {
       "output_type": "stream",
       "stream": "stderr",
       "text": [
        "INFO:interface:stdout 2014-11-07T13:20:00.295372:140\t1\t2.35\t28\t39\t61\t28\t39\t61\n"
       ]
      },
      {
       "output_type": "stream",
       "stream": "stderr",
       "text": [
        "INFO:interface:stdout 2014-11-07T13:20:00.295372:139\t1\t2.31\t37\t32\t61\t37\t32\t61\n"
       ]
      },
      {
       "output_type": "stream",
       "stream": "stderr",
       "text": [
        "INFO:interface:stdout 2014-11-07T13:20:00.295372:138\t1\t2.48\t62\t77\t60\t62\t77\t60\n"
       ]
      },
      {
       "output_type": "stream",
       "stream": "stderr",
       "text": [
        "INFO:interface:stdout 2014-11-07T13:20:00.295372:137\t1\t2.57\t66\t74\t60\t66\t74\t60\n"
       ]
      },
      {
       "output_type": "stream",
       "stream": "stderr",
       "text": [
        "INFO:interface:stdout 2014-11-07T13:20:00.295372:136\t1\t2.93\t52\t66\t60\t52\t66\t60\n"
       ]
      },
      {
       "output_type": "stream",
       "stream": "stderr",
       "text": [
        "INFO:interface:stdout 2014-11-07T13:20:00.295372:135\t1\t2.51\t16\t49\t59\t16\t49\t59\n"
       ]
      },
      {
       "output_type": "stream",
       "stream": "stderr",
       "text": [
        "INFO:interface:stdout 2014-11-07T13:20:00.295372:134\t1\t2.43\t28\t37\t58\t28\t37\t58\n"
       ]
      },
      {
       "output_type": "stream",
       "stream": "stderr",
       "text": [
        "INFO:interface:stdout 2014-11-07T13:20:00.295372:133\t1\t2.36\t28\t34\t58\t28\t34\t58\n"
       ]
      },
      {
       "output_type": "stream",
       "stream": "stderr",
       "text": [
        "INFO:interface:stdout 2014-11-07T13:20:00.295372:132\t1\t2.42\t62\t30\t58\t62\t30\t58\n"
       ]
      },
      {
       "output_type": "stream",
       "stream": "stderr",
       "text": [
        "INFO:interface:stdout 2014-11-07T13:20:00.295372:131\t1\t2.5\t31\t60\t57\t31\t60\t57\n"
       ]
      },
      {
       "output_type": "stream",
       "stream": "stderr",
       "text": [
        "INFO:interface:stdout 2014-11-07T13:20:00.295372:130\t1\t2.31\t17\t67\t56\t17\t67\t56\n"
       ]
      },
      {
       "output_type": "stream",
       "stream": "stderr",
       "text": [
        "INFO:interface:stdout 2014-11-07T13:20:00.295372:129\t1\t2.81\t61\t45\t56\t61\t45\t56\n"
       ]
      },
      {
       "output_type": "stream",
       "stream": "stderr",
       "text": [
        "INFO:interface:stdout 2014-11-07T13:20:00.295372:128\t1\t2.34\t75\t64\t55\t75\t64\t55\n"
       ]
      },
      {
       "output_type": "stream",
       "stream": "stderr",
       "text": [
        "INFO:interface:stdout 2014-11-07T13:20:00.295372:127\t1\t2.3\t36\t24\t55\t36\t24\t55\n"
       ]
      },
      {
       "output_type": "stream",
       "stream": "stderr",
       "text": [
        "INFO:interface:stdout 2014-11-07T13:20:00.295372:126\t1\t2.57\t39\t76\t54\t39\t76\t54\n"
       ]
      },
      {
       "output_type": "stream",
       "stream": "stderr",
       "text": [
        "INFO:interface:stdout 2014-11-07T13:20:00.295372:125\t1\t2.83\t39\t49\t54\t39\t49\t54\n"
       ]
      },
      {
       "output_type": "stream",
       "stream": "stderr",
       "text": [
        "INFO:interface:stdout 2014-11-07T13:20:00.295372:124\t1\t2.5\t63\t43\t54\t63\t43\t54\n"
       ]
      },
      {
       "output_type": "stream",
       "stream": "stderr",
       "text": [
        "INFO:interface:stdout 2014-11-07T13:20:00.295372:123\t1\t3.13\t29\t74\t53\t29\t74\t53\n"
       ]
      },
      {
       "output_type": "stream",
       "stream": "stderr",
       "text": [
        "INFO:interface:stdout 2014-11-07T13:20:00.295372:122\t1\t2.33\t63\t52\t53\t63\t52\t53\n"
       ]
      },
      {
       "output_type": "stream",
       "stream": "stderr",
       "text": [
        "INFO:interface:stdout 2014-11-07T13:20:00.295372:121\t1\t2.49\t66\t51\t52\t66\t51\t52\n"
       ]
      },
      {
       "output_type": "stream",
       "stream": "stderr",
       "text": [
        "INFO:interface:stdout 2014-11-07T13:20:00.295372:120\t1\t2.44\t34\t36\t52\t34\t36\t52\n"
       ]
      },
      {
       "output_type": "stream",
       "stream": "stderr",
       "text": [
        "INFO:interface:stdout 2014-11-07T13:20:00.295372:119\t1\t2.6\t45\t67\t50\t45\t67\t50\n"
       ]
      },
      {
       "output_type": "stream",
       "stream": "stderr",
       "text": [
        "INFO:interface:stdout 2014-11-07T13:20:00.295372:118\t1\t2.31\t15\t67\t50\t15\t67\t50\n"
       ]
      },
      {
       "output_type": "stream",
       "stream": "stderr",
       "text": [
        "INFO:interface:stdout 2014-11-07T13:20:00.295372:117\t1\t2.33\t66\t62\t50\t66\t62\t50\n"
       ]
      },
      {
       "output_type": "stream",
       "stream": "stderr",
       "text": [
        "INFO:interface:stdout 2014-11-07T13:20:00.295372:116\t1\t2.42\t27\t56\t50\t27\t56\t50\n"
       ]
      },
      {
       "output_type": "stream",
       "stream": "stderr",
       "text": [
        "INFO:interface:stdout 2014-11-07T13:20:00.295372:115\t1\t2.51\t62\t48\t50\t62\t48\t50\n"
       ]
      },
      {
       "output_type": "stream",
       "stream": "stderr",
       "text": [
        "INFO:interface:stdout 2014-11-07T13:20:00.295372:114\t1\t2.44\t26\t30\t50\t26\t30\t50\n"
       ]
      },
      {
       "output_type": "stream",
       "stream": "stderr",
       "text": [
        "INFO:interface:stdout 2014-11-07T13:20:00.295372:113\t1\t2.38\t29\t89\t49\t29\t89\t49\n"
       ]
      },
      {
       "output_type": "stream",
       "stream": "stderr",
       "text": [
        "INFO:interface:stdout 2014-11-07T13:20:00.295372:112\t1\t2.56\t33\t80\t49\t33\t80\t49\n"
       ]
      },
      {
       "output_type": "stream",
       "stream": "stderr",
       "text": [
        "INFO:interface:stdout 2014-11-07T13:20:00.295372:111\t1\t2.32\t35\t73\t49\t35\t73\t49\n"
       ]
      },
      {
       "output_type": "stream",
       "stream": "stderr",
       "text": [
        "INFO:interface:stdout 2014-11-07T13:20:00.295372:110\t1\t2.4\t15\t69\t49\t15\t69\t49\n"
       ]
      },
      {
       "output_type": "stream",
       "stream": "stderr",
       "text": [
        "INFO:interface:stdout 2014-11-07T13:20:00.295372:109\t1\t2.71\t51\t60\t49\t51\t60\t49\n"
       ]
      },
      {
       "output_type": "stream",
       "stream": "stderr",
       "text": [
        "INFO:interface:stdout 2014-11-07T13:20:00.295372:108\t1\t2.62\t37\t40\t49\t37\t40\t49\n"
       ]
      },
      {
       "output_type": "stream",
       "stream": "stderr",
       "text": [
        "INFO:interface:stdout 2014-11-07T13:20:00.295372:107\t1\t2.48\t32\t36\t49\t32\t36\t49\n"
       ]
      },
      {
       "output_type": "stream",
       "stream": "stderr",
       "text": [
        "INFO:interface:stdout 2014-11-07T13:20:00.295372:106\t1\t2.43\t34\t39\t48\t34\t39\t48\n"
       ]
      },
      {
       "output_type": "stream",
       "stream": "stderr",
       "text": [
        "INFO:interface:stdout 2014-11-07T13:20:00.295372:105\t1\t2.56\t71\t55\t47\t71\t55\t47\n"
       ]
      },
      {
       "output_type": "stream",
       "stream": "stderr",
       "text": [
        "INFO:interface:stdout 2014-11-07T13:20:00.295372:104\t1\t2.36\t43\t72\t46\t43\t72\t46\n"
       ]
      },
      {
       "output_type": "stream",
       "stream": "stderr",
       "text": [
        "INFO:interface:stdout 2014-11-07T13:20:00.295372:103\t1\t2.86\t35\t61\t46\t35\t61\t46\n"
       ]
      },
      {
       "output_type": "stream",
       "stream": "stderr",
       "text": [
        "INFO:interface:stdout 2014-11-07T13:20:00.295372:102\t1\t2.48\t29\t88\t45\t29\t88\t45\n"
       ]
      },
      {
       "output_type": "stream",
       "stream": "stderr",
       "text": [
        "INFO:interface:stdout 2014-11-07T13:20:00.295372:101\t1\t2.7\t21\t68\t45\t21\t68\t45\n"
       ]
      },
      {
       "output_type": "stream",
       "stream": "stderr",
       "text": [
        "INFO:interface:stdout 2014-11-07T13:20:00.295372:100\t1\t2.43\t35\t89\t44\t35\t89\t44\n"
       ]
      },
      {
       "output_type": "stream",
       "stream": "stderr",
       "text": [
        "INFO:interface:stdout 2014-11-07T13:20:00.295372:99\t1\t2.5\t62\t83\t44\t62\t83\t44\n"
       ]
      },
      {
       "output_type": "stream",
       "stream": "stderr",
       "text": [
        "INFO:interface:stdout 2014-11-07T13:20:00.295372:98\t1\t2.31\t43\t73\t44\t43\t73\t44\n"
       ]
      },
      {
       "output_type": "stream",
       "stream": "stderr",
       "text": [
        "INFO:interface:stdout 2014-11-07T13:20:00.295372:97\t1\t2.35\t74\t66\t44\t74\t66\t44\n"
       ]
      },
      {
       "output_type": "stream",
       "stream": "stderr",
       "text": [
        "INFO:interface:stdout 2014-11-07T13:20:00.295372:96\t1\t2.6\t42\t59\t44\t42\t59\t44\n"
       ]
      },
      {
       "output_type": "stream",
       "stream": "stderr",
       "text": [
        "INFO:interface:stdout 2014-11-07T13:20:00.295372:95\t1\t2.91\t14\t39\t44\t14\t39\t44\n"
       ]
      },
      {
       "output_type": "stream",
       "stream": "stderr",
       "text": [
        "INFO:interface:stdout 2014-11-07T13:20:00.295372:94\t1\t2.33\t38\t25\t44\t38\t25\t44\n"
       ]
      },
      {
       "output_type": "stream",
       "stream": "stderr",
       "text": [
        "INFO:interface:stdout 2014-11-07T13:20:00.295372:93\t1\t2.41\t59\t83\t43\t59\t83\t43\n"
       ]
      },
      {
       "output_type": "stream",
       "stream": "stderr",
       "text": [
        "INFO:interface:stdout 2014-11-07T13:20:00.295372:92\t1\t2.31\t45\t61\t43\t45\t61\t43\n"
       ]
      },
      {
       "output_type": "stream",
       "stream": "stderr",
       "text": [
        "INFO:interface:stdout 2014-11-07T13:20:00.295372:91\t1\t2.33\t57\t53\t43\t57\t53\t43\n"
       ]
      },
      {
       "output_type": "stream",
       "stream": "stderr",
       "text": [
        "INFO:interface:stdout 2014-11-07T13:20:00.295372:90\t1\t2.54\t61\t18\t43\t61\t18\t43\n"
       ]
      },
      {
       "output_type": "stream",
       "stream": "stderr",
       "text": [
        "INFO:interface:stdout 2014-11-07T13:20:00.295372:89\t1\t2.37\t34\t60\t42\t34\t60\t42\n"
       ]
      },
      {
       "output_type": "stream",
       "stream": "stderr",
       "text": [
        "INFO:interface:stdout 2014-11-07T13:20:00.359976:88\t1\t2.46\t25\t47\t42\t25\t47\t42\n"
       ]
      },
      {
       "output_type": "stream",
       "stream": "stderr",
       "text": [
        "INFO:interface:stdout 2014-11-07T13:20:00.359976:87\t1\t2.42\t39\t60\t40\t39\t60\t40\n"
       ]
      },
      {
       "output_type": "stream",
       "stream": "stderr",
       "text": [
        "INFO:interface:stdout 2014-11-07T13:20:00.359976:86\t1\t2.72\t64\t83\t39\t64\t83\t39\n"
       ]
      },
      {
       "output_type": "stream",
       "stream": "stderr",
       "text": [
        "INFO:interface:stdout 2014-11-07T13:20:00.359976:85\t1\t2.37\t51\t71\t39\t51\t71\t39\n"
       ]
      },
      {
       "output_type": "stream",
       "stream": "stderr",
       "text": [
        "INFO:interface:stdout 2014-11-07T13:20:00.359976:84\t1\t2.34\t39\t73\t38\t39\t73\t38\n"
       ]
      },
      {
       "output_type": "stream",
       "stream": "stderr",
       "text": [
        "INFO:interface:stdout 2014-11-07T13:20:00.359976:83\t1\t2.3\t55\t71\t38\t55\t71\t38\n"
       ]
      },
      {
       "output_type": "stream",
       "stream": "stderr",
       "text": [
        "INFO:interface:stdout 2014-11-07T13:20:00.359976:82\t1\t2.38\t57\t43\t38\t57\t43\t38\n"
       ]
      },
      {
       "output_type": "stream",
       "stream": "stderr",
       "text": [
        "INFO:interface:stdout 2014-11-07T13:20:00.359976:81\t1\t2.41\t28\t20\t38\t28\t20\t38\n"
       ]
      },
      {
       "output_type": "stream",
       "stream": "stderr",
       "text": [
        "INFO:interface:stdout 2014-11-07T13:20:00.359976:80\t1\t2.59\t56\t66\t37\t56\t66\t37\n"
       ]
      },
      {
       "output_type": "stream",
       "stream": "stderr",
       "text": [
        "INFO:interface:stdout 2014-11-07T13:20:00.359976:79\t1\t2.43\t28\t66\t37\t28\t66\t37\n"
       ]
      },
      {
       "output_type": "stream",
       "stream": "stderr",
       "text": [
        "INFO:interface:stdout 2014-11-07T13:20:00.359976:78\t1\t2.74\t65\t54\t37\t65\t54\t37\n"
       ]
      },
      {
       "output_type": "stream",
       "stream": "stderr",
       "text": [
        "INFO:interface:stdout 2014-11-07T13:20:00.359976:77\t1\t2.43\t57\t28\t37\t57\t28\t37\n"
       ]
      },
      {
       "output_type": "stream",
       "stream": "stderr",
       "text": [
        "INFO:interface:stdout 2014-11-07T13:20:00.359976:76\t1\t2.44\t36\t73\t36\t36\t73\t36\n"
       ]
      },
      {
       "output_type": "stream",
       "stream": "stderr",
       "text": [
        "INFO:interface:stdout 2014-11-07T13:20:00.359976:75\t1\t2.45\t30\t70\t36\t30\t70\t36\n"
       ]
      },
      {
       "output_type": "stream",
       "stream": "stderr",
       "text": [
        "INFO:interface:stdout 2014-11-07T13:20:00.359976:74\t1\t2.46\t38\t97\t35\t38\t97\t35\n"
       ]
      },
      {
       "output_type": "stream",
       "stream": "stderr",
       "text": [
        "INFO:interface:stdout 2014-11-07T13:20:00.359976:73\t1\t2.39\t28\t69\t34\t28\t69\t34\n"
       ]
      },
      {
       "output_type": "stream",
       "stream": "stderr",
       "text": [
        "INFO:interface:stdout 2014-11-07T13:20:00.359976:72\t1\t2.35\t19\t65\t34\t19\t65\t34\n"
       ]
      },
      {
       "output_type": "stream",
       "stream": "stderr",
       "text": [
        "INFO:interface:stdout 2014-11-07T13:20:00.359976:71\t1\t2.55\t38\t46\t34\t38\t46\t34\n"
       ]
      },
      {
       "output_type": "stream",
       "stream": "stderr",
       "text": [
        "INFO:interface:stdout 2014-11-07T13:20:00.359976:70\t1\t2.43\t30\t43\t34\t30\t43\t34\n"
       ]
      },
      {
       "output_type": "stream",
       "stream": "stderr",
       "text": [
        "INFO:interface:stdout 2014-11-07T13:20:00.359976:69\t1\t2.46\t32\t69\t33\t32\t69\t33\n"
       ]
      },
      {
       "output_type": "stream",
       "stream": "stderr",
       "text": [
        "INFO:interface:stdout 2014-11-07T13:20:00.359976:68\t1\t2.33\t41\t51\t33\t41\t51\t33\n"
       ]
      },
      {
       "output_type": "stream",
       "stream": "stderr",
       "text": [
        "INFO:interface:stdout 2014-11-07T13:20:00.359976:67\t1\t2.84\t42\t38\t33\t42\t38\t33\n"
       ]
      },
      {
       "output_type": "stream",
       "stream": "stderr",
       "text": [
        "INFO:interface:stdout 2014-11-07T13:20:00.359976:66\t1\t2.57\t40\t35\t33\t40\t35\t33\n"
       ]
      },
      {
       "output_type": "stream",
       "stream": "stderr",
       "text": [
        "INFO:interface:stdout 2014-11-07T13:20:00.359976:65\t1\t2.59\t19\t26\t33\t19\t26\t33\n"
       ]
      },
      {
       "output_type": "stream",
       "stream": "stderr",
       "text": [
        "INFO:interface:stdout 2014-11-07T13:20:00.359976:64\t1\t2.31\t37\t15\t33\t37\t15\t33\n"
       ]
      },
      {
       "output_type": "stream",
       "stream": "stderr",
       "text": [
        "INFO:interface:stdout 2014-11-07T13:20:00.359976:63\t1\t2.35\t55\t11\t33\t55\t11\t33\n"
       ]
      },
      {
       "output_type": "stream",
       "stream": "stderr",
       "text": [
        "INFO:interface:stdout 2014-11-07T13:20:00.359976:62\t1\t2.31\t57\t83\t32\t57\t83\t32\n"
       ]
      },
      {
       "output_type": "stream",
       "stream": "stderr",
       "text": [
        "INFO:interface:stdout 2014-11-07T13:20:00.359976:61\t1\t2.37\t39\t64\t32\t39\t64\t32\n"
       ]
      },
      {
       "output_type": "stream",
       "stream": "stderr",
       "text": [
        "INFO:interface:stdout 2014-11-07T13:20:00.359976:60\t1\t2.39\t64\t55\t32\t64\t55\t32\n"
       ]
      },
      {
       "output_type": "stream",
       "stream": "stderr",
       "text": [
        "INFO:interface:stdout 2014-11-07T13:20:00.359976:59\t1\t2.4\t24\t39\t32\t24\t39\t32\n"
       ]
      },
      {
       "output_type": "stream",
       "stream": "stderr",
       "text": [
        "INFO:interface:stdout 2014-11-07T13:20:00.359976:58\t1\t2.47\t71\t35\t32\t71\t35\t32\n"
       ]
      },
      {
       "output_type": "stream",
       "stream": "stderr",
       "text": [
        "INFO:interface:stdout 2014-11-07T13:20:00.359976:57\t1\t2.39\t41\t54\t31\t41\t54\t31\n"
       ]
      },
      {
       "output_type": "stream",
       "stream": "stderr",
       "text": [
        "INFO:interface:stdout 2014-11-07T13:20:00.359976:56\t1\t2.35\t23\t40\t30\t23\t40\t30\n"
       ]
      },
      {
       "output_type": "stream",
       "stream": "stderr",
       "text": [
        "INFO:interface:stdout 2014-11-07T13:20:00.359976:55\t1\t2.38\t19\t26\t30\t19\t26\t30\n"
       ]
      },
      {
       "output_type": "stream",
       "stream": "stderr",
       "text": [
        "INFO:interface:stdout 2014-11-07T13:20:00.359976:54\t1\t2.71\t24\t21\t30\t24\t21\t30\n"
       ]
      },
      {
       "output_type": "stream",
       "stream": "stderr",
       "text": [
        "INFO:interface:stdout 2014-11-07T13:20:00.359976:53\t1\t2.37\t30\t14\t30\t30\t14\t30\n"
       ]
      },
      {
       "output_type": "stream",
       "stream": "stderr",
       "text": [
        "INFO:interface:stdout 2014-11-07T13:20:00.359976:52\t1\t2.4\t72\t63\t29\t72\t63\t29\n"
       ]
      },
      {
       "output_type": "stream",
       "stream": "stderr",
       "text": [
        "INFO:interface:stdout 2014-11-07T13:20:00.359976:51\t1\t2.51\t22\t49\t29\t22\t49\t29\n"
       ]
      },
      {
       "output_type": "stream",
       "stream": "stderr",
       "text": [
        "INFO:interface:stdout 2014-11-07T13:20:00.359976:50\t1\t2.53\t69\t34\t29\t69\t34\t29\n"
       ]
      },
      {
       "output_type": "stream",
       "stream": "stderr",
       "text": [
        "INFO:interface:stdout 2014-11-07T13:20:00.359976:49\t1\t2.34\t37\t15\t29\t37\t15\t29\n"
       ]
      },
      {
       "output_type": "stream",
       "stream": "stderr",
       "text": [
        "INFO:interface:stdout 2014-11-07T13:20:00.359976:48\t1\t2.38\t50\t92\t28\t50\t92\t28\n"
       ]
      },
      {
       "output_type": "stream",
       "stream": "stderr",
       "text": [
        "INFO:interface:stdout 2014-11-07T13:20:00.359976:47\t1\t2.59\t17\t70\t28\t17\t70\t28\n"
       ]
      },
      {
       "output_type": "stream",
       "stream": "stderr",
       "text": [
        "INFO:interface:stdout 2014-11-07T13:20:00.359976:46\t1\t2.71\t19\t39\t28\t19\t39\t28\n"
       ]
      },
      {
       "output_type": "stream",
       "stream": "stderr",
       "text": [
        "INFO:interface:stdout 2014-11-07T13:20:00.359976:45\t1\t2.34\t24\t25\t28\t24\t25\t28\n"
       ]
      },
      {
       "output_type": "stream",
       "stream": "stderr",
       "text": [
        "INFO:interface:stdout 2014-11-07T13:20:00.359976:44\t1\t2.82\t70\t54\t27\t70\t54\t27\n"
       ]
      },
      {
       "output_type": "stream",
       "stream": "stderr",
       "text": [
        "INFO:interface:stdout 2014-11-07T13:20:00.359976:43\t1\t2.32\t52\t49\t27\t52\t49\t27\n"
       ]
      },
      {
       "output_type": "stream",
       "stream": "stderr",
       "text": [
        "INFO:interface:stdout 2014-11-07T13:20:00.359976:42\t1\t2.85\t11\t57\t26\t11\t57\t26\n"
       ]
      },
      {
       "output_type": "stream",
       "stream": "stderr",
       "text": [
        "INFO:interface:stdout 2014-11-07T13:20:00.359976:41\t1\t2.35\t18\t37\t26\t18\t37\t26\n"
       ]
      },
      {
       "output_type": "stream",
       "stream": "stderr",
       "text": [
        "INFO:interface:stdout 2014-11-07T13:20:00.359976:40\t1\t2.59\t63\t38\t25\t63\t38\t25\n"
       ]
      },
      {
       "output_type": "stream",
       "stream": "stderr",
       "text": [
        "INFO:interface:stdout 2014-11-07T13:20:00.359976:39\t1\t2.34\t61\t31\t25\t61\t31\t25\n"
       ]
      },
      {
       "output_type": "stream",
       "stream": "stderr",
       "text": [
        "INFO:interface:stdout 2014-11-07T13:20:00.359976:38\t1\t2.3\t37\t28\t25\t37\t28\t25\n"
       ]
      },
      {
       "output_type": "stream",
       "stream": "stderr",
       "text": [
        "INFO:interface:stdout 2014-11-07T13:20:00.359976:37\t1\t2.35\t40\t25\t25\t40\t25\t25\n"
       ]
      },
      {
       "output_type": "stream",
       "stream": "stderr",
       "text": [
        "INFO:interface:stdout 2014-11-07T13:20:00.359976:36\t1\t2.5\t37\t84\t23\t37\t84\t23\n"
       ]
      },
      {
       "output_type": "stream",
       "stream": "stderr",
       "text": [
        "INFO:interface:stdout 2014-11-07T13:20:00.359976:35\t1\t2.3\t38\t74\t23\t38\t74\t23\n"
       ]
      },
      {
       "output_type": "stream",
       "stream": "stderr",
       "text": [
        "INFO:interface:stdout 2014-11-07T13:20:00.359976:34\t1\t2.43\t17\t46\t23\t17\t46\t23\n"
       ]
      },
      {
       "output_type": "stream",
       "stream": "stderr",
       "text": [
        "INFO:interface:stdout 2014-11-07T13:20:00.359976:33\t1\t2.57\t66\t34\t23\t66\t34\t23\n"
       ]
      },
      {
       "output_type": "stream",
       "stream": "stderr",
       "text": [
        "INFO:interface:stdout 2014-11-07T13:20:00.359976:32\t1\t3.98\t47\t75\t22\t47\t75\t22\n"
       ]
      },
      {
       "output_type": "stream",
       "stream": "stderr",
       "text": [
        "INFO:interface:stdout 2014-11-07T13:20:00.359976:31\t1\t2.4\t50\t70\t22\t50\t70\t22\n"
       ]
      },
      {
       "output_type": "stream",
       "stream": "stderr",
       "text": [
        "INFO:interface:stdout 2014-11-07T13:20:00.359976:30\t1\t2.32\t66\t38\t22\t66\t38\t22\n"
       ]
      },
      {
       "output_type": "stream",
       "stream": "stderr",
       "text": [
        "INFO:interface:stdout 2014-11-07T13:20:00.359976:29\t1\t2.47\t31\t36\t22\t31\t36\t22\n"
       ]
      },
      {
       "output_type": "stream",
       "stream": "stderr",
       "text": [
        "INFO:interface:stdout 2014-11-07T13:20:00.359976:28\t1\t2.44\t40\t30\t22\t40\t30\t22\n"
       ]
      },
      {
       "output_type": "stream",
       "stream": "stderr",
       "text": [
        "INFO:interface:stdout 2014-11-07T13:20:00.359976:27\t1\t2.34\t31\t50\t21\t31\t50\t21\n"
       ]
      },
      {
       "output_type": "stream",
       "stream": "stderr",
       "text": [
        "INFO:interface:stdout 2014-11-07T13:20:00.359976:26\t1\t2.41\t30\t70\t20\t30\t70\t20\n"
       ]
      },
      {
       "output_type": "stream",
       "stream": "stderr",
       "text": [
        "INFO:interface:stdout 2014-11-07T13:20:00.359976:25\t1\t2.32\t43\t60\t19\t43\t60\t19\n"
       ]
      },
      {
       "output_type": "stream",
       "stream": "stderr",
       "text": [
        "INFO:interface:stdout 2014-11-07T13:20:00.359976:24\t1\t2.45\t21\t40\t19\t21\t40\t19\n"
       ]
      },
      {
       "output_type": "stream",
       "stream": "stderr",
       "text": [
        "INFO:interface:stdout 2014-11-07T13:20:00.359976:23\t1\t2.4\t34\t70\t18\t34\t70\t18\n"
       ]
      },
      {
       "output_type": "stream",
       "stream": "stderr",
       "text": [
        "INFO:interface:stdout 2014-11-07T13:20:00.359976:22\t1\t2.49\t47\t42\t18\t47\t42\t18\n"
       ]
      },
      {
       "output_type": "stream",
       "stream": "stderr",
       "text": [
        "INFO:interface:stdout 2014-11-07T13:20:00.359976:21\t1\t2.31\t32\t63\t17\t32\t63\t17\n"
       ]
      },
      {
       "output_type": "stream",
       "stream": "stderr",
       "text": [
        "INFO:interface:stdout 2014-11-07T13:20:00.359976:20\t1\t2.43\t37\t49\t17\t37\t49\t17\n"
       ]
      },
      {
       "output_type": "stream",
       "stream": "stderr",
       "text": [
        "INFO:interface:stdout 2014-11-07T13:20:00.359976:19\t1\t2.4\t61\t65\t16\t61\t65\t16\n"
       ]
      },
      {
       "output_type": "stream",
       "stream": "stderr",
       "text": [
        "INFO:interface:stdout 2014-11-07T13:20:00.359976:18\t1\t2.38\t55\t36\t16\t55\t36\t16\n"
       ]
      },
      {
       "output_type": "stream",
       "stream": "stderr",
       "text": [
        "INFO:interface:stdout 2014-11-07T13:20:00.359976:17\t1\t2.65\t40\t26\t15\t40\t26\t15\n"
       ]
      },
      {
       "output_type": "stream",
       "stream": "stderr",
       "text": [
        "INFO:interface:stdout 2014-11-07T13:20:00.359976:16\t1\t2.72\t61\t65\t14\t61\t65\t14\n"
       ]
      },
      {
       "output_type": "stream",
       "stream": "stderr",
       "text": [
        "INFO:interface:stdout 2014-11-07T13:20:00.359976:15\t1\t2.35\t63\t64\t14\t63\t64\t14\n"
       ]
      },
      {
       "output_type": "stream",
       "stream": "stderr",
       "text": [
        "INFO:interface:stdout 2014-11-07T13:20:00.359976:14\t1\t2.47\t43\t54\t14\t43\t54\t14\n"
       ]
      },
      {
       "output_type": "stream",
       "stream": "stderr",
       "text": [
        "INFO:interface:stdout 2014-11-07T13:20:00.359976:13\t1\t2.57\t50\t53\t14\t50\t53\t14\n"
       ]
      },
      {
       "output_type": "stream",
       "stream": "stderr",
       "text": [
        "INFO:interface:stdout 2014-11-07T13:20:00.359976:12\t1\t2.47\t21\t42\t14\t21\t42\t14\n"
       ]
      },
      {
       "output_type": "stream",
       "stream": "stderr",
       "text": [
        "INFO:interface:stdout 2014-11-07T13:20:00.359976:11\t1\t2.64\t22\t38\t14\t22\t38\t14\n"
       ]
      },
      {
       "output_type": "stream",
       "stream": "stderr",
       "text": [
        "INFO:interface:stdout 2014-11-07T13:20:00.359976:10\t1\t2.46\t22\t59\t13\t22\t59\t13\n"
       ]
      },
      {
       "output_type": "stream",
       "stream": "stderr",
       "text": [
        "INFO:interface:stdout 2014-11-07T13:20:00.359976:9\t1\t3.26\t47\t45\t13\t47\t45\t13\n"
       ]
      },
      {
       "output_type": "stream",
       "stream": "stderr",
       "text": [
        "INFO:interface:stdout 2014-11-07T13:20:00.359976:8\t1\t2.54\t65\t35\t13\t65\t35\t13\n"
       ]
      },
      {
       "output_type": "stream",
       "stream": "stderr",
       "text": [
        "INFO:interface:stdout 2014-11-07T13:20:00.359976:7\t1\t2.4\t40\t34\t13\t40\t34\t13\n"
       ]
      },
      {
       "output_type": "stream",
       "stream": "stderr",
       "text": [
        "INFO:interface:stdout 2014-11-07T13:20:00.359976:6\t1\t2.53\t33\t29\t13\t33\t29\t13\n"
       ]
      },
      {
       "output_type": "stream",
       "stream": "stderr",
       "text": [
        "INFO:interface:stdout 2014-11-07T13:20:00.359976:5\t1\t2.47\t49\t44\t12\t49\t44\t12\n"
       ]
      },
      {
       "output_type": "stream",
       "stream": "stderr",
       "text": [
        "INFO:interface:stdout 2014-11-07T13:20:00.359976:4\t1\t2.34\t62\t35\t12\t62\t35\t12\n"
       ]
      },
      {
       "output_type": "stream",
       "stream": "stderr",
       "text": [
        "INFO:interface:stdout 2014-11-07T13:20:00.359976:3\t1\t2.59\t43\t39\t10\t43\t39\t10\n"
       ]
      },
      {
       "output_type": "stream",
       "stream": "stderr",
       "text": [
        "INFO:interface:stdout 2014-11-07T13:20:00.359976:2\t1\t2.4\t31\t36\t10\t31\t36\t10\n"
       ]
      },
      {
       "output_type": "stream",
       "stream": "stderr",
       "text": [
        "INFO:interface:stdout 2014-11-07T13:20:00.359976:1\t1\t2.32\t65\t35\t9\t65\t35\t9\n"
       ]
      },
      {
       "output_type": "stream",
       "stream": "stderr",
       "text": [
        "INFO:workflow:Executing node cluster.aI.a2 in dir: /home/gdholla1/workflow_folders/in_limbo_level2_birte_fsl/_threshold_3.7/cluster\n"
       ]
      },
      {
       "output_type": "stream",
       "stream": "stderr",
       "text": [
        "INFO:workflow:Running: cluster --dlh=0.2841530000 --in=/home/gdholla1/workflow_folders/in_limbo_level2_birte_fsl/flameo/mapflow/_flameo0/stats/zstat1.nii.gz --othresh=/home/gdholla1/workflow_folders/in_limbo_level2_birte_fsl/_threshold_3.7/cluster/zstat1_threshold.nii.gz --thresh=3.7000000000\n"
       ]
      },
      {
       "output_type": "stream",
       "stream": "stderr",
       "text": [
        "INFO:interface:stdout 2014-11-07T13:20:00.636936:Cluster Index\tVoxels\tMAX\tMAX X (vox)\tMAX Y (vox)\tMAX Z (vox)\tCOG X (vox)\tCOG Y (vox)\tCOG Z (vox)\n"
       ]
      },
      {
       "output_type": "stream",
       "stream": "stderr",
       "text": [
        "INFO:interface:stdout 2014-11-07T13:20:00.636936:39\t24\t4.23\t27\t75\t39\t27.8\t74.7\t39.6\n"
       ]
      },
      {
       "output_type": "stream",
       "stream": "stderr",
       "text": [
        "INFO:interface:stdout 2014-11-07T13:20:00.636936:38\t19\t4.65\t48\t61\t64\t46.8\t61.3\t63.7\n"
       ]
      },
      {
       "output_type": "stream",
       "stream": "stderr",
       "text": [
        "INFO:interface:stdout 2014-11-07T13:20:00.638743:37\t9\t4.26\t39\t61\t70\t38.7\t60.8\t69.8\n"
       ]
      },
      {
       "output_type": "stream",
       "stream": "stderr",
       "text": [
        "INFO:interface:stdout 2014-11-07T13:20:00.638743:36\t4\t4.3\t53\t61\t69\t52.5\t60.5\t69.5\n"
       ]
      },
      {
       "output_type": "stream",
       "stream": "stderr",
       "text": [
        "INFO:interface:stdout 2014-11-07T13:20:00.638743:35\t4\t4.11\t65\t71\t38\t64.5\t72\t38.7\n"
       ]
      },
      {
       "output_type": "stream",
       "stream": "stderr",
       "text": [
        "INFO:interface:stdout 2014-11-07T13:20:00.638743:34\t3\t4.11\t39\t64\t67\t39.3\t63.4\t66.4\n"
       ]
      },
      {
       "output_type": "stream",
       "stream": "stderr",
       "text": [
        "INFO:interface:stdout 2014-11-07T13:20:00.638743:33\t3\t3.88\t24\t36\t30\t24\t35.7\t29\n"
       ]
      },
      {
       "output_type": "stream",
       "stream": "stderr",
       "text": [
        "INFO:interface:stdout 2014-11-07T13:20:00.638743:32\t2\t3.77\t22\t62\t62\t22\t61.5\t61.5\n"
       ]
      },
      {
       "output_type": "stream",
       "stream": "stderr",
       "text": [
        "INFO:interface:stdout 2014-11-07T13:20:00.638743:31\t2\t3.77\t19\t62\t59\t19.5\t61.5\t59.5\n"
       ]
      },
      {
       "output_type": "stream",
       "stream": "stderr",
       "text": [
        "INFO:interface:stdout 2014-11-07T13:20:00.638743:30\t2\t3.96\t42\t67\t58\t41.5\t66.5\t58\n"
       ]
      },
      {
       "output_type": "stream",
       "stream": "stderr",
       "text": [
        "INFO:interface:stdout 2014-11-07T13:20:00.638743:29\t2\t3.86\t61\t87\t45\t61\t87\t45.5\n"
       ]
      },
      {
       "output_type": "stream",
       "stream": "stderr",
       "text": [
        "INFO:interface:stdout 2014-11-07T13:20:00.638743:28\t2\t4.38\t24\t33\t30\t24\t33\t29.5\n"
       ]
      },
      {
       "output_type": "stream",
       "stream": "stderr",
       "text": [
        "INFO:interface:stdout 2014-11-07T13:20:00.638743:27\t1\t3.9\t30\t59\t70\t30\t59\t70\n"
       ]
      },
      {
       "output_type": "stream",
       "stream": "stderr",
       "text": [
        "INFO:interface:stdout 2014-11-07T13:20:00.638743:26\t1\t4.14\t61\t51\t70\t61\t51\t70\n"
       ]
      },
      {
       "output_type": "stream",
       "stream": "stderr",
       "text": [
        "INFO:interface:stdout 2014-11-07T13:20:00.638743:25\t1\t3.82\t49\t59\t69\t49\t59\t69\n"
       ]
      },
      {
       "output_type": "stream",
       "stream": "stderr",
       "text": [
        "INFO:interface:stdout 2014-11-07T13:20:00.638743:24\t1\t4.07\t51\t61\t67\t51\t61\t67\n"
       ]
      },
      {
       "output_type": "stream",
       "stream": "stderr",
       "text": [
        "INFO:interface:stdout 2014-11-07T13:20:00.638743:23\t1\t3.74\t52\t62\t65\t52\t62\t65\n"
       ]
      },
      {
       "output_type": "stream",
       "stream": "stderr",
       "text": [
        "INFO:interface:stdout 2014-11-07T13:20:00.638743:22\t1\t4.14\t68\t47\t65\t68\t47\t65\n"
       ]
      },
      {
       "output_type": "stream",
       "stream": "stderr",
       "text": [
        "INFO:interface:stdout 2014-11-07T13:20:00.638743:21\t1\t4.17\t62\t55\t64\t62\t55\t64\n"
       ]
      },
      {
       "output_type": "stream",
       "stream": "stderr",
       "text": [
        "INFO:interface:stdout 2014-11-07T13:20:00.638743:20\t1\t3.96\t63\t57\t63\t63\t57\t63\n"
       ]
      },
      {
       "output_type": "stream",
       "stream": "stderr",
       "text": [
        "INFO:interface:stdout 2014-11-07T13:20:00.638743:19\t1\t3.94\t47\t65\t61\t47\t65\t61\n"
       ]
      },
      {
       "output_type": "stream",
       "stream": "stderr",
       "text": [
        "INFO:interface:stdout 2014-11-07T13:20:00.638743:18\t1\t3.87\t42\t66\t60\t42\t66\t60\n"
       ]
      },
      {
       "output_type": "stream",
       "stream": "stderr",
       "text": [
        "INFO:interface:stdout 2014-11-07T13:20:00.638743:17\t1\t3.74\t40\t44\t57\t40\t44\t57\n"
       ]
      },
      {
       "output_type": "stream",
       "stream": "stderr",
       "text": [
        "INFO:interface:stdout 2014-11-07T13:20:00.638743:16\t1\t3.77\t68\t47\t56\t68\t47\t56\n"
       ]
      },
      {
       "output_type": "stream",
       "stream": "stderr",
       "text": [
        "INFO:interface:stdout 2014-11-07T13:20:00.638743:15\t1\t3.74\t72\t48\t54\t72\t48\t54\n"
       ]
      },
      {
       "output_type": "stream",
       "stream": "stderr",
       "text": [
        "INFO:interface:stdout 2014-11-07T13:20:00.638743:14\t1\t3.74\t16\t42\t50\t16\t42\t50\n"
       ]
      },
      {
       "output_type": "stream",
       "stream": "stderr",
       "text": [
        "INFO:interface:stdout 2014-11-07T13:20:00.638743:13\t1\t3.78\t14\t45\t49\t14\t45\t49\n"
       ]
      },
      {
       "output_type": "stream",
       "stream": "stderr",
       "text": [
        "INFO:interface:stdout 2014-11-07T13:20:00.638743:12\t1\t3.8\t46\t43\t46\t46\t43\t46\n"
       ]
      },
      {
       "output_type": "stream",
       "stream": "stderr",
       "text": [
        "INFO:interface:stdout 2014-11-07T13:20:00.638743:11\t1\t3.93\t40\t63\t45\t40\t63\t45\n"
       ]
      },
      {
       "output_type": "stream",
       "stream": "stderr",
       "text": [
        "INFO:interface:stdout 2014-11-07T13:20:00.638743:10\t1\t3.91\t47\t49\t44\t47\t49\t44\n"
       ]
      },
      {
       "output_type": "stream",
       "stream": "stderr",
       "text": [
        "INFO:interface:stdout 2014-11-07T13:20:00.638743:9\t1\t3.84\t30\t77\t38\t30\t77\t38\n"
       ]
      },
      {
       "output_type": "stream",
       "stream": "stderr",
       "text": [
        "INFO:interface:stdout 2014-11-07T13:20:00.638743:8\t1\t4.54\t24\t25\t34\t24\t25\t34\n"
       ]
      },
      {
       "output_type": "stream",
       "stream": "stderr",
       "text": [
        "INFO:interface:stdout 2014-11-07T13:20:00.638743:7\t1\t3.76\t21\t27\t31\t21\t27\t31\n"
       ]
      },
      {
       "output_type": "stream",
       "stream": "stderr",
       "text": [
        "INFO:interface:stdout 2014-11-07T13:20:00.638743:6\t1\t3.72\t49\t50\t30\t49\t50\t30\n"
       ]
      },
      {
       "output_type": "stream",
       "stream": "stderr",
       "text": [
        "INFO:interface:stdout 2014-11-07T13:20:00.638743:5\t1\t3.72\t33\t38\t28\t33\t38\t28\n"
       ]
      },
      {
       "output_type": "stream",
       "stream": "stderr",
       "text": [
        "INFO:interface:stdout 2014-11-07T13:20:00.638743:4\t1\t3.78\t42\t69\t26\t42\t69\t26\n"
       ]
      },
      {
       "output_type": "stream",
       "stream": "stderr",
       "text": [
        "INFO:interface:stdout 2014-11-07T13:20:00.638743:3\t1\t3.98\t47\t75\t22\t47\t75\t22\n"
       ]
      },
      {
       "output_type": "stream",
       "stream": "stderr",
       "text": [
        "INFO:interface:stdout 2014-11-07T13:20:00.638743:2\t1\t3.81\t67\t38\t19\t67\t38\t19\n"
       ]
      },
      {
       "output_type": "stream",
       "stream": "stderr",
       "text": [
        "INFO:interface:stdout 2014-11-07T13:20:00.638743:1\t1\t6.96\t68\t32\t10\t68\t32\t10\n"
       ]
      },
      {
       "output_type": "stream",
       "stream": "stderr",
       "text": [
        "INFO:workflow:Executing node get_comparison_voxel.a2 in dir: /home/gdholla1/workflow_folders/in_limbo_level2_birte_fsl/_threshold_3.7/get_comparison_voxel\n"
       ]
      },
      {
       "output_type": "stream",
       "stream": "stderr",
       "text": [
        "INFO:workflow:Executing node get_min_value.a2 in dir: /home/gdholla1/workflow_folders/in_limbo_level2_birte_fsl/_threshold_3.7/get_min_value\n"
       ]
      },
      {
       "output_type": "stream",
       "stream": "stderr",
       "text": [
        "INFO:workflow:Executing node _get_min_value0 in dir: /home/gdholla1/workflow_folders/in_limbo_level2_birte_fsl/_threshold_3.7/get_min_value/mapflow/_get_min_value0\n"
       ]
      },
      {
       "output_type": "stream",
       "stream": "stderr",
       "text": [
        "INFO:workflow:Executing node _get_min_value1 in dir: /home/gdholla1/workflow_folders/in_limbo_level2_birte_fsl/_threshold_3.7/get_min_value/mapflow/_get_min_value1\n"
       ]
      },
      {
       "output_type": "stream",
       "stream": "stderr",
       "text": [
        "INFO:workflow:Executing node _get_min_value2 in dir: /home/gdholla1/workflow_folders/in_limbo_level2_birte_fsl/_threshold_3.7/get_min_value/mapflow/_get_min_value2\n"
       ]
      },
      {
       "output_type": "stream",
       "stream": "stderr",
       "text": [
        "INFO:workflow:Executing node _get_min_value3 in dir: /home/gdholla1/workflow_folders/in_limbo_level2_birte_fsl/_threshold_3.7/get_min_value/mapflow/_get_min_value3\n"
       ]
      },
      {
       "output_type": "stream",
       "stream": "stderr",
       "text": [
        "INFO:workflow:Executing node _get_min_value4 in dir: /home/gdholla1/workflow_folders/in_limbo_level2_birte_fsl/_threshold_3.7/get_min_value/mapflow/_get_min_value4\n"
       ]
      },
      {
       "output_type": "stream",
       "stream": "stderr",
       "text": [
        "INFO:workflow:Executing node _get_min_value5 in dir: /home/gdholla1/workflow_folders/in_limbo_level2_birte_fsl/_threshold_3.7/get_min_value/mapflow/_get_min_value5\n"
       ]
      },
      {
       "output_type": "stream",
       "stream": "stderr",
       "text": [
        "INFO:workflow:Executing node _get_min_value6 in dir: /home/gdholla1/workflow_folders/in_limbo_level2_birte_fsl/_threshold_3.7/get_min_value/mapflow/_get_min_value6\n"
       ]
      },
      {
       "output_type": "stream",
       "stream": "stderr",
       "text": [
        "INFO:workflow:Executing node _get_min_value7 in dir: /home/gdholla1/workflow_folders/in_limbo_level2_birte_fsl/_threshold_3.7/get_min_value/mapflow/_get_min_value7\n"
       ]
      },
      {
       "output_type": "stream",
       "stream": "stderr",
       "text": [
        "INFO:workflow:Executing node _get_min_value8 in dir: /home/gdholla1/workflow_folders/in_limbo_level2_birte_fsl/_threshold_3.7/get_min_value/mapflow/_get_min_value8\n"
       ]
      },
      {
       "output_type": "stream",
       "stream": "stderr",
       "text": [
        "INFO:workflow:Executing node _get_min_value9 in dir: /home/gdholla1/workflow_folders/in_limbo_level2_birte_fsl/_threshold_3.7/get_min_value/mapflow/_get_min_value9\n"
       ]
      },
      {
       "output_type": "stream",
       "stream": "stderr",
       "text": [
        "INFO:workflow:Executing node _get_min_value10 in dir: /home/gdholla1/workflow_folders/in_limbo_level2_birte_fsl/_threshold_3.7/get_min_value/mapflow/_get_min_value10\n"
       ]
      },
      {
       "output_type": "stream",
       "stream": "stderr",
       "text": [
        "INFO:workflow:Executing node _get_min_value11 in dir: /home/gdholla1/workflow_folders/in_limbo_level2_birte_fsl/_threshold_3.7/get_min_value/mapflow/_get_min_value11\n"
       ]
      },
      {
       "output_type": "stream",
       "stream": "stderr",
       "text": [
        "INFO:workflow:Executing node _get_min_value12 in dir: /home/gdholla1/workflow_folders/in_limbo_level2_birte_fsl/_threshold_3.7/get_min_value/mapflow/_get_min_value12\n"
       ]
      },
      {
       "output_type": "stream",
       "stream": "stderr",
       "text": [
        "INFO:workflow:Executing node _get_min_value13 in dir: /home/gdholla1/workflow_folders/in_limbo_level2_birte_fsl/_threshold_3.7/get_min_value/mapflow/_get_min_value13\n"
       ]
      },
      {
       "output_type": "stream",
       "stream": "stderr",
       "text": [
        "INFO:workflow:Executing node _get_min_value14 in dir: /home/gdholla1/workflow_folders/in_limbo_level2_birte_fsl/_threshold_3.7/get_min_value/mapflow/_get_min_value14\n"
       ]
      },
      {
       "output_type": "stream",
       "stream": "stderr",
       "text": [
        "INFO:workflow:Executing node _get_min_value15 in dir: /home/gdholla1/workflow_folders/in_limbo_level2_birte_fsl/_threshold_3.7/get_min_value/mapflow/_get_min_value15\n"
       ]
      },
      {
       "output_type": "stream",
       "stream": "stderr",
       "text": [
        "INFO:workflow:Executing node _get_min_value16 in dir: /home/gdholla1/workflow_folders/in_limbo_level2_birte_fsl/_threshold_3.7/get_min_value/mapflow/_get_min_value16\n"
       ]
      },
      {
       "output_type": "stream",
       "stream": "stderr",
       "text": [
        "INFO:workflow:Executing node _get_min_value17 in dir: /home/gdholla1/workflow_folders/in_limbo_level2_birte_fsl/_threshold_3.7/get_min_value/mapflow/_get_min_value17\n"
       ]
      },
      {
       "output_type": "stream",
       "stream": "stderr",
       "text": [
        "INFO:workflow:Executing node _get_min_value18 in dir: /home/gdholla1/workflow_folders/in_limbo_level2_birte_fsl/_threshold_3.7/get_min_value/mapflow/_get_min_value18\n"
       ]
      },
      {
       "output_type": "stream",
       "stream": "stderr",
       "text": [
        "INFO:workflow:Executing node _get_min_value19 in dir: /home/gdholla1/workflow_folders/in_limbo_level2_birte_fsl/_threshold_3.7/get_min_value/mapflow/_get_min_value19\n"
       ]
      },
      {
       "output_type": "stream",
       "stream": "stderr",
       "text": [
        "INFO:workflow:Executing node _get_min_value20 in dir: /home/gdholla1/workflow_folders/in_limbo_level2_birte_fsl/_threshold_3.7/get_min_value/mapflow/_get_min_value20\n"
       ]
      },
      {
       "output_type": "stream",
       "stream": "stderr",
       "text": [
        "INFO:workflow:Executing node datasink.a2 in dir: /home/gdholla1/workflow_folders/in_limbo_level2_birte_fsl/_threshold_3.7/datasink\n"
       ]
      },
      {
       "output_type": "stream",
       "stream": "stderr",
       "text": [
        "INFO:workflow:Executing node cluster.aI.a1 in dir: /home/gdholla1/workflow_folders/in_limbo_level2_birte_fsl/_threshold_3.1/cluster\n"
       ]
      },
      {
       "output_type": "stream",
       "stream": "stderr",
       "text": [
        "INFO:workflow:Running: cluster --dlh=0.2841530000 --in=/home/gdholla1/workflow_folders/in_limbo_level2_birte_fsl/flameo/mapflow/_flameo0/stats/zstat1.nii.gz --othresh=/home/gdholla1/workflow_folders/in_limbo_level2_birte_fsl/_threshold_3.1/cluster/zstat1_threshold.nii.gz --thresh=3.1000000000\n"
       ]
      },
      {
       "output_type": "stream",
       "stream": "stderr",
       "text": [
        "INFO:interface:stdout 2014-11-07T13:20:02.210722:Cluster Index\tVoxels\tMAX\tMAX X (vox)\tMAX Y (vox)\tMAX Z (vox)\tCOG X (vox)\tCOG Y (vox)\tCOG Z (vox)\n"
       ]
      },
      {
       "output_type": "stream",
       "stream": "stderr",
       "text": [
        "INFO:interface:stdout 2014-11-07T13:20:02.210722:104\t121\t4.65\t48\t61\t64\t47.7\t61.6\t64.4\n"
       ]
      },
      {
       "output_type": "stream",
       "stream": "stderr",
       "text": [
        "INFO:interface:stdout 2014-11-07T13:20:02.210722:103\t69\t4.23\t27\t75\t39\t28.2\t75.3\t39.1\n"
       ]
      },
      {
       "output_type": "stream",
       "stream": "stderr",
       "text": [
        "INFO:interface:stdout 2014-11-07T13:20:02.210722:102\t60\t3.77\t22\t62\t62\t22.3\t61.4\t61\n"
       ]
      },
      {
       "output_type": "stream",
       "stream": "stderr",
       "text": [
        "INFO:interface:stdout 2014-11-07T13:20:02.212989:101\t53\t4.11\t65\t71\t38\t62.7\t73.6\t38.5\n"
       ]
      },
      {
       "output_type": "stream",
       "stream": "stderr",
       "text": [
        "INFO:interface:stdout 2014-11-07T13:20:02.212989:100\t41\t4.26\t39\t61\t70\t38\t61\t69.6\n"
       ]
      },
      {
       "output_type": "stream",
       "stream": "stderr",
       "text": [
        "INFO:interface:stdout 2014-11-07T13:20:02.212989:99\t38\t3.96\t42\t67\t58\t41.1\t66.7\t57.7\n"
       ]
      },
      {
       "output_type": "stream",
       "stream": "stderr",
       "text": [
        "INFO:interface:stdout 2014-11-07T13:20:02.212989:98\t16\t3.61\t23\t41\t22\t23.7\t41\t21.3\n"
       ]
      },
      {
       "output_type": "stream",
       "stream": "stderr",
       "text": [
        "INFO:interface:stdout 2014-11-07T13:20:02.212989:97\t13\t3.77\t68\t47\t56\t68.3\t46.7\t55.6\n"
       ]
      },
      {
       "output_type": "stream",
       "stream": "stderr",
       "text": [
        "INFO:interface:stdout 2014-11-07T13:20:02.212989:96\t11\t3.58\t61\t37\t20\t61.3\t35.5\t20.1\n"
       ]
      },
      {
       "output_type": "stream",
       "stream": "stderr",
       "text": [
        "INFO:interface:stdout 2014-11-07T13:20:02.212989:95\t10\t3.88\t24\t36\t30\t23.2\t35.8\t28.5\n"
       ]
      },
      {
       "output_type": "stream",
       "stream": "stderr",
       "text": [
        "INFO:interface:stdout 2014-11-07T13:20:02.212989:94\t9\t4.11\t39\t64\t67\t39.7\t63.9\t65.7\n"
       ]
      },
      {
       "output_type": "stream",
       "stream": "stderr",
       "text": [
        "INFO:interface:stdout 2014-11-07T13:20:02.212989:93\t9\t4.14\t68\t47\t65\t67.4\t46.7\t65.2\n"
       ]
      },
      {
       "output_type": "stream",
       "stream": "stderr",
       "text": [
        "INFO:interface:stdout 2014-11-07T13:20:02.212989:92\t9\t3.66\t25\t43\t53\t25.3\t44\t53\n"
       ]
      },
      {
       "output_type": "stream",
       "stream": "stderr",
       "text": [
        "INFO:interface:stdout 2014-11-07T13:20:02.212989:91\t8\t3.51\t30\t61\t63\t29.6\t60.2\t62.5\n"
       ]
      },
      {
       "output_type": "stream",
       "stream": "stderr",
       "text": [
        "INFO:interface:stdout 2014-11-07T13:20:02.212989:90\t8\t4.17\t62\t55\t64\t63.2\t56.2\t63.3\n"
       ]
      },
      {
       "output_type": "stream",
       "stream": "stderr",
       "text": [
        "INFO:interface:stdout 2014-11-07T13:20:02.212989:89\t7\t3.41\t41\t72\t53\t40.9\t72.6\t52.9\n"
       ]
      },
      {
       "output_type": "stream",
       "stream": "stderr",
       "text": [
        "INFO:interface:stdout 2014-11-07T13:20:02.212989:88\t7\t3.81\t67\t38\t19\t67.4\t36.9\t18.7\n"
       ]
      },
      {
       "output_type": "stream",
       "stream": "stderr",
       "text": [
        "INFO:interface:stdout 2014-11-07T13:20:02.212989:87\t6\t3.4\t61\t40\t57\t62.3\t40.5\t56\n"
       ]
      },
      {
       "output_type": "stream",
       "stream": "stderr",
       "text": [
        "INFO:interface:stdout 2014-11-07T13:20:02.212989:86\t6\t4.54\t24\t25\t34\t23.5\t25.5\t33.9\n"
       ]
      },
      {
       "output_type": "stream",
       "stream": "stderr",
       "text": [
        "INFO:interface:stdout 2014-11-07T13:20:02.212989:85\t5\t3.74\t40\t44\t57\t39.6\t43.6\t57\n"
       ]
      },
      {
       "output_type": "stream",
       "stream": "stderr",
       "text": [
        "INFO:interface:stdout 2014-11-07T13:20:02.212989:84\t5\t3.37\t70\t65\t38\t69.8\t66.6\t37.8\n"
       ]
      },
      {
       "output_type": "stream",
       "stream": "stderr",
       "text": [
        "INFO:interface:stdout 2014-11-07T13:20:02.212989:83\t4\t4.14\t61\t51\t70\t60.8\t50.8\t70.2\n"
       ]
      },
      {
       "output_type": "stream",
       "stream": "stderr",
       "text": [
        "INFO:interface:stdout 2014-11-07T13:20:02.212989:82\t4\t3.33\t39\t28\t61\t39\t28.2\t61.7\n"
       ]
      },
      {
       "output_type": "stream",
       "stream": "stderr",
       "text": [
        "INFO:interface:stdout 2014-11-07T13:20:02.212989:81\t4\t3.54\t74\t53\t57\t74\t53.2\t57.5\n"
       ]
      },
      {
       "output_type": "stream",
       "stream": "stderr",
       "text": [
        "INFO:interface:stdout 2014-11-07T13:20:02.212989:80\t4\t3.86\t61\t87\t45\t61.2\t87\t45\n"
       ]
      },
      {
       "output_type": "stream",
       "stream": "stderr",
       "text": [
        "INFO:interface:stdout 2014-11-07T13:20:02.212989:79\t4\t3.24\t38\t67\t41\t37.8\t66.3\t42\n"
       ]
      },
      {
       "output_type": "stream",
       "stream": "stderr",
       "text": [
        "INFO:interface:stdout 2014-11-07T13:20:02.212989:78\t4\t3.72\t33\t38\t28\t32.5\t38\t27.3\n"
       ]
      },
      {
       "output_type": "stream",
       "stream": "stderr",
       "text": [
        "INFO:interface:stdout 2014-11-07T13:20:02.212989:77\t4\t3.78\t42\t69\t26\t42.2\t68\t25.3\n"
       ]
      },
      {
       "output_type": "stream",
       "stream": "stderr",
       "text": [
        "INFO:interface:stdout 2014-11-07T13:20:02.212989:76\t3\t3.9\t30\t59\t70\t30.6\t59\t70.3\n"
       ]
      },
      {
       "output_type": "stream",
       "stream": "stderr",
       "text": [
        "INFO:interface:stdout 2014-11-07T13:20:02.212989:75\t3\t3.68\t66\t58\t63\t66.3\t58\t62.7\n"
       ]
      },
      {
       "output_type": "stream",
       "stream": "stderr",
       "text": [
        "INFO:interface:stdout 2014-11-07T13:20:02.212989:74\t3\t3.4\t38\t27\t56\t38.3\t27\t56.7\n"
       ]
      },
      {
       "output_type": "stream",
       "stream": "stderr",
       "text": [
        "INFO:interface:stdout 2014-11-07T13:20:02.212989:73\t3\t3.74\t72\t48\t54\t71.4\t48\t53.7\n"
       ]
      },
      {
       "output_type": "stream",
       "stream": "stderr",
       "text": [
        "INFO:interface:stdout 2014-11-07T13:20:02.212989:72\t3\t3.28\t29\t81\t50\t29.7\t81.3\t50.7\n"
       ]
      },
      {
       "output_type": "stream",
       "stream": "stderr",
       "text": [
        "INFO:interface:stdout 2014-11-07T13:20:02.212989:71\t3\t3.46\t42\t50\t49\t41.7\t50\t49.3\n"
       ]
      },
      {
       "output_type": "stream",
       "stream": "stderr",
       "text": [
        "INFO:interface:stdout 2014-11-07T13:20:02.212989:70\t3\t3.91\t47\t49\t44\t47\t49.3\t43.1\n"
       ]
      },
      {
       "output_type": "stream",
       "stream": "stderr",
       "text": [
        "INFO:interface:stdout 2014-11-07T13:20:02.212989:69\t3\t3.49\t57\t67\t42\t57.3\t67\t41\n"
       ]
      },
      {
       "output_type": "stream",
       "stream": "stderr",
       "text": [
        "INFO:interface:stdout 2014-11-07T13:20:02.212989:68\t3\t3.33\t22\t51\t32\t22.3\t51\t31\n"
       ]
      },
      {
       "output_type": "stream",
       "stream": "stderr",
       "text": [
        "INFO:interface:stdout 2014-11-07T13:20:02.212989:67\t3\t3.39\t35\t18\t31\t34.7\t17.7\t30.7\n"
       ]
      },
      {
       "output_type": "stream",
       "stream": "stderr",
       "text": [
        "INFO:interface:stdout 2014-11-07T13:20:02.212989:66\t3\t4.38\t24\t33\t30\t24\t33\t29.1\n"
       ]
      },
      {
       "output_type": "stream",
       "stream": "stderr",
       "text": [
        "INFO:interface:stdout 2014-11-07T13:20:02.212989:65\t2\t3.3\t26\t62\t66\t26\t62\t66.5\n"
       ]
      },
      {
       "output_type": "stream",
       "stream": "stderr",
       "text": [
        "INFO:interface:stdout 2014-11-07T13:20:02.212989:64\t2\t3.29\t66\t46\t63\t66\t46\t62.5\n"
       ]
      },
      {
       "output_type": "stream",
       "stream": "stderr",
       "text": [
        "INFO:interface:stdout 2014-11-07T13:20:02.212989:63\t2\t3.15\t63\t44\t63\t63.5\t43.5\t62.5\n"
       ]
      },
      {
       "output_type": "stream",
       "stream": "stderr",
       "text": [
        "INFO:interface:stdout 2014-11-07T13:20:02.212989:62\t2\t3.54\t61\t33\t59\t61.5\t33\t59.5\n"
       ]
      },
      {
       "output_type": "stream",
       "stream": "stderr",
       "text": [
        "INFO:interface:stdout 2014-11-07T13:20:02.212989:61\t2\t3.42\t72\t64\t51\t72\t64.5\t51\n"
       ]
      },
      {
       "output_type": "stream",
       "stream": "stderr",
       "text": [
        "INFO:interface:stdout 2014-11-07T13:20:02.212989:60\t2\t3.78\t14\t45\t49\t14\t45\t49.5\n"
       ]
      },
      {
       "output_type": "stream",
       "stream": "stderr",
       "text": [
        "INFO:interface:stdout 2014-11-07T13:20:02.212989:59\t2\t3.74\t16\t42\t50\t15.5\t42\t49.5\n"
       ]
      },
      {
       "output_type": "stream",
       "stream": "stderr",
       "text": [
        "INFO:interface:stdout 2014-11-07T13:20:02.212989:58\t2\t3.53\t22\t70\t49\t22\t70\t48.5\n"
       ]
      },
      {
       "output_type": "stream",
       "stream": "stderr",
       "text": [
        "INFO:interface:stdout 2014-11-07T13:20:02.212989:57\t2\t3.16\t34\t69\t42\t34\t69\t41.5\n"
       ]
      },
      {
       "output_type": "stream",
       "stream": "stderr",
       "text": [
        "INFO:interface:stdout 2014-11-07T13:20:02.212989:56\t2\t3.27\t53\t53\t40\t52.5\t53\t40.5\n"
       ]
      },
      {
       "output_type": "stream",
       "stream": "stderr",
       "text": [
        "INFO:interface:stdout 2014-11-07T13:20:02.212989:55\t2\t3.51\t57\t77\t37\t57\t77\t37.5\n"
       ]
      },
      {
       "output_type": "stream",
       "stream": "stderr",
       "text": [
        "INFO:interface:stdout 2014-11-07T13:20:02.212989:54\t2\t3.45\t35\t60\t35\t35\t60\t35.5\n"
       ]
      },
      {
       "output_type": "stream",
       "stream": "stderr",
       "text": [
        "INFO:interface:stdout 2014-11-07T13:20:02.212989:53\t2\t3.25\t48\t51\t36\t47.5\t51.5\t35.5\n"
       ]
      },
      {
       "output_type": "stream",
       "stream": "stderr",
       "text": [
        "INFO:interface:stdout 2014-11-07T13:20:02.212989:52\t2\t3.66\t50\t52\t31\t50\t52\t30.5\n"
       ]
      },
      {
       "output_type": "stream",
       "stream": "stderr",
       "text": [
        "INFO:interface:stdout 2014-11-07T13:20:02.212989:51\t2\t3.72\t49\t50\t30\t49\t50\t30.5\n"
       ]
      },
      {
       "output_type": "stream",
       "stream": "stderr",
       "text": [
        "INFO:interface:stdout 2014-11-07T13:20:02.212989:50\t2\t3.14\t29\t39\t21\t28.5\t39\t21\n"
       ]
      },
      {
       "output_type": "stream",
       "stream": "stderr",
       "text": [
        "INFO:interface:stdout 2014-11-07T13:20:02.212989:49\t2\t3.17\t26\t41\t14\t26\t41.5\t14\n"
       ]
      },
      {
       "output_type": "stream",
       "stream": "stderr",
       "text": [
        "INFO:interface:stdout 2014-11-07T13:20:02.212989:48\t2\t3.52\t70\t36\t12\t70\t36\t11.5\n"
       ]
      },
      {
       "output_type": "stream",
       "stream": "stderr",
       "text": [
        "INFO:interface:stdout 2014-11-07T13:20:02.212989:47\t1\t3.15\t60\t53\t70\t60\t53\t70\n"
       ]
      },
      {
       "output_type": "stream",
       "stream": "stderr",
       "text": [
        "INFO:interface:stdout 2014-11-07T13:20:02.212989:46\t1\t3.18\t54\t59\t67\t54\t59\t67\n"
       ]
      },
      {
       "output_type": "stream",
       "stream": "stderr",
       "text": [
        "INFO:interface:stdout 2014-11-07T13:20:02.212989:45\t1\t3.25\t43\t36\t67\t43\t36\t67\n"
       ]
      },
      {
       "output_type": "stream",
       "stream": "stderr",
       "text": [
        "INFO:interface:stdout 2014-11-07T13:20:02.212989:44\t1\t3.25\t59\t56\t66\t59\t56\t66\n"
       ]
      },
      {
       "output_type": "stream",
       "stream": "stderr",
       "text": [
        "INFO:interface:stdout 2014-11-07T13:20:02.212989:43\t1\t3.59\t64\t49\t64\t64\t49\t64\n"
       ]
      },
      {
       "output_type": "stream",
       "stream": "stderr",
       "text": [
        "INFO:interface:stdout 2014-11-07T13:20:02.212989:42\t1\t3.3\t45\t27\t64\t45\t27\t64\n"
       ]
      },
      {
       "output_type": "stream",
       "stream": "stderr",
       "text": [
        "INFO:interface:stdout 2014-11-07T13:20:02.212989:41\t1\t3.29\t61\t62\t63\t61\t62\t63\n"
       ]
      },
      {
       "output_type": "stream",
       "stream": "stderr",
       "text": [
        "INFO:interface:stdout 2014-11-07T13:20:02.212989:40\t1\t3.18\t58\t58\t62\t58\t58\t62\n"
       ]
      },
      {
       "output_type": "stream",
       "stream": "stderr",
       "text": [
        "INFO:interface:stdout 2014-11-07T13:20:02.212989:39\t1\t3.14\t47\t57\t62\t47\t57\t62\n"
       ]
      },
      {
       "output_type": "stream",
       "stream": "stderr",
       "text": [
        "INFO:interface:stdout 2014-11-07T13:20:02.212989:38\t1\t3.11\t61\t46\t60\t61\t46\t60\n"
       ]
      },
      {
       "output_type": "stream",
       "stream": "stderr",
       "text": [
        "INFO:interface:stdout 2014-11-07T13:20:02.212989:37\t1\t3.2\t26\t24\t57\t26\t24\t57\n"
       ]
      },
      {
       "output_type": "stream",
       "stream": "stderr",
       "text": [
        "INFO:interface:stdout 2014-11-07T13:20:02.212989:36\t1\t3.28\t66\t47\t55\t66\t47\t55\n"
       ]
      },
      {
       "output_type": "stream",
       "stream": "stderr",
       "text": [
        "INFO:interface:stdout 2014-11-07T13:20:02.212989:35\t1\t3.24\t29\t41\t55\t29\t41\t55\n"
       ]
      },
      {
       "output_type": "stream",
       "stream": "stderr",
       "text": [
        "INFO:interface:stdout 2014-11-07T13:20:02.212989:34\t1\t3.31\t29\t81\t54\t29\t81\t54\n"
       ]
      },
      {
       "output_type": "stream",
       "stream": "stderr",
       "text": [
        "INFO:interface:stdout 2014-11-07T13:20:02.212989:33\t1\t3.14\t47\t67\t54\t47\t67\t54\n"
       ]
      },
      {
       "output_type": "stream",
       "stream": "stderr",
       "text": [
        "INFO:interface:stdout 2014-11-07T13:20:02.212989:32\t1\t3.46\t38\t31\t54\t38\t31\t54\n"
       ]
      },
      {
       "output_type": "stream",
       "stream": "stderr",
       "text": [
        "INFO:interface:stdout 2014-11-07T13:20:02.212989:31\t1\t3.13\t29\t74\t53\t29\t74\t53\n"
       ]
      },
      {
       "output_type": "stream",
       "stream": "stderr",
       "text": [
        "INFO:interface:stdout 2014-11-07T13:20:02.212989:30\t1\t3.18\t28\t80\t52\t28\t80\t52\n"
       ]
      },
      {
       "output_type": "stream",
       "stream": "stderr",
       "text": [
        "INFO:interface:stdout 2014-11-07T13:20:02.212989:29\t1\t3.18\t16\t42\t52\t16\t42\t52\n"
       ]
      },
      {
       "output_type": "stream",
       "stream": "stderr",
       "text": [
        "INFO:interface:stdout 2014-11-07T13:20:02.212989:28\t1\t3.37\t27\t86\t50\t27\t86\t50\n"
       ]
      },
      {
       "output_type": "stream",
       "stream": "stderr",
       "text": [
        "INFO:interface:stdout 2014-11-07T13:20:02.212989:27\t1\t3.6\t55\t81\t47\t55\t81\t47\n"
       ]
      },
      {
       "output_type": "stream",
       "stream": "stderr",
       "text": [
        "INFO:interface:stdout 2014-11-07T13:20:02.212989:26\t1\t3.8\t46\t43\t46\t46\t43\t46\n"
       ]
      },
      {
       "output_type": "stream",
       "stream": "stderr",
       "text": [
        "INFO:interface:stdout 2014-11-07T13:20:02.212989:25\t1\t3.16\t44\t70\t45\t44\t70\t45\n"
       ]
      },
      {
       "output_type": "stream",
       "stream": "stderr",
       "text": [
        "INFO:interface:stdout 2014-11-07T13:20:02.212989:24\t1\t3.93\t40\t63\t45\t40\t63\t45\n"
       ]
      },
      {
       "output_type": "stream",
       "stream": "stderr",
       "text": [
        "INFO:interface:stdout 2014-11-07T13:20:02.212989:23\t1\t3.11\t51\t51\t43\t51\t51\t43\n"
       ]
      },
      {
       "output_type": "stream",
       "stream": "stderr",
       "text": [
        "INFO:interface:stdout 2014-11-07T13:20:02.212989:22\t1\t3.37\t33\t66\t42\t33\t66\t42\n"
       ]
      },
      {
       "output_type": "stream",
       "stream": "stderr",
       "text": [
        "INFO:interface:stdout 2014-11-07T13:20:02.212989:21\t1\t3.17\t56\t71\t41\t56\t71\t41\n"
       ]
      },
      {
       "output_type": "stream",
       "stream": "stderr",
       "text": [
        "INFO:interface:stdout 2014-11-07T13:20:02.212989:20\t1\t3.32\t37\t70\t39\t37\t70\t39\n"
       ]
      },
      {
       "output_type": "stream",
       "stream": "stderr",
       "text": [
        "INFO:interface:stdout 2014-11-07T13:20:02.212989:19\t1\t3.26\t21\t68\t38\t21\t68\t38\n"
       ]
      },
      {
       "output_type": "stream",
       "stream": "stderr",
       "text": [
        "INFO:interface:stdout 2014-11-07T13:20:02.212989:18\t1\t3.26\t22\t70\t37\t22\t70\t37\n"
       ]
      },
      {
       "output_type": "stream",
       "stream": "stderr",
       "text": [
        "INFO:interface:stdout 2014-11-07T13:20:02.212989:17\t1\t3.27\t41\t48\t35\t41\t48\t35\n"
       ]
      },
      {
       "output_type": "stream",
       "stream": "stderr",
       "text": [
        "INFO:interface:stdout 2014-11-07T13:20:02.212989:16\t1\t3.25\t57\t67\t34\t57\t67\t34\n"
       ]
      },
      {
       "output_type": "stream",
       "stream": "stderr",
       "text": [
        "INFO:interface:stdout 2014-11-07T13:20:02.212989:15\t1\t3.17\t62\t51\t34\t62\t51\t34\n"
       ]
      },
      {
       "output_type": "stream",
       "stream": "stderr",
       "text": [
        "INFO:interface:stdout 2014-11-07T13:20:02.212989:14\t1\t3.33\t33\t17\t33\t33\t17\t33\n"
       ]
      },
      {
       "output_type": "stream",
       "stream": "stderr",
       "text": [
        "INFO:interface:stdout 2014-11-07T13:20:02.212989:13\t1\t3.76\t21\t27\t31\t21\t27\t31\n"
       ]
      },
      {
       "output_type": "stream",
       "stream": "stderr",
       "text": [
        "INFO:interface:stdout 2014-11-07T13:20:02.212989:12\t1\t3.61\t47\t23\t31\t47\t23\t31\n"
       ]
      },
      {
       "output_type": "stream",
       "stream": "stderr",
       "text": [
        "INFO:interface:stdout 2014-11-07T13:20:02.212989:11\t1\t3.21\t61\t36\t28\t61\t36\t28\n"
       ]
      },
      {
       "output_type": "stream",
       "stream": "stderr",
       "text": [
        "INFO:interface:stdout 2014-11-07T13:20:02.212989:10\t1\t3.27\t19\t32\t28\t19\t32\t28\n"
       ]
      },
      {
       "output_type": "stream",
       "stream": "stderr",
       "text": [
        "INFO:interface:stdout 2014-11-07T13:20:02.212989:9\t1\t3.98\t47\t75\t22\t47\t75\t22\n"
       ]
      },
      {
       "output_type": "stream",
       "stream": "stderr",
       "text": [
        "INFO:interface:stdout 2014-11-07T13:20:02.212989:8\t1\t3.28\t50\t67\t22\t50\t67\t22\n"
       ]
      },
      {
       "output_type": "stream",
       "stream": "stderr",
       "text": [
        "INFO:interface:stdout 2014-11-07T13:20:02.212989:7\t1\t3.21\t22\t34\t22\t22\t34\t22\n"
       ]
      },
      {
       "output_type": "stream",
       "stream": "stderr",
       "text": [
        "INFO:interface:stdout 2014-11-07T13:20:02.212989:6\t1\t3.53\t61\t51\t21\t61\t51\t21\n"
       ]
      },
      {
       "output_type": "stream",
       "stream": "stderr",
       "text": [
        "INFO:interface:stdout 2014-11-07T13:20:02.212989:5\t1\t3.11\t43\t45\t17\t43\t45\t17\n"
       ]
      },
      {
       "output_type": "stream",
       "stream": "stderr",
       "text": [
        "INFO:interface:stdout 2014-11-07T13:20:02.212989:4\t1\t3.26\t47\t45\t13\t47\t45\t13\n"
       ]
      },
      {
       "output_type": "stream",
       "stream": "stderr",
       "text": [
        "INFO:interface:stdout 2014-11-07T13:20:02.212989:3\t1\t3.1\t61\t66\t12\t61\t66\t12\n"
       ]
      },
      {
       "output_type": "stream",
       "stream": "stderr",
       "text": [
        "INFO:interface:stdout 2014-11-07T13:20:02.212989:2\t1\t3.2\t27\t38\t11\t27\t38\t11\n"
       ]
      },
      {
       "output_type": "stream",
       "stream": "stderr",
       "text": [
        "INFO:interface:stdout 2014-11-07T13:20:02.212989:1\t1\t6.96\t68\t32\t10\t68\t32\t10\n"
       ]
      },
      {
       "output_type": "stream",
       "stream": "stderr",
       "text": [
        "INFO:workflow:Executing node get_comparison_voxel.a1 in dir: /home/gdholla1/workflow_folders/in_limbo_level2_birte_fsl/_threshold_3.1/get_comparison_voxel\n"
       ]
      },
      {
       "output_type": "stream",
       "stream": "stderr",
       "text": [
        "INFO:workflow:Executing node get_min_value.a1 in dir: /home/gdholla1/workflow_folders/in_limbo_level2_birte_fsl/_threshold_3.1/get_min_value\n"
       ]
      },
      {
       "output_type": "stream",
       "stream": "stderr",
       "text": [
        "INFO:workflow:Executing node _get_min_value0 in dir: /home/gdholla1/workflow_folders/in_limbo_level2_birte_fsl/_threshold_3.1/get_min_value/mapflow/_get_min_value0\n"
       ]
      },
      {
       "output_type": "stream",
       "stream": "stderr",
       "text": [
        "INFO:workflow:Executing node _get_min_value1 in dir: /home/gdholla1/workflow_folders/in_limbo_level2_birte_fsl/_threshold_3.1/get_min_value/mapflow/_get_min_value1\n"
       ]
      },
      {
       "output_type": "stream",
       "stream": "stderr",
       "text": [
        "INFO:workflow:Executing node _get_min_value2 in dir: /home/gdholla1/workflow_folders/in_limbo_level2_birte_fsl/_threshold_3.1/get_min_value/mapflow/_get_min_value2\n"
       ]
      },
      {
       "output_type": "stream",
       "stream": "stderr",
       "text": [
        "INFO:workflow:Executing node _get_min_value3 in dir: /home/gdholla1/workflow_folders/in_limbo_level2_birte_fsl/_threshold_3.1/get_min_value/mapflow/_get_min_value3\n"
       ]
      },
      {
       "output_type": "stream",
       "stream": "stderr",
       "text": [
        "INFO:workflow:Executing node _get_min_value4 in dir: /home/gdholla1/workflow_folders/in_limbo_level2_birte_fsl/_threshold_3.1/get_min_value/mapflow/_get_min_value4\n"
       ]
      },
      {
       "output_type": "stream",
       "stream": "stderr",
       "text": [
        "INFO:workflow:Executing node _get_min_value5 in dir: /home/gdholla1/workflow_folders/in_limbo_level2_birte_fsl/_threshold_3.1/get_min_value/mapflow/_get_min_value5\n"
       ]
      },
      {
       "output_type": "stream",
       "stream": "stderr",
       "text": [
        "INFO:workflow:Executing node _get_min_value6 in dir: /home/gdholla1/workflow_folders/in_limbo_level2_birte_fsl/_threshold_3.1/get_min_value/mapflow/_get_min_value6\n"
       ]
      },
      {
       "output_type": "stream",
       "stream": "stderr",
       "text": [
        "INFO:workflow:Executing node _get_min_value7 in dir: /home/gdholla1/workflow_folders/in_limbo_level2_birte_fsl/_threshold_3.1/get_min_value/mapflow/_get_min_value7\n"
       ]
      },
      {
       "output_type": "stream",
       "stream": "stderr",
       "text": [
        "INFO:workflow:Executing node _get_min_value8 in dir: /home/gdholla1/workflow_folders/in_limbo_level2_birte_fsl/_threshold_3.1/get_min_value/mapflow/_get_min_value8\n"
       ]
      },
      {
       "output_type": "stream",
       "stream": "stderr",
       "text": [
        "INFO:workflow:Executing node _get_min_value9 in dir: /home/gdholla1/workflow_folders/in_limbo_level2_birte_fsl/_threshold_3.1/get_min_value/mapflow/_get_min_value9\n"
       ]
      },
      {
       "output_type": "stream",
       "stream": "stderr",
       "text": [
        "INFO:workflow:Executing node _get_min_value10 in dir: /home/gdholla1/workflow_folders/in_limbo_level2_birte_fsl/_threshold_3.1/get_min_value/mapflow/_get_min_value10\n"
       ]
      },
      {
       "output_type": "stream",
       "stream": "stderr",
       "text": [
        "INFO:workflow:Executing node _get_min_value11 in dir: /home/gdholla1/workflow_folders/in_limbo_level2_birte_fsl/_threshold_3.1/get_min_value/mapflow/_get_min_value11\n"
       ]
      },
      {
       "output_type": "stream",
       "stream": "stderr",
       "text": [
        "INFO:workflow:Executing node _get_min_value12 in dir: /home/gdholla1/workflow_folders/in_limbo_level2_birte_fsl/_threshold_3.1/get_min_value/mapflow/_get_min_value12\n"
       ]
      },
      {
       "output_type": "stream",
       "stream": "stderr",
       "text": [
        "INFO:workflow:Executing node _get_min_value13 in dir: /home/gdholla1/workflow_folders/in_limbo_level2_birte_fsl/_threshold_3.1/get_min_value/mapflow/_get_min_value13\n"
       ]
      },
      {
       "output_type": "stream",
       "stream": "stderr",
       "text": [
        "INFO:workflow:Executing node _get_min_value14 in dir: /home/gdholla1/workflow_folders/in_limbo_level2_birte_fsl/_threshold_3.1/get_min_value/mapflow/_get_min_value14\n"
       ]
      },
      {
       "output_type": "stream",
       "stream": "stderr",
       "text": [
        "INFO:workflow:Executing node _get_min_value15 in dir: /home/gdholla1/workflow_folders/in_limbo_level2_birte_fsl/_threshold_3.1/get_min_value/mapflow/_get_min_value15\n"
       ]
      },
      {
       "output_type": "stream",
       "stream": "stderr",
       "text": [
        "INFO:workflow:Executing node _get_min_value16 in dir: /home/gdholla1/workflow_folders/in_limbo_level2_birte_fsl/_threshold_3.1/get_min_value/mapflow/_get_min_value16\n"
       ]
      },
      {
       "output_type": "stream",
       "stream": "stderr",
       "text": [
        "INFO:workflow:Executing node _get_min_value17 in dir: /home/gdholla1/workflow_folders/in_limbo_level2_birte_fsl/_threshold_3.1/get_min_value/mapflow/_get_min_value17\n"
       ]
      },
      {
       "output_type": "stream",
       "stream": "stderr",
       "text": [
        "INFO:workflow:Executing node _get_min_value18 in dir: /home/gdholla1/workflow_folders/in_limbo_level2_birte_fsl/_threshold_3.1/get_min_value/mapflow/_get_min_value18\n"
       ]
      },
      {
       "output_type": "stream",
       "stream": "stderr",
       "text": [
        "INFO:workflow:Executing node _get_min_value19 in dir: /home/gdholla1/workflow_folders/in_limbo_level2_birte_fsl/_threshold_3.1/get_min_value/mapflow/_get_min_value19\n"
       ]
      },
      {
       "output_type": "stream",
       "stream": "stderr",
       "text": [
        "INFO:workflow:Executing node _get_min_value20 in dir: /home/gdholla1/workflow_folders/in_limbo_level2_birte_fsl/_threshold_3.1/get_min_value/mapflow/_get_min_value20\n"
       ]
      },
      {
       "output_type": "stream",
       "stream": "stderr",
       "text": [
        "INFO:workflow:Executing node subtract_from_cope.a1 in dir: /home/gdholla1/workflow_folders/in_limbo_level2_birte_fsl/_threshold_3.1/subtract_from_cope\n"
       ]
      },
      {
       "output_type": "stream",
       "stream": "stderr",
       "text": [
        "INFO:workflow:Executing node _subtract_from_cope0 in dir: /home/gdholla1/workflow_folders/in_limbo_level2_birte_fsl/_threshold_3.1/subtract_from_cope/mapflow/_subtract_from_cope0\n"
       ]
      },
      {
       "output_type": "stream",
       "stream": "stderr",
       "text": [
        "INFO:workflow:Executing node _subtract_from_cope1 in dir: /home/gdholla1/workflow_folders/in_limbo_level2_birte_fsl/_threshold_3.1/subtract_from_cope/mapflow/_subtract_from_cope1\n"
       ]
      },
      {
       "output_type": "stream",
       "stream": "stderr",
       "text": [
        "INFO:workflow:Executing node _subtract_from_cope2 in dir: /home/gdholla1/workflow_folders/in_limbo_level2_birte_fsl/_threshold_3.1/subtract_from_cope/mapflow/_subtract_from_cope2\n"
       ]
      },
      {
       "output_type": "stream",
       "stream": "stderr",
       "text": [
        "INFO:workflow:Executing node _subtract_from_cope3 in dir: /home/gdholla1/workflow_folders/in_limbo_level2_birte_fsl/_threshold_3.1/subtract_from_cope/mapflow/_subtract_from_cope3\n"
       ]
      },
      {
       "output_type": "stream",
       "stream": "stderr",
       "text": [
        "INFO:workflow:Executing node _subtract_from_cope4 in dir: /home/gdholla1/workflow_folders/in_limbo_level2_birte_fsl/_threshold_3.1/subtract_from_cope/mapflow/_subtract_from_cope4\n"
       ]
      },
      {
       "output_type": "stream",
       "stream": "stderr",
       "text": [
        "INFO:workflow:Executing node _subtract_from_cope5 in dir: /home/gdholla1/workflow_folders/in_limbo_level2_birte_fsl/_threshold_3.1/subtract_from_cope/mapflow/_subtract_from_cope5\n"
       ]
      },
      {
       "output_type": "stream",
       "stream": "stderr",
       "text": [
        "INFO:workflow:Executing node _subtract_from_cope6 in dir: /home/gdholla1/workflow_folders/in_limbo_level2_birte_fsl/_threshold_3.1/subtract_from_cope/mapflow/_subtract_from_cope6\n"
       ]
      },
      {
       "output_type": "stream",
       "stream": "stderr",
       "text": [
        "INFO:workflow:Executing node _subtract_from_cope7 in dir: /home/gdholla1/workflow_folders/in_limbo_level2_birte_fsl/_threshold_3.1/subtract_from_cope/mapflow/_subtract_from_cope7\n"
       ]
      },
      {
       "output_type": "stream",
       "stream": "stderr",
       "text": [
        "INFO:workflow:Executing node _subtract_from_cope8 in dir: /home/gdholla1/workflow_folders/in_limbo_level2_birte_fsl/_threshold_3.1/subtract_from_cope/mapflow/_subtract_from_cope8\n"
       ]
      },
      {
       "output_type": "stream",
       "stream": "stderr",
       "text": [
        "INFO:workflow:Executing node _subtract_from_cope9 in dir: /home/gdholla1/workflow_folders/in_limbo_level2_birte_fsl/_threshold_3.1/subtract_from_cope/mapflow/_subtract_from_cope9\n"
       ]
      },
      {
       "output_type": "stream",
       "stream": "stderr",
       "text": [
        "INFO:workflow:Executing node _subtract_from_cope10 in dir: /home/gdholla1/workflow_folders/in_limbo_level2_birte_fsl/_threshold_3.1/subtract_from_cope/mapflow/_subtract_from_cope10\n"
       ]
      },
      {
       "output_type": "stream",
       "stream": "stderr",
       "text": [
        "INFO:workflow:Executing node _subtract_from_cope11 in dir: /home/gdholla1/workflow_folders/in_limbo_level2_birte_fsl/_threshold_3.1/subtract_from_cope/mapflow/_subtract_from_cope11\n"
       ]
      },
      {
       "output_type": "stream",
       "stream": "stderr",
       "text": [
        "INFO:workflow:Executing node _subtract_from_cope12 in dir: /home/gdholla1/workflow_folders/in_limbo_level2_birte_fsl/_threshold_3.1/subtract_from_cope/mapflow/_subtract_from_cope12\n"
       ]
      },
      {
       "output_type": "stream",
       "stream": "stderr",
       "text": [
        "INFO:workflow:Executing node _subtract_from_cope13 in dir: /home/gdholla1/workflow_folders/in_limbo_level2_birte_fsl/_threshold_3.1/subtract_from_cope/mapflow/_subtract_from_cope13\n"
       ]
      },
      {
       "output_type": "stream",
       "stream": "stderr",
       "text": [
        "INFO:workflow:Executing node _subtract_from_cope14 in dir: /home/gdholla1/workflow_folders/in_limbo_level2_birte_fsl/_threshold_3.1/subtract_from_cope/mapflow/_subtract_from_cope14\n"
       ]
      },
      {
       "output_type": "stream",
       "stream": "stderr",
       "text": [
        "INFO:workflow:Executing node _subtract_from_cope15 in dir: /home/gdholla1/workflow_folders/in_limbo_level2_birte_fsl/_threshold_3.1/subtract_from_cope/mapflow/_subtract_from_cope15\n"
       ]
      },
      {
       "output_type": "stream",
       "stream": "stderr",
       "text": [
        "INFO:workflow:Executing node _subtract_from_cope16 in dir: /home/gdholla1/workflow_folders/in_limbo_level2_birte_fsl/_threshold_3.1/subtract_from_cope/mapflow/_subtract_from_cope16\n"
       ]
      },
      {
       "output_type": "stream",
       "stream": "stderr",
       "text": [
        "INFO:workflow:Executing node _subtract_from_cope17 in dir: /home/gdholla1/workflow_folders/in_limbo_level2_birte_fsl/_threshold_3.1/subtract_from_cope/mapflow/_subtract_from_cope17\n"
       ]
      },
      {
       "output_type": "stream",
       "stream": "stderr",
       "text": [
        "INFO:workflow:Executing node _subtract_from_cope18 in dir: /home/gdholla1/workflow_folders/in_limbo_level2_birte_fsl/_threshold_3.1/subtract_from_cope/mapflow/_subtract_from_cope18\n"
       ]
      },
      {
       "output_type": "stream",
       "stream": "stderr",
       "text": [
        "INFO:workflow:Executing node _subtract_from_cope19 in dir: /home/gdholla1/workflow_folders/in_limbo_level2_birte_fsl/_threshold_3.1/subtract_from_cope/mapflow/_subtract_from_cope19\n"
       ]
      },
      {
       "output_type": "stream",
       "stream": "stderr",
       "text": [
        "INFO:workflow:Executing node _subtract_from_cope20 in dir: /home/gdholla1/workflow_folders/in_limbo_level2_birte_fsl/_threshold_3.1/subtract_from_cope/mapflow/_subtract_from_cope20\n"
       ]
      },
      {
       "output_type": "stream",
       "stream": "stderr",
       "text": [
        "INFO:workflow:Executing node copemerge.a1 in dir: /home/gdholla1/workflow_folders/in_limbo_level2_birte_fsl/in_limbo_mixedfx/_threshold_3.1/copemerge\n"
       ]
      },
      {
       "output_type": "stream",
       "stream": "stderr",
       "text": [
        "INFO:workflow:Executing node _copemerge0 in dir: /home/gdholla1/workflow_folders/in_limbo_level2_birte_fsl/in_limbo_mixedfx/_threshold_3.1/copemerge/mapflow/_copemerge0\n"
       ]
      },
      {
       "output_type": "stream",
       "stream": "stderr",
       "text": [
        "INFO:workflow:Running: fslmerge -t cope_in_limbo_merged.nii.gz /home/gdholla1/workflow_folders/in_limbo_level2_birte_fsl/_threshold_3.1/subtract_from_cope/mapflow/_subtract_from_cope0/cope_in_limbo.nii.gz /home/gdholla1/workflow_folders/in_limbo_level2_birte_fsl/_threshold_3.1/subtract_from_cope/mapflow/_subtract_from_cope1/cope_in_limbo.nii.gz /home/gdholla1/workflow_folders/in_limbo_level2_birte_fsl/_threshold_3.1/subtract_from_cope/mapflow/_subtract_from_cope2/cope_in_limbo.nii.gz /home/gdholla1/workflow_folders/in_limbo_level2_birte_fsl/_threshold_3.1/subtract_from_cope/mapflow/_subtract_from_cope3/cope_in_limbo.nii.gz /home/gdholla1/workflow_folders/in_limbo_level2_birte_fsl/_threshold_3.1/subtract_from_cope/mapflow/_subtract_from_cope4/cope_in_limbo.nii.gz /home/gdholla1/workflow_folders/in_limbo_level2_birte_fsl/_threshold_3.1/subtract_from_cope/mapflow/_subtract_from_cope5/cope_in_limbo.nii.gz /home/gdholla1/workflow_folders/in_limbo_level2_birte_fsl/_threshold_3.1/subtract_from_cope/mapflow/_subtract_from_cope6/cope_in_limbo.nii.gz /home/gdholla1/workflow_folders/in_limbo_level2_birte_fsl/_threshold_3.1/subtract_from_cope/mapflow/_subtract_from_cope7/cope_in_limbo.nii.gz /home/gdholla1/workflow_folders/in_limbo_level2_birte_fsl/_threshold_3.1/subtract_from_cope/mapflow/_subtract_from_cope8/cope_in_limbo.nii.gz /home/gdholla1/workflow_folders/in_limbo_level2_birte_fsl/_threshold_3.1/subtract_from_cope/mapflow/_subtract_from_cope9/cope_in_limbo.nii.gz /home/gdholla1/workflow_folders/in_limbo_level2_birte_fsl/_threshold_3.1/subtract_from_cope/mapflow/_subtract_from_cope10/cope_in_limbo.nii.gz /home/gdholla1/workflow_folders/in_limbo_level2_birte_fsl/_threshold_3.1/subtract_from_cope/mapflow/_subtract_from_cope11/cope_in_limbo.nii.gz /home/gdholla1/workflow_folders/in_limbo_level2_birte_fsl/_threshold_3.1/subtract_from_cope/mapflow/_subtract_from_cope12/cope_in_limbo.nii.gz /home/gdholla1/workflow_folders/in_limbo_level2_birte_fsl/_threshold_3.1/subtract_from_cope/mapflow/_subtract_from_cope13/cope_in_limbo.nii.gz /home/gdholla1/workflow_folders/in_limbo_level2_birte_fsl/_threshold_3.1/subtract_from_cope/mapflow/_subtract_from_cope14/cope_in_limbo.nii.gz /home/gdholla1/workflow_folders/in_limbo_level2_birte_fsl/_threshold_3.1/subtract_from_cope/mapflow/_subtract_from_cope15/cope_in_limbo.nii.gz /home/gdholla1/workflow_folders/in_limbo_level2_birte_fsl/_threshold_3.1/subtract_from_cope/mapflow/_subtract_from_cope16/cope_in_limbo.nii.gz /home/gdholla1/workflow_folders/in_limbo_level2_birte_fsl/_threshold_3.1/subtract_from_cope/mapflow/_subtract_from_cope17/cope_in_limbo.nii.gz /home/gdholla1/workflow_folders/in_limbo_level2_birte_fsl/_threshold_3.1/subtract_from_cope/mapflow/_subtract_from_cope18/cope_in_limbo.nii.gz /home/gdholla1/workflow_folders/in_limbo_level2_birte_fsl/_threshold_3.1/subtract_from_cope/mapflow/_subtract_from_cope19/cope_in_limbo.nii.gz /home/gdholla1/workflow_folders/in_limbo_level2_birte_fsl/_threshold_3.1/subtract_from_cope/mapflow/_subtract_from_cope20/cope_in_limbo.nii.gz\n"
       ]
      },
      {
       "output_type": "stream",
       "stream": "stderr",
       "text": [
        "INFO:workflow:Executing node gendofvolume.a1 in dir: /home/gdholla1/workflow_folders/in_limbo_level2_birte_fsl/in_limbo_mixedfx/_threshold_3.1/gendofvolume\n"
       ]
      },
      {
       "output_type": "stream",
       "stream": "stderr",
       "text": [
        "INFO:workflow:Executing node get_comparison_voxel.a0 in dir: /home/gdholla1/workflow_folders/in_limbo_level2_birte_fsl/_threshold_2.3/get_comparison_voxel\n"
       ]
      },
      {
       "output_type": "stream",
       "stream": "stderr",
       "text": [
        "INFO:workflow:Executing node get_min_value.a0 in dir: /home/gdholla1/workflow_folders/in_limbo_level2_birte_fsl/_threshold_2.3/get_min_value\n"
       ]
      },
      {
       "output_type": "stream",
       "stream": "stderr",
       "text": [
        "INFO:workflow:Executing node _get_min_value0 in dir: /home/gdholla1/workflow_folders/in_limbo_level2_birte_fsl/_threshold_2.3/get_min_value/mapflow/_get_min_value0\n"
       ]
      },
      {
       "output_type": "stream",
       "stream": "stderr",
       "text": [
        "INFO:workflow:Executing node _get_min_value1 in dir: /home/gdholla1/workflow_folders/in_limbo_level2_birte_fsl/_threshold_2.3/get_min_value/mapflow/_get_min_value1\n"
       ]
      },
      {
       "output_type": "stream",
       "stream": "stderr",
       "text": [
        "INFO:workflow:Executing node _get_min_value2 in dir: /home/gdholla1/workflow_folders/in_limbo_level2_birte_fsl/_threshold_2.3/get_min_value/mapflow/_get_min_value2\n"
       ]
      },
      {
       "output_type": "stream",
       "stream": "stderr",
       "text": [
        "INFO:workflow:Executing node _get_min_value3 in dir: /home/gdholla1/workflow_folders/in_limbo_level2_birte_fsl/_threshold_2.3/get_min_value/mapflow/_get_min_value3\n"
       ]
      },
      {
       "output_type": "stream",
       "stream": "stderr",
       "text": [
        "INFO:workflow:Executing node _get_min_value4 in dir: /home/gdholla1/workflow_folders/in_limbo_level2_birte_fsl/_threshold_2.3/get_min_value/mapflow/_get_min_value4\n"
       ]
      },
      {
       "output_type": "stream",
       "stream": "stderr",
       "text": [
        "INFO:workflow:Executing node _get_min_value5 in dir: /home/gdholla1/workflow_folders/in_limbo_level2_birte_fsl/_threshold_2.3/get_min_value/mapflow/_get_min_value5\n"
       ]
      },
      {
       "output_type": "stream",
       "stream": "stderr",
       "text": [
        "INFO:workflow:Executing node _get_min_value6 in dir: /home/gdholla1/workflow_folders/in_limbo_level2_birte_fsl/_threshold_2.3/get_min_value/mapflow/_get_min_value6\n"
       ]
      },
      {
       "output_type": "stream",
       "stream": "stderr",
       "text": [
        "INFO:workflow:Executing node _get_min_value7 in dir: /home/gdholla1/workflow_folders/in_limbo_level2_birte_fsl/_threshold_2.3/get_min_value/mapflow/_get_min_value7\n"
       ]
      },
      {
       "output_type": "stream",
       "stream": "stderr",
       "text": [
        "INFO:workflow:Executing node _get_min_value8 in dir: /home/gdholla1/workflow_folders/in_limbo_level2_birte_fsl/_threshold_2.3/get_min_value/mapflow/_get_min_value8\n"
       ]
      },
      {
       "output_type": "stream",
       "stream": "stderr",
       "text": [
        "INFO:workflow:Executing node _get_min_value9 in dir: /home/gdholla1/workflow_folders/in_limbo_level2_birte_fsl/_threshold_2.3/get_min_value/mapflow/_get_min_value9\n"
       ]
      },
      {
       "output_type": "stream",
       "stream": "stderr",
       "text": [
        "INFO:workflow:Executing node _get_min_value10 in dir: /home/gdholla1/workflow_folders/in_limbo_level2_birte_fsl/_threshold_2.3/get_min_value/mapflow/_get_min_value10\n"
       ]
      },
      {
       "output_type": "stream",
       "stream": "stderr",
       "text": [
        "INFO:workflow:Executing node _get_min_value11 in dir: /home/gdholla1/workflow_folders/in_limbo_level2_birte_fsl/_threshold_2.3/get_min_value/mapflow/_get_min_value11\n"
       ]
      },
      {
       "output_type": "stream",
       "stream": "stderr",
       "text": [
        "INFO:workflow:Executing node _get_min_value12 in dir: /home/gdholla1/workflow_folders/in_limbo_level2_birte_fsl/_threshold_2.3/get_min_value/mapflow/_get_min_value12\n"
       ]
      },
      {
       "output_type": "stream",
       "stream": "stderr",
       "text": [
        "INFO:workflow:Executing node _get_min_value13 in dir: /home/gdholla1/workflow_folders/in_limbo_level2_birte_fsl/_threshold_2.3/get_min_value/mapflow/_get_min_value13\n"
       ]
      },
      {
       "output_type": "stream",
       "stream": "stderr",
       "text": [
        "INFO:workflow:Executing node _get_min_value14 in dir: /home/gdholla1/workflow_folders/in_limbo_level2_birte_fsl/_threshold_2.3/get_min_value/mapflow/_get_min_value14\n"
       ]
      },
      {
       "output_type": "stream",
       "stream": "stderr",
       "text": [
        "INFO:workflow:Executing node _get_min_value15 in dir: /home/gdholla1/workflow_folders/in_limbo_level2_birte_fsl/_threshold_2.3/get_min_value/mapflow/_get_min_value15\n"
       ]
      },
      {
       "output_type": "stream",
       "stream": "stderr",
       "text": [
        "INFO:workflow:Executing node _get_min_value16 in dir: /home/gdholla1/workflow_folders/in_limbo_level2_birte_fsl/_threshold_2.3/get_min_value/mapflow/_get_min_value16\n"
       ]
      },
      {
       "output_type": "stream",
       "stream": "stderr",
       "text": [
        "INFO:workflow:Executing node _get_min_value17 in dir: /home/gdholla1/workflow_folders/in_limbo_level2_birte_fsl/_threshold_2.3/get_min_value/mapflow/_get_min_value17\n"
       ]
      },
      {
       "output_type": "stream",
       "stream": "stderr",
       "text": [
        "INFO:workflow:Executing node _get_min_value18 in dir: /home/gdholla1/workflow_folders/in_limbo_level2_birte_fsl/_threshold_2.3/get_min_value/mapflow/_get_min_value18\n"
       ]
      },
      {
       "output_type": "stream",
       "stream": "stderr",
       "text": [
        "INFO:workflow:Executing node _get_min_value19 in dir: /home/gdholla1/workflow_folders/in_limbo_level2_birte_fsl/_threshold_2.3/get_min_value/mapflow/_get_min_value19\n"
       ]
      },
      {
       "output_type": "stream",
       "stream": "stderr",
       "text": [
        "INFO:workflow:Executing node _get_min_value20 in dir: /home/gdholla1/workflow_folders/in_limbo_level2_birte_fsl/_threshold_2.3/get_min_value/mapflow/_get_min_value20\n"
       ]
      },
      {
       "output_type": "stream",
       "stream": "stderr",
       "text": [
        "INFO:workflow:Executing node subtract_from_cope.a0 in dir: /home/gdholla1/workflow_folders/in_limbo_level2_birte_fsl/_threshold_2.3/subtract_from_cope\n"
       ]
      },
      {
       "output_type": "stream",
       "stream": "stderr",
       "text": [
        "INFO:workflow:Executing node _subtract_from_cope0 in dir: /home/gdholla1/workflow_folders/in_limbo_level2_birte_fsl/_threshold_2.3/subtract_from_cope/mapflow/_subtract_from_cope0\n"
       ]
      },
      {
       "output_type": "stream",
       "stream": "stderr",
       "text": [
        "INFO:workflow:Executing node _subtract_from_cope1 in dir: /home/gdholla1/workflow_folders/in_limbo_level2_birte_fsl/_threshold_2.3/subtract_from_cope/mapflow/_subtract_from_cope1\n"
       ]
      },
      {
       "output_type": "stream",
       "stream": "stderr",
       "text": [
        "INFO:workflow:Executing node _subtract_from_cope2 in dir: /home/gdholla1/workflow_folders/in_limbo_level2_birte_fsl/_threshold_2.3/subtract_from_cope/mapflow/_subtract_from_cope2\n"
       ]
      },
      {
       "output_type": "stream",
       "stream": "stderr",
       "text": [
        "INFO:workflow:Executing node _subtract_from_cope3 in dir: /home/gdholla1/workflow_folders/in_limbo_level2_birte_fsl/_threshold_2.3/subtract_from_cope/mapflow/_subtract_from_cope3\n"
       ]
      },
      {
       "output_type": "stream",
       "stream": "stderr",
       "text": [
        "INFO:workflow:Executing node _subtract_from_cope4 in dir: /home/gdholla1/workflow_folders/in_limbo_level2_birte_fsl/_threshold_2.3/subtract_from_cope/mapflow/_subtract_from_cope4\n"
       ]
      },
      {
       "output_type": "stream",
       "stream": "stderr",
       "text": [
        "INFO:workflow:Executing node _subtract_from_cope5 in dir: /home/gdholla1/workflow_folders/in_limbo_level2_birte_fsl/_threshold_2.3/subtract_from_cope/mapflow/_subtract_from_cope5\n"
       ]
      },
      {
       "output_type": "stream",
       "stream": "stderr",
       "text": [
        "INFO:workflow:Executing node _subtract_from_cope6 in dir: /home/gdholla1/workflow_folders/in_limbo_level2_birte_fsl/_threshold_2.3/subtract_from_cope/mapflow/_subtract_from_cope6\n"
       ]
      },
      {
       "output_type": "stream",
       "stream": "stderr",
       "text": [
        "INFO:workflow:Executing node _subtract_from_cope7 in dir: /home/gdholla1/workflow_folders/in_limbo_level2_birte_fsl/_threshold_2.3/subtract_from_cope/mapflow/_subtract_from_cope7\n"
       ]
      },
      {
       "output_type": "stream",
       "stream": "stderr",
       "text": [
        "INFO:workflow:Executing node _subtract_from_cope8 in dir: /home/gdholla1/workflow_folders/in_limbo_level2_birte_fsl/_threshold_2.3/subtract_from_cope/mapflow/_subtract_from_cope8\n"
       ]
      },
      {
       "output_type": "stream",
       "stream": "stderr",
       "text": [
        "INFO:workflow:Executing node _subtract_from_cope9 in dir: /home/gdholla1/workflow_folders/in_limbo_level2_birte_fsl/_threshold_2.3/subtract_from_cope/mapflow/_subtract_from_cope9\n"
       ]
      },
      {
       "output_type": "stream",
       "stream": "stderr",
       "text": [
        "INFO:workflow:Executing node _subtract_from_cope10 in dir: /home/gdholla1/workflow_folders/in_limbo_level2_birte_fsl/_threshold_2.3/subtract_from_cope/mapflow/_subtract_from_cope10\n"
       ]
      },
      {
       "output_type": "stream",
       "stream": "stderr",
       "text": [
        "INFO:workflow:Executing node _subtract_from_cope11 in dir: /home/gdholla1/workflow_folders/in_limbo_level2_birte_fsl/_threshold_2.3/subtract_from_cope/mapflow/_subtract_from_cope11\n"
       ]
      },
      {
       "output_type": "stream",
       "stream": "stderr",
       "text": [
        "INFO:workflow:Executing node _subtract_from_cope12 in dir: /home/gdholla1/workflow_folders/in_limbo_level2_birte_fsl/_threshold_2.3/subtract_from_cope/mapflow/_subtract_from_cope12\n"
       ]
      },
      {
       "output_type": "stream",
       "stream": "stderr",
       "text": [
        "INFO:workflow:Executing node _subtract_from_cope13 in dir: /home/gdholla1/workflow_folders/in_limbo_level2_birte_fsl/_threshold_2.3/subtract_from_cope/mapflow/_subtract_from_cope13\n"
       ]
      },
      {
       "output_type": "stream",
       "stream": "stderr",
       "text": [
        "INFO:workflow:Executing node _subtract_from_cope14 in dir: /home/gdholla1/workflow_folders/in_limbo_level2_birte_fsl/_threshold_2.3/subtract_from_cope/mapflow/_subtract_from_cope14\n"
       ]
      },
      {
       "output_type": "stream",
       "stream": "stderr",
       "text": [
        "INFO:workflow:Executing node _subtract_from_cope15 in dir: /home/gdholla1/workflow_folders/in_limbo_level2_birte_fsl/_threshold_2.3/subtract_from_cope/mapflow/_subtract_from_cope15\n"
       ]
      },
      {
       "output_type": "stream",
       "stream": "stderr",
       "text": [
        "INFO:workflow:Executing node _subtract_from_cope16 in dir: /home/gdholla1/workflow_folders/in_limbo_level2_birte_fsl/_threshold_2.3/subtract_from_cope/mapflow/_subtract_from_cope16\n"
       ]
      },
      {
       "output_type": "stream",
       "stream": "stderr",
       "text": [
        "INFO:workflow:Executing node _subtract_from_cope17 in dir: /home/gdholla1/workflow_folders/in_limbo_level2_birte_fsl/_threshold_2.3/subtract_from_cope/mapflow/_subtract_from_cope17\n"
       ]
      },
      {
       "output_type": "stream",
       "stream": "stderr",
       "text": [
        "INFO:workflow:Executing node _subtract_from_cope18 in dir: /home/gdholla1/workflow_folders/in_limbo_level2_birte_fsl/_threshold_2.3/subtract_from_cope/mapflow/_subtract_from_cope18\n"
       ]
      },
      {
       "output_type": "stream",
       "stream": "stderr",
       "text": [
        "INFO:workflow:Executing node _subtract_from_cope19 in dir: /home/gdholla1/workflow_folders/in_limbo_level2_birte_fsl/_threshold_2.3/subtract_from_cope/mapflow/_subtract_from_cope19\n"
       ]
      },
      {
       "output_type": "stream",
       "stream": "stderr",
       "text": [
        "INFO:workflow:Executing node _subtract_from_cope20 in dir: /home/gdholla1/workflow_folders/in_limbo_level2_birte_fsl/_threshold_2.3/subtract_from_cope/mapflow/_subtract_from_cope20\n"
       ]
      },
      {
       "output_type": "stream",
       "stream": "stderr",
       "text": [
        "INFO:workflow:Executing node copemerge.a0 in dir: /home/gdholla1/workflow_folders/in_limbo_level2_birte_fsl/in_limbo_mixedfx/_threshold_2.3/copemerge\n"
       ]
      },
      {
       "output_type": "stream",
       "stream": "stderr",
       "text": [
        "INFO:workflow:Executing node _copemerge0 in dir: /home/gdholla1/workflow_folders/in_limbo_level2_birte_fsl/in_limbo_mixedfx/_threshold_2.3/copemerge/mapflow/_copemerge0\n"
       ]
      },
      {
       "output_type": "stream",
       "stream": "stderr",
       "text": [
        "INFO:workflow:Running: fslmerge -t cope_in_limbo_merged.nii.gz /home/gdholla1/workflow_folders/in_limbo_level2_birte_fsl/_threshold_2.3/subtract_from_cope/mapflow/_subtract_from_cope0/cope_in_limbo.nii.gz /home/gdholla1/workflow_folders/in_limbo_level2_birte_fsl/_threshold_2.3/subtract_from_cope/mapflow/_subtract_from_cope1/cope_in_limbo.nii.gz /home/gdholla1/workflow_folders/in_limbo_level2_birte_fsl/_threshold_2.3/subtract_from_cope/mapflow/_subtract_from_cope2/cope_in_limbo.nii.gz /home/gdholla1/workflow_folders/in_limbo_level2_birte_fsl/_threshold_2.3/subtract_from_cope/mapflow/_subtract_from_cope3/cope_in_limbo.nii.gz /home/gdholla1/workflow_folders/in_limbo_level2_birte_fsl/_threshold_2.3/subtract_from_cope/mapflow/_subtract_from_cope4/cope_in_limbo.nii.gz /home/gdholla1/workflow_folders/in_limbo_level2_birte_fsl/_threshold_2.3/subtract_from_cope/mapflow/_subtract_from_cope5/cope_in_limbo.nii.gz /home/gdholla1/workflow_folders/in_limbo_level2_birte_fsl/_threshold_2.3/subtract_from_cope/mapflow/_subtract_from_cope6/cope_in_limbo.nii.gz /home/gdholla1/workflow_folders/in_limbo_level2_birte_fsl/_threshold_2.3/subtract_from_cope/mapflow/_subtract_from_cope7/cope_in_limbo.nii.gz /home/gdholla1/workflow_folders/in_limbo_level2_birte_fsl/_threshold_2.3/subtract_from_cope/mapflow/_subtract_from_cope8/cope_in_limbo.nii.gz /home/gdholla1/workflow_folders/in_limbo_level2_birte_fsl/_threshold_2.3/subtract_from_cope/mapflow/_subtract_from_cope9/cope_in_limbo.nii.gz /home/gdholla1/workflow_folders/in_limbo_level2_birte_fsl/_threshold_2.3/subtract_from_cope/mapflow/_subtract_from_cope10/cope_in_limbo.nii.gz /home/gdholla1/workflow_folders/in_limbo_level2_birte_fsl/_threshold_2.3/subtract_from_cope/mapflow/_subtract_from_cope11/cope_in_limbo.nii.gz /home/gdholla1/workflow_folders/in_limbo_level2_birte_fsl/_threshold_2.3/subtract_from_cope/mapflow/_subtract_from_cope12/cope_in_limbo.nii.gz /home/gdholla1/workflow_folders/in_limbo_level2_birte_fsl/_threshold_2.3/subtract_from_cope/mapflow/_subtract_from_cope13/cope_in_limbo.nii.gz /home/gdholla1/workflow_folders/in_limbo_level2_birte_fsl/_threshold_2.3/subtract_from_cope/mapflow/_subtract_from_cope14/cope_in_limbo.nii.gz /home/gdholla1/workflow_folders/in_limbo_level2_birte_fsl/_threshold_2.3/subtract_from_cope/mapflow/_subtract_from_cope15/cope_in_limbo.nii.gz /home/gdholla1/workflow_folders/in_limbo_level2_birte_fsl/_threshold_2.3/subtract_from_cope/mapflow/_subtract_from_cope16/cope_in_limbo.nii.gz /home/gdholla1/workflow_folders/in_limbo_level2_birte_fsl/_threshold_2.3/subtract_from_cope/mapflow/_subtract_from_cope17/cope_in_limbo.nii.gz /home/gdholla1/workflow_folders/in_limbo_level2_birte_fsl/_threshold_2.3/subtract_from_cope/mapflow/_subtract_from_cope18/cope_in_limbo.nii.gz /home/gdholla1/workflow_folders/in_limbo_level2_birte_fsl/_threshold_2.3/subtract_from_cope/mapflow/_subtract_from_cope19/cope_in_limbo.nii.gz /home/gdholla1/workflow_folders/in_limbo_level2_birte_fsl/_threshold_2.3/subtract_from_cope/mapflow/_subtract_from_cope20/cope_in_limbo.nii.gz\n"
       ]
      },
      {
       "output_type": "stream",
       "stream": "stderr",
       "text": [
        "INFO:workflow:Executing node gendofvolume.a0 in dir: /home/gdholla1/workflow_folders/in_limbo_level2_birte_fsl/in_limbo_mixedfx/_threshold_2.3/gendofvolume\n"
       ]
      },
      {
       "output_type": "stream",
       "stream": "stderr",
       "text": [
        "INFO:workflow:Executing node datasink.a1 in dir: /home/gdholla1/workflow_folders/in_limbo_level2_birte_fsl/_threshold_3.1/datasink\n"
       ]
      },
      {
       "output_type": "stream",
       "stream": "stderr",
       "text": [
        "INFO:workflow:Executing node datasink.a0 in dir: /home/gdholla1/workflow_folders/in_limbo_level2_birte_fsl/_threshold_2.3/datasink\n"
       ]
      },
      {
       "output_type": "stream",
       "stream": "stderr",
       "text": [
        "INFO:workflow:Executing node subtract_from_cope.a2 in dir: /home/gdholla1/workflow_folders/in_limbo_level2_birte_fsl/_threshold_3.7/subtract_from_cope\n"
       ]
      },
      {
       "output_type": "stream",
       "stream": "stderr",
       "text": [
        "INFO:workflow:Executing node _subtract_from_cope0 in dir: /home/gdholla1/workflow_folders/in_limbo_level2_birte_fsl/_threshold_3.7/subtract_from_cope/mapflow/_subtract_from_cope0\n"
       ]
      },
      {
       "output_type": "stream",
       "stream": "stderr",
       "text": [
        "INFO:workflow:Executing node _subtract_from_cope1 in dir: /home/gdholla1/workflow_folders/in_limbo_level2_birte_fsl/_threshold_3.7/subtract_from_cope/mapflow/_subtract_from_cope1\n"
       ]
      },
      {
       "output_type": "stream",
       "stream": "stderr",
       "text": [
        "INFO:workflow:Executing node _subtract_from_cope2 in dir: /home/gdholla1/workflow_folders/in_limbo_level2_birte_fsl/_threshold_3.7/subtract_from_cope/mapflow/_subtract_from_cope2\n"
       ]
      },
      {
       "output_type": "stream",
       "stream": "stderr",
       "text": [
        "INFO:workflow:Executing node _subtract_from_cope3 in dir: /home/gdholla1/workflow_folders/in_limbo_level2_birte_fsl/_threshold_3.7/subtract_from_cope/mapflow/_subtract_from_cope3\n"
       ]
      },
      {
       "output_type": "stream",
       "stream": "stderr",
       "text": [
        "INFO:workflow:Executing node _subtract_from_cope4 in dir: /home/gdholla1/workflow_folders/in_limbo_level2_birte_fsl/_threshold_3.7/subtract_from_cope/mapflow/_subtract_from_cope4\n"
       ]
      },
      {
       "output_type": "stream",
       "stream": "stderr",
       "text": [
        "INFO:workflow:Executing node _subtract_from_cope5 in dir: /home/gdholla1/workflow_folders/in_limbo_level2_birte_fsl/_threshold_3.7/subtract_from_cope/mapflow/_subtract_from_cope5\n"
       ]
      },
      {
       "output_type": "stream",
       "stream": "stderr",
       "text": [
        "INFO:workflow:Executing node _subtract_from_cope6 in dir: /home/gdholla1/workflow_folders/in_limbo_level2_birte_fsl/_threshold_3.7/subtract_from_cope/mapflow/_subtract_from_cope6\n"
       ]
      },
      {
       "output_type": "stream",
       "stream": "stderr",
       "text": [
        "INFO:workflow:Executing node _subtract_from_cope7 in dir: /home/gdholla1/workflow_folders/in_limbo_level2_birte_fsl/_threshold_3.7/subtract_from_cope/mapflow/_subtract_from_cope7\n"
       ]
      },
      {
       "output_type": "stream",
       "stream": "stderr",
       "text": [
        "INFO:workflow:Executing node _subtract_from_cope8 in dir: /home/gdholla1/workflow_folders/in_limbo_level2_birte_fsl/_threshold_3.7/subtract_from_cope/mapflow/_subtract_from_cope8\n"
       ]
      },
      {
       "output_type": "stream",
       "stream": "stderr",
       "text": [
        "INFO:workflow:Executing node _subtract_from_cope9 in dir: /home/gdholla1/workflow_folders/in_limbo_level2_birte_fsl/_threshold_3.7/subtract_from_cope/mapflow/_subtract_from_cope9\n"
       ]
      },
      {
       "output_type": "stream",
       "stream": "stderr",
       "text": [
        "INFO:workflow:Executing node _subtract_from_cope10 in dir: /home/gdholla1/workflow_folders/in_limbo_level2_birte_fsl/_threshold_3.7/subtract_from_cope/mapflow/_subtract_from_cope10\n"
       ]
      },
      {
       "output_type": "stream",
       "stream": "stderr",
       "text": [
        "INFO:workflow:Executing node _subtract_from_cope11 in dir: /home/gdholla1/workflow_folders/in_limbo_level2_birte_fsl/_threshold_3.7/subtract_from_cope/mapflow/_subtract_from_cope11\n"
       ]
      },
      {
       "output_type": "stream",
       "stream": "stderr",
       "text": [
        "INFO:workflow:Executing node _subtract_from_cope12 in dir: /home/gdholla1/workflow_folders/in_limbo_level2_birte_fsl/_threshold_3.7/subtract_from_cope/mapflow/_subtract_from_cope12\n"
       ]
      },
      {
       "output_type": "stream",
       "stream": "stderr",
       "text": [
        "INFO:workflow:Executing node _subtract_from_cope13 in dir: /home/gdholla1/workflow_folders/in_limbo_level2_birte_fsl/_threshold_3.7/subtract_from_cope/mapflow/_subtract_from_cope13\n"
       ]
      },
      {
       "output_type": "stream",
       "stream": "stderr",
       "text": [
        "INFO:workflow:Executing node _subtract_from_cope14 in dir: /home/gdholla1/workflow_folders/in_limbo_level2_birte_fsl/_threshold_3.7/subtract_from_cope/mapflow/_subtract_from_cope14\n"
       ]
      },
      {
       "output_type": "stream",
       "stream": "stderr",
       "text": [
        "INFO:workflow:Executing node _subtract_from_cope15 in dir: /home/gdholla1/workflow_folders/in_limbo_level2_birte_fsl/_threshold_3.7/subtract_from_cope/mapflow/_subtract_from_cope15\n"
       ]
      },
      {
       "output_type": "stream",
       "stream": "stderr",
       "text": [
        "INFO:workflow:Executing node _subtract_from_cope16 in dir: /home/gdholla1/workflow_folders/in_limbo_level2_birte_fsl/_threshold_3.7/subtract_from_cope/mapflow/_subtract_from_cope16\n"
       ]
      },
      {
       "output_type": "stream",
       "stream": "stderr",
       "text": [
        "INFO:workflow:Executing node _subtract_from_cope17 in dir: /home/gdholla1/workflow_folders/in_limbo_level2_birte_fsl/_threshold_3.7/subtract_from_cope/mapflow/_subtract_from_cope17\n"
       ]
      },
      {
       "output_type": "stream",
       "stream": "stderr",
       "text": [
        "INFO:workflow:Executing node _subtract_from_cope18 in dir: /home/gdholla1/workflow_folders/in_limbo_level2_birte_fsl/_threshold_3.7/subtract_from_cope/mapflow/_subtract_from_cope18\n"
       ]
      },
      {
       "output_type": "stream",
       "stream": "stderr",
       "text": [
        "INFO:workflow:Executing node _subtract_from_cope19 in dir: /home/gdholla1/workflow_folders/in_limbo_level2_birte_fsl/_threshold_3.7/subtract_from_cope/mapflow/_subtract_from_cope19\n"
       ]
      },
      {
       "output_type": "stream",
       "stream": "stderr",
       "text": [
        "INFO:workflow:Executing node _subtract_from_cope20 in dir: /home/gdholla1/workflow_folders/in_limbo_level2_birte_fsl/_threshold_3.7/subtract_from_cope/mapflow/_subtract_from_cope20\n"
       ]
      },
      {
       "output_type": "stream",
       "stream": "stderr",
       "text": [
        "INFO:workflow:Executing node copemerge.a2 in dir: /home/gdholla1/workflow_folders/in_limbo_level2_birte_fsl/in_limbo_mixedfx/_threshold_3.7/copemerge\n"
       ]
      },
      {
       "output_type": "stream",
       "stream": "stderr",
       "text": [
        "INFO:workflow:Executing node _copemerge0 in dir: /home/gdholla1/workflow_folders/in_limbo_level2_birte_fsl/in_limbo_mixedfx/_threshold_3.7/copemerge/mapflow/_copemerge0\n"
       ]
      },
      {
       "output_type": "stream",
       "stream": "stderr",
       "text": [
        "INFO:workflow:Running: fslmerge -t cope_in_limbo_merged.nii.gz /home/gdholla1/workflow_folders/in_limbo_level2_birte_fsl/_threshold_3.7/subtract_from_cope/mapflow/_subtract_from_cope0/cope_in_limbo.nii.gz /home/gdholla1/workflow_folders/in_limbo_level2_birte_fsl/_threshold_3.7/subtract_from_cope/mapflow/_subtract_from_cope1/cope_in_limbo.nii.gz /home/gdholla1/workflow_folders/in_limbo_level2_birte_fsl/_threshold_3.7/subtract_from_cope/mapflow/_subtract_from_cope2/cope_in_limbo.nii.gz /home/gdholla1/workflow_folders/in_limbo_level2_birte_fsl/_threshold_3.7/subtract_from_cope/mapflow/_subtract_from_cope3/cope_in_limbo.nii.gz /home/gdholla1/workflow_folders/in_limbo_level2_birte_fsl/_threshold_3.7/subtract_from_cope/mapflow/_subtract_from_cope4/cope_in_limbo.nii.gz /home/gdholla1/workflow_folders/in_limbo_level2_birte_fsl/_threshold_3.7/subtract_from_cope/mapflow/_subtract_from_cope5/cope_in_limbo.nii.gz /home/gdholla1/workflow_folders/in_limbo_level2_birte_fsl/_threshold_3.7/subtract_from_cope/mapflow/_subtract_from_cope6/cope_in_limbo.nii.gz /home/gdholla1/workflow_folders/in_limbo_level2_birte_fsl/_threshold_3.7/subtract_from_cope/mapflow/_subtract_from_cope7/cope_in_limbo.nii.gz /home/gdholla1/workflow_folders/in_limbo_level2_birte_fsl/_threshold_3.7/subtract_from_cope/mapflow/_subtract_from_cope8/cope_in_limbo.nii.gz /home/gdholla1/workflow_folders/in_limbo_level2_birte_fsl/_threshold_3.7/subtract_from_cope/mapflow/_subtract_from_cope9/cope_in_limbo.nii.gz /home/gdholla1/workflow_folders/in_limbo_level2_birte_fsl/_threshold_3.7/subtract_from_cope/mapflow/_subtract_from_cope10/cope_in_limbo.nii.gz /home/gdholla1/workflow_folders/in_limbo_level2_birte_fsl/_threshold_3.7/subtract_from_cope/mapflow/_subtract_from_cope11/cope_in_limbo.nii.gz /home/gdholla1/workflow_folders/in_limbo_level2_birte_fsl/_threshold_3.7/subtract_from_cope/mapflow/_subtract_from_cope12/cope_in_limbo.nii.gz /home/gdholla1/workflow_folders/in_limbo_level2_birte_fsl/_threshold_3.7/subtract_from_cope/mapflow/_subtract_from_cope13/cope_in_limbo.nii.gz /home/gdholla1/workflow_folders/in_limbo_level2_birte_fsl/_threshold_3.7/subtract_from_cope/mapflow/_subtract_from_cope14/cope_in_limbo.nii.gz /home/gdholla1/workflow_folders/in_limbo_level2_birte_fsl/_threshold_3.7/subtract_from_cope/mapflow/_subtract_from_cope15/cope_in_limbo.nii.gz /home/gdholla1/workflow_folders/in_limbo_level2_birte_fsl/_threshold_3.7/subtract_from_cope/mapflow/_subtract_from_cope16/cope_in_limbo.nii.gz /home/gdholla1/workflow_folders/in_limbo_level2_birte_fsl/_threshold_3.7/subtract_from_cope/mapflow/_subtract_from_cope17/cope_in_limbo.nii.gz /home/gdholla1/workflow_folders/in_limbo_level2_birte_fsl/_threshold_3.7/subtract_from_cope/mapflow/_subtract_from_cope18/cope_in_limbo.nii.gz /home/gdholla1/workflow_folders/in_limbo_level2_birte_fsl/_threshold_3.7/subtract_from_cope/mapflow/_subtract_from_cope19/cope_in_limbo.nii.gz /home/gdholla1/workflow_folders/in_limbo_level2_birte_fsl/_threshold_3.7/subtract_from_cope/mapflow/_subtract_from_cope20/cope_in_limbo.nii.gz\n"
       ]
      },
      {
       "output_type": "stream",
       "stream": "stderr",
       "text": [
        "INFO:workflow:Executing node gendofvolume.a2 in dir: /home/gdholla1/workflow_folders/in_limbo_level2_birte_fsl/in_limbo_mixedfx/_threshold_3.7/gendofvolume\n"
       ]
      },
      {
       "output_type": "stream",
       "stream": "stderr",
       "text": [
        "INFO:workflow:Executing node l2model in dir: /home/gdholla1/workflow_folders/in_limbo_level2_birte_fsl/in_limbo_mixedfx/l2model\n"
       ]
      },
      {
       "output_type": "stream",
       "stream": "stderr",
       "text": [
        "INFO:workflow:Collecting precomputed outputs\n"
       ]
      },
      {
       "output_type": "stream",
       "stream": "stderr",
       "text": [
        "INFO:workflow:Executing node varcopemerge in dir: /home/gdholla1/workflow_folders/in_limbo_level2_birte_fsl/in_limbo_mixedfx/varcopemerge\n"
       ]
      },
      {
       "output_type": "stream",
       "stream": "stderr",
       "text": [
        "INFO:workflow:Executing node flameo.a0 in dir: /home/gdholla1/workflow_folders/in_limbo_level2_birte_fsl/in_limbo_mixedfx/_threshold_2.3/flameo\n"
       ]
      },
      {
       "output_type": "stream",
       "stream": "stderr",
       "text": [
        "INFO:workflow:Executing node _flameo0 in dir: /home/gdholla1/workflow_folders/in_limbo_level2_birte_fsl/in_limbo_mixedfx/_threshold_2.3/flameo/mapflow/_flameo0\n"
       ]
      },
      {
       "output_type": "stream",
       "stream": "stderr",
       "text": [
        "INFO:workflow:Running: flameo --copefile=/home/gdholla1/workflow_folders/in_limbo_level2_birte_fsl/in_limbo_mixedfx/_threshold_2.3/copemerge/mapflow/_copemerge0/cope_in_limbo_merged.nii.gz --covsplitfile=/home/gdholla1/workflow_folders/in_limbo_level2_birte_fsl/in_limbo_mixedfx/l2model/design.grp --designfile=/home/gdholla1/workflow_folders/in_limbo_level2_birte_fsl/in_limbo_mixedfx/l2model/design.mat --dofvarcopefile=/home/gdholla1/workflow_folders/in_limbo_level2_birte_fsl/in_limbo_mixedfx/_threshold_2.3/gendofvolume/dof_file.nii.gz --ld=stats --maskfile=/usr/share/fsl/data/standard/MNI152_T1_2mm_brain_mask.nii.gz --runmode=fe --tcontrastsfile=/home/gdholla1/workflow_folders/in_limbo_level2_birte_fsl/in_limbo_mixedfx/l2model/design.con --varcopefile=/home/gdholla1/workflow_folders/in_limbo_level2_birte_fsl/in_limbo_mixedfx/varcopemerge/mapflow/_varcopemerge0/varcope1_merged.nii.gz\n"
       ]
      },
      {
       "output_type": "stream",
       "stream": "stderr",
       "text": [
        "INFO:interface:stdout 2014-11-07T13:20:42.917231:Log directory is: stats\n"
       ]
      },
      {
       "output_type": "stream",
       "stream": "stderr",
       "text": [
        "INFO:interface:stdout 2014-11-07T13:20:42.918439:Setting up:\n"
       ]
      },
      {
       "output_type": "stream",
       "stream": "stderr",
       "text": [
        "INFO:interface:stdout 2014-11-07T13:20:45.000598:ntptsing=21.000000 \n"
       ]
      },
      {
       "output_type": "stream",
       "stream": "stderr",
       "text": [
        "INFO:interface:stdout 2014-11-07T13:20:45.000598:\n"
       ]
      },
      {
       "output_type": "stream",
       "stream": "stderr",
       "text": [
        "INFO:interface:stdout 2014-11-07T13:20:45.000598:evs_group=1.000000 \n"
       ]
      },
      {
       "output_type": "stream",
       "stream": "stderr",
       "text": [
        "INFO:interface:stdout 2014-11-07T13:20:45.000598:\n"
       ]
      },
      {
       "output_type": "stream",
       "stream": "stderr",
       "text": [
        "INFO:interface:stdout 2014-11-07T13:20:45.002398:No f contrasts\n"
       ]
      },
      {
       "output_type": "stream",
       "stream": "stderr",
       "text": [
        "INFO:interface:stdout 2014-11-07T13:20:45.094342:\n"
       ]
      },
      {
       "output_type": "stream",
       "stream": "stderr",
       "text": [
        "INFO:interface:stdout 2014-11-07T13:20:45.094342:WARNING: The passed in varcope file, /home/gdholla1/workflow_folders/in_limbo_level2_birte_fsl/in_limbo_mixedfx/varcopemerge/mapflow/_varcopemerge0/varcope1_merged.nii.gz, contains voxels inside the mask with zero (or negative) values. These voxels will be excluded from the analysis.\n"
       ]
      },
      {
       "output_type": "stream",
       "stream": "stderr",
       "text": [
        "INFO:interface:stdout 2014-11-07T13:20:45.103338:nevs=1\n"
       ]
      },
      {
       "output_type": "stream",
       "stream": "stderr",
       "text": [
        "INFO:interface:stdout 2014-11-07T13:20:45.103338:ntpts=21\n"
       ]
      },
      {
       "output_type": "stream",
       "stream": "stderr",
       "text": [
        "INFO:interface:stdout 2014-11-07T13:20:45.103338:ngs=1\n"
       ]
      },
      {
       "output_type": "stream",
       "stream": "stderr",
       "text": [
        "INFO:interface:stdout 2014-11-07T13:20:45.103338:nvoxels=206599\n"
       ]
      },
      {
       "output_type": "stream",
       "stream": "stderr",
       "text": [
        "INFO:interface:stdout 2014-11-07T13:20:45.156357:Running:\n"
       ]
      },
      {
       "output_type": "stream",
       "stream": "stderr",
       "text": [
        "INFO:interface:stdout 2014-11-07T13:20:45.156357:nmaskvoxels=206599\n"
       ]
      },
      {
       "output_type": "stream",
       "stream": "stderr",
       "text": [
        "INFO:interface:stdout 2014-11-07T13:20:48.854879: 1 2 3 4 5 6 7 8 9 10 11 12 13 14 15 16 17 18 19 20 21 22 23 24 25 26 27 28 29 30 31 32 33 34 35 36 37 38 39 40 41 42 43 44 45 46 47 48 49 50 51 52 53 54 55 56 57 58 59 60 61 62 63 64 65 66 67 68 69 70 71 72 73 74 75 76 77 78 79 80 81 82 83 84 85 86 87 88 89 90 91 92 93 94 95 96 97 98 99 100\n"
       ]
      },
      {
       "output_type": "stream",
       "stream": "stderr",
       "text": [
        "INFO:interface:stdout 2014-11-07T13:20:48.854879:Saving results\n"
       ]
      },
      {
       "output_type": "stream",
       "stream": "stderr",
       "text": [
        "INFO:interface:stdout 2014-11-07T13:20:52.500356:\n"
       ]
      },
      {
       "output_type": "stream",
       "stream": "stderr",
       "text": [
        "INFO:interface:stdout 2014-11-07T13:20:52.500356:Log directory was: stats\n"
       ]
      },
      {
       "output_type": "stream",
       "stream": "stderr",
       "text": [
        "INFO:workflow:Executing node in_limbo_mapper.a0 in dir: /home/gdholla1/workflow_folders/in_limbo_level2_birte_fsl/_threshold_2.3/in_limbo_mapper\n"
       ]
      },
      {
       "output_type": "stream",
       "stream": "stderr",
       "text": [
        "INFO:workflow:Executing node flameo.a2 in dir: /home/gdholla1/workflow_folders/in_limbo_level2_birte_fsl/in_limbo_mixedfx/_threshold_3.7/flameo\n"
       ]
      },
      {
       "output_type": "stream",
       "stream": "stderr",
       "text": [
        "INFO:workflow:Executing node _flameo0 in dir: /home/gdholla1/workflow_folders/in_limbo_level2_birte_fsl/in_limbo_mixedfx/_threshold_3.7/flameo/mapflow/_flameo0\n"
       ]
      },
      {
       "output_type": "stream",
       "stream": "stderr",
       "text": [
        "INFO:workflow:Running: flameo --copefile=/home/gdholla1/workflow_folders/in_limbo_level2_birte_fsl/in_limbo_mixedfx/_threshold_3.7/copemerge/mapflow/_copemerge0/cope_in_limbo_merged.nii.gz --covsplitfile=/home/gdholla1/workflow_folders/in_limbo_level2_birte_fsl/in_limbo_mixedfx/l2model/design.grp --designfile=/home/gdholla1/workflow_folders/in_limbo_level2_birte_fsl/in_limbo_mixedfx/l2model/design.mat --dofvarcopefile=/home/gdholla1/workflow_folders/in_limbo_level2_birte_fsl/in_limbo_mixedfx/_threshold_3.7/gendofvolume/dof_file.nii.gz --ld=stats --maskfile=/usr/share/fsl/data/standard/MNI152_T1_2mm_brain_mask.nii.gz --runmode=fe --tcontrastsfile=/home/gdholla1/workflow_folders/in_limbo_level2_birte_fsl/in_limbo_mixedfx/l2model/design.con --varcopefile=/home/gdholla1/workflow_folders/in_limbo_level2_birte_fsl/in_limbo_mixedfx/varcopemerge/mapflow/_varcopemerge0/varcope1_merged.nii.gz\n"
       ]
      },
      {
       "output_type": "stream",
       "stream": "stderr",
       "text": [
        "INFO:interface:stdout 2014-11-07T13:20:52.872645:Log directory is: stats\n"
       ]
      },
      {
       "output_type": "stream",
       "stream": "stderr",
       "text": [
        "INFO:interface:stdout 2014-11-07T13:20:52.873650:Setting up:\n"
       ]
      },
      {
       "output_type": "stream",
       "stream": "stderr",
       "text": [
        "INFO:interface:stdout 2014-11-07T13:20:54.509790:ntptsing=21.000000 \n"
       ]
      },
      {
       "output_type": "stream",
       "stream": "stderr",
       "text": [
        "INFO:interface:stdout 2014-11-07T13:20:54.509790:\n"
       ]
      },
      {
       "output_type": "stream",
       "stream": "stderr",
       "text": [
        "INFO:interface:stdout 2014-11-07T13:20:54.509790:evs_group=1.000000 \n"
       ]
      },
      {
       "output_type": "stream",
       "stream": "stderr",
       "text": [
        "INFO:interface:stdout 2014-11-07T13:20:54.509790:\n"
       ]
      },
      {
       "output_type": "stream",
       "stream": "stderr",
       "text": [
        "INFO:interface:stdout 2014-11-07T13:20:54.512412:No f contrasts\n"
       ]
      },
      {
       "output_type": "stream",
       "stream": "stderr",
       "text": [
        "INFO:interface:stdout 2014-11-07T13:20:54.597241:\n"
       ]
      },
      {
       "output_type": "stream",
       "stream": "stderr",
       "text": [
        "INFO:interface:stdout 2014-11-07T13:20:54.597241:WARNING: The passed in varcope file, /home/gdholla1/workflow_folders/in_limbo_level2_birte_fsl/in_limbo_mixedfx/varcopemerge/mapflow/_varcopemerge0/varcope1_merged.nii.gz, contains voxels inside the mask with zero (or negative) values. These voxels will be excluded from the analysis.\n"
       ]
      },
      {
       "output_type": "stream",
       "stream": "stderr",
       "text": [
        "INFO:interface:stdout 2014-11-07T13:20:54.607348:nevs=1\n"
       ]
      },
      {
       "output_type": "stream",
       "stream": "stderr",
       "text": [
        "INFO:interface:stdout 2014-11-07T13:20:54.607348:ntpts=21\n"
       ]
      },
      {
       "output_type": "stream",
       "stream": "stderr",
       "text": [
        "INFO:interface:stdout 2014-11-07T13:20:54.607348:ngs=1\n"
       ]
      },
      {
       "output_type": "stream",
       "stream": "stderr",
       "text": [
        "INFO:interface:stdout 2014-11-07T13:20:54.607348:nvoxels=206599\n"
       ]
      },
      {
       "output_type": "stream",
       "stream": "stderr",
       "text": [
        "INFO:interface:stdout 2014-11-07T13:20:54.952321:Running:\n"
       ]
      },
      {
       "output_type": "stream",
       "stream": "stderr",
       "text": [
        "INFO:interface:stdout 2014-11-07T13:20:54.952321:nmaskvoxels=206599\n"
       ]
      },
      {
       "output_type": "stream",
       "stream": "stderr",
       "text": [
        "INFO:interface:stdout 2014-11-07T13:20:57.499002: 1 2 3 4 5 6 7 8 9 10 11 12 13 14 15 16 17 18 19 20 21 22 23 24 25 26 27 28 29 30 31 32 33 34 35 36 37 38 39 40 41 42 43 44 45 46 47 48 49 50 51 52 53 54 55 56 57 58 59 60 61 62 63 64 65 66 67 68 69 70 71 72 73 74 75 76 77 78 79 80 81 82 83 84 85 86 87 88 89 90 91 92 93 94 95 96 97 98 99 100\n"
       ]
      },
      {
       "output_type": "stream",
       "stream": "stderr",
       "text": [
        "INFO:interface:stdout 2014-11-07T13:20:57.499002:Saving results\n"
       ]
      },
      {
       "output_type": "stream",
       "stream": "stderr",
       "text": [
        "INFO:interface:stdout 2014-11-07T13:21:01.919878:\n"
       ]
      },
      {
       "output_type": "stream",
       "stream": "stderr",
       "text": [
        "INFO:interface:stdout 2014-11-07T13:21:01.919878:Log directory was: stats\n"
       ]
      },
      {
       "output_type": "stream",
       "stream": "stderr",
       "text": [
        "INFO:workflow:Executing node in_limbo_mapper.a2 in dir: /home/gdholla1/workflow_folders/in_limbo_level2_birte_fsl/_threshold_3.7/in_limbo_mapper\n"
       ]
      },
      {
       "output_type": "stream",
       "stream": "stderr",
       "text": [
        "INFO:workflow:Executing node flameo.a1 in dir: /home/gdholla1/workflow_folders/in_limbo_level2_birte_fsl/in_limbo_mixedfx/_threshold_3.1/flameo\n"
       ]
      },
      {
       "output_type": "stream",
       "stream": "stderr",
       "text": [
        "INFO:workflow:Executing node _flameo0 in dir: /home/gdholla1/workflow_folders/in_limbo_level2_birte_fsl/in_limbo_mixedfx/_threshold_3.1/flameo/mapflow/_flameo0\n"
       ]
      },
      {
       "output_type": "stream",
       "stream": "stderr",
       "text": [
        "INFO:workflow:Running: flameo --copefile=/home/gdholla1/workflow_folders/in_limbo_level2_birte_fsl/in_limbo_mixedfx/_threshold_3.1/copemerge/mapflow/_copemerge0/cope_in_limbo_merged.nii.gz --covsplitfile=/home/gdholla1/workflow_folders/in_limbo_level2_birte_fsl/in_limbo_mixedfx/l2model/design.grp --designfile=/home/gdholla1/workflow_folders/in_limbo_level2_birte_fsl/in_limbo_mixedfx/l2model/design.mat --dofvarcopefile=/home/gdholla1/workflow_folders/in_limbo_level2_birte_fsl/in_limbo_mixedfx/_threshold_3.1/gendofvolume/dof_file.nii.gz --ld=stats --maskfile=/usr/share/fsl/data/standard/MNI152_T1_2mm_brain_mask.nii.gz --runmode=fe --tcontrastsfile=/home/gdholla1/workflow_folders/in_limbo_level2_birte_fsl/in_limbo_mixedfx/l2model/design.con --varcopefile=/home/gdholla1/workflow_folders/in_limbo_level2_birte_fsl/in_limbo_mixedfx/varcopemerge/mapflow/_varcopemerge0/varcope1_merged.nii.gz\n"
       ]
      },
      {
       "output_type": "stream",
       "stream": "stderr",
       "text": [
        "INFO:interface:stdout 2014-11-07T13:21:02.283602:Log directory is: stats\n"
       ]
      },
      {
       "output_type": "stream",
       "stream": "stderr",
       "text": [
        "INFO:interface:stdout 2014-11-07T13:21:02.284864:Setting up:\n"
       ]
      },
      {
       "output_type": "stream",
       "stream": "stderr",
       "text": [
        "INFO:interface:stdout 2014-11-07T13:21:04.157369:ntptsing=21.000000 \n"
       ]
      },
      {
       "output_type": "stream",
       "stream": "stderr",
       "text": [
        "INFO:interface:stdout 2014-11-07T13:21:04.157369:\n"
       ]
      },
      {
       "output_type": "stream",
       "stream": "stderr",
       "text": [
        "INFO:interface:stdout 2014-11-07T13:21:04.157369:evs_group=1.000000 \n"
       ]
      },
      {
       "output_type": "stream",
       "stream": "stderr",
       "text": [
        "INFO:interface:stdout 2014-11-07T13:21:04.157369:\n"
       ]
      },
      {
       "output_type": "stream",
       "stream": "stderr",
       "text": [
        "INFO:interface:stdout 2014-11-07T13:21:04.159575:No f contrasts\n"
       ]
      },
      {
       "output_type": "stream",
       "stream": "stderr",
       "text": [
        "INFO:interface:stdout 2014-11-07T13:21:04.324066:\n"
       ]
      },
      {
       "output_type": "stream",
       "stream": "stderr",
       "text": [
        "INFO:interface:stdout 2014-11-07T13:21:04.324066:WARNING: The passed in varcope file, /home/gdholla1/workflow_folders/in_limbo_level2_birte_fsl/in_limbo_mixedfx/varcopemerge/mapflow/_varcopemerge0/varcope1_merged.nii.gz, contains voxels inside the mask with zero (or negative) values. These voxels will be excluded from the analysis.\n"
       ]
      },
      {
       "output_type": "stream",
       "stream": "stderr",
       "text": [
        "INFO:interface:stdout 2014-11-07T13:21:04.333570:nevs=1\n"
       ]
      },
      {
       "output_type": "stream",
       "stream": "stderr",
       "text": [
        "INFO:interface:stdout 2014-11-07T13:21:04.333570:ntpts=21\n"
       ]
      },
      {
       "output_type": "stream",
       "stream": "stderr",
       "text": [
        "INFO:interface:stdout 2014-11-07T13:21:04.333570:ngs=1\n"
       ]
      },
      {
       "output_type": "stream",
       "stream": "stderr",
       "text": [
        "INFO:interface:stdout 2014-11-07T13:21:04.333570:nvoxels=206599\n"
       ]
      },
      {
       "output_type": "stream",
       "stream": "stderr",
       "text": [
        "INFO:interface:stdout 2014-11-07T13:21:04.453537:Running:\n"
       ]
      },
      {
       "output_type": "stream",
       "stream": "stderr",
       "text": [
        "INFO:interface:stdout 2014-11-07T13:21:04.454262:nmaskvoxels=206599\n"
       ]
      },
      {
       "output_type": "stream",
       "stream": "stderr",
       "text": [
        "INFO:interface:stdout 2014-11-07T13:21:06.706512: 1 2 3 4 5 6 7 8 9 10 11 12 13 14 15 16 17 18 19 20 21 22 23 24 25 26 27 28 29 30 31 32 33 34 35 36 37 38 39 40 41 42 43 44 45 46 47 48 49 50 51 52 53 54 55 56 57 58 59 60 61 62 63 64 65 66 67 68 69 70 71 72 73 74 75 76 77 78 79 80 81 82 83 84 85 86 87 88 89 90 91 92 93 94 95 96 97 98 99 100\n"
       ]
      },
      {
       "output_type": "stream",
       "stream": "stderr",
       "text": [
        "INFO:interface:stdout 2014-11-07T13:21:06.706512:Saving results\n"
       ]
      },
      {
       "output_type": "stream",
       "stream": "stderr",
       "text": [
        "INFO:interface:stdout 2014-11-07T13:21:10.689647:\n"
       ]
      },
      {
       "output_type": "stream",
       "stream": "stderr",
       "text": [
        "INFO:interface:stdout 2014-11-07T13:21:10.689647:Log directory was: stats\n"
       ]
      },
      {
       "output_type": "stream",
       "stream": "stderr",
       "text": [
        "INFO:workflow:Executing node in_limbo_mapper.a1 in dir: /home/gdholla1/workflow_folders/in_limbo_level2_birte_fsl/_threshold_3.1/in_limbo_mapper\n"
       ]
      },
      {
       "metadata": {},
       "output_type": "pyout",
       "prompt_number": 172,
       "text": [
        "<networkx.classes.digraph.DiGraph at 0x8fa5350>"
       ]
      }
     ],
     "prompt_number": 172
    },
    {
     "cell_type": "code",
     "collapsed": false,
     "input": [
      "\n",
      "in_limbo = nb.load('/home/gdholla1/workflow_folders/in_limbo_level2_birte_fsl/in_limbo_mapper/in_limbo.nii.gz').get_data()"
     ],
     "language": "python",
     "metadata": {},
     "outputs": [],
     "prompt_number": 173
    },
    {
     "cell_type": "code",
     "collapsed": false,
     "input": [
      "import seaborn as sns\n",
      "palette = sns.blend_palette([\"seagreen\", \"lightblue\"]);\n",
      "\n",
      "sns.set_style('white')"
     ],
     "language": "python",
     "metadata": {},
     "outputs": [],
     "prompt_number": 174
    },
    {
     "cell_type": "code",
     "collapsed": false,
     "input": [
      "x_slice = 41\n",
      "y_slice = 49\n",
      "z_slice = 31\n",
      "\n",
      "\n",
      "for threshold in [2.3, 3.1, 3.7]:\n",
      "    in_limbo = nb.load('/home/gdholla1/workflow_folders/in_limbo_level2_birte_fsl/_threshold_%s/in_limbo_mapper/in_limbo.nii.gz' % threshold).get_data()\n",
      "    z_map = nb.load('/home/gdholla1/workflow_folders/in_limbo_level2_birte_fsl/_threshold_%s/cluster/zstat1_threshold.nii.gz' % threshold).get_data()\n",
      "    brain = nb.load('/usr/share/fsl/data/standard/MNI152_T1_2mm_brain.nii.gz').get_data()\n",
      "    \n",
      "    z_map = np.ma.masked_less_equal(z_map, 0)\n",
      "    in_limbo = np.ma.masked_less_equal(in_limbo, 0)\n",
      "    \n",
      "    plt.figure(figsize=(20, 5))\n",
      "    plt.suptitle('z > %s' % threshold, fontsize=25)\n",
      "    plt.subplot(131)\n",
      "    plt.imshow(brain[x_slice, :, :].T, origin='lower', cmap=plt.cm.gray)\n",
      "    plt.imshow(z_map[x_slice, :, :].T, origin='lower', cmap=plt.cm.hot)\n",
      "    plt.imshow(in_limbo[x_slice, :, :].T, origin='lower', cmap=plt.cm.Blues_r)\n",
      "    plt.axis('off')   \n",
      "    \n",
      "    plt.subplot(132)\n",
      "    plt.imshow(brain[:, y_slice, :].T, origin='lower', cmap=plt.cm.gray)\n",
      "    plt.imshow(z_map[:, y_slice, :].T, origin='lower', cmap=plt.cm.hot)\n",
      "    plt.imshow(in_limbo[:, y_slice, :].T, origin='lower', cmap=plt.cm.Blues_r)\n",
      "    plt.axis('off')    \n",
      "    \n",
      "    plt.subplot(133)\n",
      "    plt.imshow(brain[:, :, z_slice].T, origin='lower', cmap=plt.cm.gray)\n",
      "    plt.imshow(z_map[:, :, z_slice].T, origin='lower', cmap=plt.cm.hot)\n",
      "    plt.axis('off')\n"
     ],
     "language": "python",
     "metadata": {},
     "outputs": [
      {
       "metadata": {},
       "output_type": "display_data",
       "png": "[encoded data removed]",
       "text": [
        "<matplotlib.figure.Figure at 0xc9df050>"
       ]
      },
      {
       "metadata": {},
       "output_type": "display_data",
       "png": "[encoded data removed]",
       "text": [
        "<matplotlib.figure.Figure at 0xaf592d0>"
       ]
      },
      {
       "metadata": {},
       "output_type": "display_data",
       "png": "[encoded data removed]",
       "text": [
        "<matplotlib.figure.Figure at 0xfea1910>"
       ]
      }
     ],
     "prompt_number": 175
    }
   ],
   "metadata": {}
  }
 ]
}